{
 "cells": [
  {
   "cell_type": "markdown",
   "id": "d13beb46",
   "metadata": {},
   "source": [
    "## Practicing Supervised Regression and Classification Algorithms\n",
    "### Random Forest, Gradient Boosting, Xtreme Gradient Boosting and Support Vector Machine(SVM)"
   ]
  },
  {
   "cell_type": "markdown",
   "id": "de4600f3-fd4c-4cdb-a274-79b79c05c6e1",
   "metadata": {
    "tags": []
   },
   "source": [
    "### Problem Statement\n",
    "The data set of 10,000 students who enrolled in an online course (MOOC) is given. It contains several attributes related to the events/activities on the\n",
    "course portal. It also has a ground truth or label called “dropout”. Build the models to predict and analyze which student may continue the course till the end (dropout=0) and which student may discontinue the course (dropout=1).\n",
    "Details of Attributes: (File: student_dropout.csv)\n",
    "1) n_events_lst_wk: Number of events in the last week\n",
    "2) days_course_strt_access1: Number of days between the end of the course and the last day of access of the course material\n",
    "3) n_access_lst2_wk: Number of accesses in the last two weeks\n",
    "4) n_events: Total number of events\n",
    "5) unique_days_accessed: The number of unique days accessed\n",
    "6) n_access: Total number of accesses till the prediction time\n",
    "7) n_access_lst_wk: Total number of accesses in the last week\n",
    "8) n_navigate: Total number of page navigations\n",
    "9) n_page_close: Total number of page closes\n",
    "10) n_problem: Total number of problems solved\n",
    "11) n_videos: Total number of videos watched\n",
    "12) days_course_end_access_lst: From the start date of the course, after how many days a student accessed course content\n",
    "13) n_discussion: Total number of discussions on forum\n",
    "14) n_wiki: Total number of wiki views\n",
    "- Analyze the data\n",
    "    - Find out if there are any attributes with correlation more than 0.50\n",
    "    - Visualize the attributes using – Kernel density estimation (KDE/Histogram plots) or other relevant plots – Write down your observations\n",
    "- Curate the data (if required)\n",
    "    - Identify the missing values and fill them with an appropriate method, if there are any missing values\n",
    "- Build classifiers/models using Random Forest, GBM, XGBOOST and SVM.\n",
    "    - Build the model & Perform 5-fold cross validation\n",
    "    - Evaluate the model using accuracy, confusion matrix, precision, recall and F1\n",
    "    - Compare the performance of all the models against test data (choose an appropriate train and test ratio)\n",
    "    - Perform hyper-parameter tuning\n",
    "- Identify the top 5 important predictors and visualize the importance scores\n",
    "- Analyze the results\n",
    "\n",
    "- NOTE: Use less number of samples if your machine does not have enough resources."
   ]
  },
  {
   "cell_type": "code",
   "execution_count": 1,
   "id": "cf56642a",
   "metadata": {},
   "outputs": [],
   "source": [
    "# Importing necessary libraries:\n",
    "import pandas as pd\n",
    "import numpy as np\n",
    "import matplotlib.pyplot as plt\n",
    "import seaborn as sns\n",
    "from sklearn.model_selection import train_test_split\n",
    "from sklearn.preprocessing import RobustScaler\n",
    "from sklearn.ensemble import RandomForestClassifier, GradientBoostingClassifier\n",
    "from xgboost import XGBClassifier\n",
    "from sklearn.svm import SVC\n",
    "from sklearn.model_selection import cross_val_predict\n",
    "from sklearn.metrics import accuracy_score, precision_score, recall_score, f1_score, confusion_matrix\n",
    "from sklearn.model_selection import GridSearchCV"
   ]
  },
  {
   "cell_type": "code",
   "execution_count": 2,
   "id": "9bdc30c3",
   "metadata": {},
   "outputs": [],
   "source": [
    "# Reading the dataset:\n",
    "df = pd.read_csv(\"student_dropout.csv\")"
   ]
  },
  {
   "cell_type": "code",
   "execution_count": 3,
   "id": "27663479",
   "metadata": {},
   "outputs": [
    {
     "data": {
      "text/html": [
       "<div>\n",
       "<style scoped>\n",
       "    .dataframe tbody tr th:only-of-type {\n",
       "        vertical-align: middle;\n",
       "    }\n",
       "\n",
       "    .dataframe tbody tr th {\n",
       "        vertical-align: top;\n",
       "    }\n",
       "\n",
       "    .dataframe thead th {\n",
       "        text-align: right;\n",
       "    }\n",
       "</style>\n",
       "<table border=\"1\" class=\"dataframe\">\n",
       "  <thead>\n",
       "    <tr style=\"text-align: right;\">\n",
       "      <th></th>\n",
       "      <th>student_id</th>\n",
       "      <th>n_videos</th>\n",
       "      <th>n_navigate</th>\n",
       "      <th>n_access</th>\n",
       "      <th>n_problem</th>\n",
       "      <th>n_page_close</th>\n",
       "      <th>n_discussion</th>\n",
       "      <th>n_wiki</th>\n",
       "      <th>n_events</th>\n",
       "      <th>n_events_lst_wk</th>\n",
       "      <th>n_access_lst_wk</th>\n",
       "      <th>n_access_lst2_wk</th>\n",
       "      <th>days_course_strt_access1</th>\n",
       "      <th>days_course_end_access_lst</th>\n",
       "      <th>unique_days_accessed</th>\n",
       "      <th>dropout</th>\n",
       "    </tr>\n",
       "  </thead>\n",
       "  <tbody>\n",
       "    <tr>\n",
       "      <th>0</th>\n",
       "      <td>1.0</td>\n",
       "      <td>29</td>\n",
       "      <td>25</td>\n",
       "      <td>107</td>\n",
       "      <td>87</td>\n",
       "      <td>66</td>\n",
       "      <td>0</td>\n",
       "      <td>0</td>\n",
       "      <td>314</td>\n",
       "      <td>111</td>\n",
       "      <td>34</td>\n",
       "      <td>87</td>\n",
       "      <td>2.0</td>\n",
       "      <td>0.0</td>\n",
       "      <td>14</td>\n",
       "      <td>0</td>\n",
       "    </tr>\n",
       "    <tr>\n",
       "      <th>1</th>\n",
       "      <td>3.0</td>\n",
       "      <td>9</td>\n",
       "      <td>14</td>\n",
       "      <td>79</td>\n",
       "      <td>148</td>\n",
       "      <td>22</td>\n",
       "      <td>26</td>\n",
       "      <td>0</td>\n",
       "      <td>298</td>\n",
       "      <td>95</td>\n",
       "      <td>28</td>\n",
       "      <td>43</td>\n",
       "      <td>0.0</td>\n",
       "      <td>1.0</td>\n",
       "      <td>9</td>\n",
       "      <td>0</td>\n",
       "    </tr>\n",
       "    <tr>\n",
       "      <th>2</th>\n",
       "      <td>4.0</td>\n",
       "      <td>4</td>\n",
       "      <td>15</td>\n",
       "      <td>64</td>\n",
       "      <td>6</td>\n",
       "      <td>10</td>\n",
       "      <td>0</td>\n",
       "      <td>0</td>\n",
       "      <td>99</td>\n",
       "      <td>0</td>\n",
       "      <td>0</td>\n",
       "      <td>14</td>\n",
       "      <td>3.0</td>\n",
       "      <td>9.0</td>\n",
       "      <td>9</td>\n",
       "      <td>0</td>\n",
       "    </tr>\n",
       "    <tr>\n",
       "      <th>3</th>\n",
       "      <td>5.0</td>\n",
       "      <td>86</td>\n",
       "      <td>30</td>\n",
       "      <td>226</td>\n",
       "      <td>189</td>\n",
       "      <td>87</td>\n",
       "      <td>34</td>\n",
       "      <td>0</td>\n",
       "      <td>652</td>\n",
       "      <td>197</td>\n",
       "      <td>63</td>\n",
       "      <td>83</td>\n",
       "      <td>2.0</td>\n",
       "      <td>0.0</td>\n",
       "      <td>11</td>\n",
       "      <td>0</td>\n",
       "    </tr>\n",
       "    <tr>\n",
       "      <th>4</th>\n",
       "      <td>6.0</td>\n",
       "      <td>2</td>\n",
       "      <td>5</td>\n",
       "      <td>12</td>\n",
       "      <td>2</td>\n",
       "      <td>2</td>\n",
       "      <td>0</td>\n",
       "      <td>0</td>\n",
       "      <td>23</td>\n",
       "      <td>23</td>\n",
       "      <td>12</td>\n",
       "      <td>12</td>\n",
       "      <td>27.0</td>\n",
       "      <td>1.0</td>\n",
       "      <td>2</td>\n",
       "      <td>0</td>\n",
       "    </tr>\n",
       "  </tbody>\n",
       "</table>\n",
       "</div>"
      ],
      "text/plain": [
       "   student_id  n_videos  n_navigate  n_access  n_problem  n_page_close  \\\n",
       "0         1.0        29          25       107         87            66   \n",
       "1         3.0         9          14        79        148            22   \n",
       "2         4.0         4          15        64          6            10   \n",
       "3         5.0        86          30       226        189            87   \n",
       "4         6.0         2           5        12          2             2   \n",
       "\n",
       "   n_discussion  n_wiki  n_events  n_events_lst_wk  n_access_lst_wk  \\\n",
       "0             0       0       314              111               34   \n",
       "1            26       0       298               95               28   \n",
       "2             0       0        99                0                0   \n",
       "3            34       0       652              197               63   \n",
       "4             0       0        23               23               12   \n",
       "\n",
       "   n_access_lst2_wk  days_course_strt_access1  days_course_end_access_lst  \\\n",
       "0                87                       2.0                         0.0   \n",
       "1                43                       0.0                         1.0   \n",
       "2                14                       3.0                         9.0   \n",
       "3                83                       2.0                         0.0   \n",
       "4                12                      27.0                         1.0   \n",
       "\n",
       "   unique_days_accessed  dropout  \n",
       "0                    14        0  \n",
       "1                     9        0  \n",
       "2                     9        0  \n",
       "3                    11        0  \n",
       "4                     2        0  "
      ]
     },
     "execution_count": 3,
     "metadata": {},
     "output_type": "execute_result"
    }
   ],
   "source": [
    "# Top 5 records:\n",
    "df.head()"
   ]
  },
  {
   "cell_type": "code",
   "execution_count": 4,
   "id": "ff411686",
   "metadata": {},
   "outputs": [
    {
     "data": {
      "text/plain": [
       "(9999, 16)"
      ]
     },
     "execution_count": 4,
     "metadata": {},
     "output_type": "execute_result"
    }
   ],
   "source": [
    "# Shape\n",
    "df.shape"
   ]
  },
  {
   "cell_type": "code",
   "execution_count": 5,
   "id": "79239952",
   "metadata": {},
   "outputs": [
    {
     "data": {
      "text/plain": [
       "1    5432\n",
       "0    4567\n",
       "Name: dropout, dtype: int64"
      ]
     },
     "execution_count": 5,
     "metadata": {},
     "output_type": "execute_result"
    }
   ],
   "source": [
    "# Target data\n",
    "df[\"dropout\"].value_counts()"
   ]
  },
  {
   "cell_type": "code",
   "execution_count": 6,
   "id": "1409a727",
   "metadata": {},
   "outputs": [
    {
     "data": {
      "image/png": "[encoded data removed]",
      "text/plain": [
       "<Figure size 432x288 with 1 Axes>"
      ]
     },
     "metadata": {
      "needs_background": "light"
     },
     "output_type": "display_data"
    }
   ],
   "source": [
    "colors = [\"#0101DF\", \"#DF0101\"]\n",
    "\n",
    "sns.countplot(x='dropout', data=df, palette=colors)\n",
    "plt.title('Class Distributions \\n (0: Not Dropout || 1: Dropout)', fontsize=14)\n",
    "plt.show()"
   ]
  },
  {
   "cell_type": "markdown",
   "id": "95f25055",
   "metadata": {},
   "source": [
    "- Our dataset is **Balanced.**"
   ]
  },
  {
   "cell_type": "code",
   "execution_count": 7,
   "id": "43938905",
   "metadata": {},
   "outputs": [
    {
     "data": {
      "text/plain": [
       "9998"
      ]
     },
     "execution_count": 7,
     "metadata": {},
     "output_type": "execute_result"
    }
   ],
   "source": [
    "# TOtal number of unique values in \"student_id\" feature:\n",
    "df[\"student_id\"].nunique()"
   ]
  },
  {
   "cell_type": "markdown",
   "id": "2bb4fd9d",
   "metadata": {},
   "source": [
    "- As \"student_id\" feature is just id of each students. It's not relevant for predicting whether the student dropped or not. So we remove this feature. "
   ]
  },
  {
   "cell_type": "code",
   "execution_count": 8,
   "id": "eed64cce",
   "metadata": {},
   "outputs": [],
   "source": [
    "# Removing \"student_id\" feature:\n",
    "df.drop(\"student_id\", axis=1, inplace=True)"
   ]
  },
  {
   "cell_type": "code",
   "execution_count": 9,
   "id": "416a1f69",
   "metadata": {},
   "outputs": [
    {
     "data": {
      "text/plain": [
       "n_videos                        int64\n",
       "n_navigate                      int64\n",
       "n_access                        int64\n",
       "n_problem                       int64\n",
       "n_page_close                    int64\n",
       "n_discussion                    int64\n",
       "n_wiki                          int64\n",
       "n_events                        int64\n",
       "n_events_lst_wk                 int64\n",
       "n_access_lst_wk                 int64\n",
       "n_access_lst2_wk                int64\n",
       "days_course_strt_access1      float64\n",
       "days_course_end_access_lst    float64\n",
       "unique_days_accessed            int64\n",
       "dropout                         int64\n",
       "dtype: object"
      ]
     },
     "execution_count": 9,
     "metadata": {},
     "output_type": "execute_result"
    }
   ],
   "source": [
    "# Datatypes:\n",
    "df.dtypes"
   ]
  },
  {
   "cell_type": "code",
   "execution_count": 10,
   "id": "7838c762",
   "metadata": {},
   "outputs": [
    {
     "data": {
      "text/html": [
       "<div>\n",
       "<style scoped>\n",
       "    .dataframe tbody tr th:only-of-type {\n",
       "        vertical-align: middle;\n",
       "    }\n",
       "\n",
       "    .dataframe tbody tr th {\n",
       "        vertical-align: top;\n",
       "    }\n",
       "\n",
       "    .dataframe thead th {\n",
       "        text-align: right;\n",
       "    }\n",
       "</style>\n",
       "<table border=\"1\" class=\"dataframe\">\n",
       "  <thead>\n",
       "    <tr style=\"text-align: right;\">\n",
       "      <th></th>\n",
       "      <th>n_videos</th>\n",
       "      <th>n_navigate</th>\n",
       "      <th>n_access</th>\n",
       "      <th>n_problem</th>\n",
       "      <th>n_page_close</th>\n",
       "      <th>n_discussion</th>\n",
       "      <th>n_wiki</th>\n",
       "      <th>n_events</th>\n",
       "      <th>n_events_lst_wk</th>\n",
       "      <th>n_access_lst_wk</th>\n",
       "      <th>n_access_lst2_wk</th>\n",
       "      <th>days_course_strt_access1</th>\n",
       "      <th>days_course_end_access_lst</th>\n",
       "      <th>unique_days_accessed</th>\n",
       "      <th>dropout</th>\n",
       "    </tr>\n",
       "  </thead>\n",
       "  <tbody>\n",
       "    <tr>\n",
       "      <th>count</th>\n",
       "      <td>9999.000000</td>\n",
       "      <td>9999.000000</td>\n",
       "      <td>9999.000000</td>\n",
       "      <td>9999.000000</td>\n",
       "      <td>9999.000000</td>\n",
       "      <td>9999.000000</td>\n",
       "      <td>9999.000000</td>\n",
       "      <td>9999.000000</td>\n",
       "      <td>9999.000000</td>\n",
       "      <td>9999.000000</td>\n",
       "      <td>9999.000000</td>\n",
       "      <td>9012.000000</td>\n",
       "      <td>9012.000000</td>\n",
       "      <td>9999.000000</td>\n",
       "      <td>9999.000000</td>\n",
       "    </tr>\n",
       "    <tr>\n",
       "      <th>mean</th>\n",
       "      <td>16.280728</td>\n",
       "      <td>18.601160</td>\n",
       "      <td>67.129513</td>\n",
       "      <td>29.416742</td>\n",
       "      <td>26.039904</td>\n",
       "      <td>19.273927</td>\n",
       "      <td>1.781178</td>\n",
       "      <td>178.523152</td>\n",
       "      <td>43.513151</td>\n",
       "      <td>17.100510</td>\n",
       "      <td>33.299030</td>\n",
       "      <td>6.626165</td>\n",
       "      <td>8.291944</td>\n",
       "      <td>5.807781</td>\n",
       "      <td>0.543254</td>\n",
       "    </tr>\n",
       "    <tr>\n",
       "      <th>std</th>\n",
       "      <td>24.768973</td>\n",
       "      <td>23.119335</td>\n",
       "      <td>91.105147</td>\n",
       "      <td>61.989938</td>\n",
       "      <td>34.125782</td>\n",
       "      <td>100.492000</td>\n",
       "      <td>8.513437</td>\n",
       "      <td>258.436187</td>\n",
       "      <td>81.036240</td>\n",
       "      <td>31.339844</td>\n",
       "      <td>53.167982</td>\n",
       "      <td>7.568175</td>\n",
       "      <td>8.787298</td>\n",
       "      <td>4.988550</td>\n",
       "      <td>0.498150</td>\n",
       "    </tr>\n",
       "    <tr>\n",
       "      <th>min</th>\n",
       "      <td>0.000000</td>\n",
       "      <td>0.000000</td>\n",
       "      <td>0.000000</td>\n",
       "      <td>0.000000</td>\n",
       "      <td>0.000000</td>\n",
       "      <td>0.000000</td>\n",
       "      <td>0.000000</td>\n",
       "      <td>1.000000</td>\n",
       "      <td>0.000000</td>\n",
       "      <td>0.000000</td>\n",
       "      <td>0.000000</td>\n",
       "      <td>0.000000</td>\n",
       "      <td>0.000000</td>\n",
       "      <td>1.000000</td>\n",
       "      <td>0.000000</td>\n",
       "    </tr>\n",
       "    <tr>\n",
       "      <th>25%</th>\n",
       "      <td>1.000000</td>\n",
       "      <td>4.000000</td>\n",
       "      <td>8.000000</td>\n",
       "      <td>0.000000</td>\n",
       "      <td>2.000000</td>\n",
       "      <td>0.000000</td>\n",
       "      <td>0.000000</td>\n",
       "      <td>21.000000</td>\n",
       "      <td>0.000000</td>\n",
       "      <td>0.000000</td>\n",
       "      <td>0.000000</td>\n",
       "      <td>1.000000</td>\n",
       "      <td>1.000000</td>\n",
       "      <td>2.000000</td>\n",
       "      <td>0.000000</td>\n",
       "    </tr>\n",
       "    <tr>\n",
       "      <th>50%</th>\n",
       "      <td>7.000000</td>\n",
       "      <td>12.000000</td>\n",
       "      <td>39.000000</td>\n",
       "      <td>8.000000</td>\n",
       "      <td>12.000000</td>\n",
       "      <td>1.000000</td>\n",
       "      <td>0.000000</td>\n",
       "      <td>101.000000</td>\n",
       "      <td>7.000000</td>\n",
       "      <td>3.000000</td>\n",
       "      <td>13.000000</td>\n",
       "      <td>4.000000</td>\n",
       "      <td>4.000000</td>\n",
       "      <td>4.000000</td>\n",
       "      <td>1.000000</td>\n",
       "    </tr>\n",
       "    <tr>\n",
       "      <th>75%</th>\n",
       "      <td>22.000000</td>\n",
       "      <td>25.000000</td>\n",
       "      <td>91.000000</td>\n",
       "      <td>31.000000</td>\n",
       "      <td>39.000000</td>\n",
       "      <td>12.000000</td>\n",
       "      <td>1.000000</td>\n",
       "      <td>240.000000</td>\n",
       "      <td>59.000000</td>\n",
       "      <td>23.000000</td>\n",
       "      <td>48.000000</td>\n",
       "      <td>10.000000</td>\n",
       "      <td>14.000000</td>\n",
       "      <td>9.000000</td>\n",
       "      <td>1.000000</td>\n",
       "    </tr>\n",
       "    <tr>\n",
       "      <th>max</th>\n",
       "      <td>399.000000</td>\n",
       "      <td>649.000000</td>\n",
       "      <td>2163.000000</td>\n",
       "      <td>948.000000</td>\n",
       "      <td>400.000000</td>\n",
       "      <td>4360.000000</td>\n",
       "      <td>554.000000</td>\n",
       "      <td>5289.000000</td>\n",
       "      <td>1554.000000</td>\n",
       "      <td>655.000000</td>\n",
       "      <td>1099.000000</td>\n",
       "      <td>29.000000</td>\n",
       "      <td>29.000000</td>\n",
       "      <td>30.000000</td>\n",
       "      <td>1.000000</td>\n",
       "    </tr>\n",
       "  </tbody>\n",
       "</table>\n",
       "</div>"
      ],
      "text/plain": [
       "          n_videos   n_navigate     n_access    n_problem  n_page_close  \\\n",
       "count  9999.000000  9999.000000  9999.000000  9999.000000   9999.000000   \n",
       "mean     16.280728    18.601160    67.129513    29.416742     26.039904   \n",
       "std      24.768973    23.119335    91.105147    61.989938     34.125782   \n",
       "min       0.000000     0.000000     0.000000     0.000000      0.000000   \n",
       "25%       1.000000     4.000000     8.000000     0.000000      2.000000   \n",
       "50%       7.000000    12.000000    39.000000     8.000000     12.000000   \n",
       "75%      22.000000    25.000000    91.000000    31.000000     39.000000   \n",
       "max     399.000000   649.000000  2163.000000   948.000000    400.000000   \n",
       "\n",
       "       n_discussion       n_wiki     n_events  n_events_lst_wk  \\\n",
       "count   9999.000000  9999.000000  9999.000000      9999.000000   \n",
       "mean      19.273927     1.781178   178.523152        43.513151   \n",
       "std      100.492000     8.513437   258.436187        81.036240   \n",
       "min        0.000000     0.000000     1.000000         0.000000   \n",
       "25%        0.000000     0.000000    21.000000         0.000000   \n",
       "50%        1.000000     0.000000   101.000000         7.000000   \n",
       "75%       12.000000     1.000000   240.000000        59.000000   \n",
       "max     4360.000000   554.000000  5289.000000      1554.000000   \n",
       "\n",
       "       n_access_lst_wk  n_access_lst2_wk  days_course_strt_access1  \\\n",
       "count      9999.000000       9999.000000               9012.000000   \n",
       "mean         17.100510         33.299030                  6.626165   \n",
       "std          31.339844         53.167982                  7.568175   \n",
       "min           0.000000          0.000000                  0.000000   \n",
       "25%           0.000000          0.000000                  1.000000   \n",
       "50%           3.000000         13.000000                  4.000000   \n",
       "75%          23.000000         48.000000                 10.000000   \n",
       "max         655.000000       1099.000000                 29.000000   \n",
       "\n",
       "       days_course_end_access_lst  unique_days_accessed      dropout  \n",
       "count                 9012.000000           9999.000000  9999.000000  \n",
       "mean                     8.291944              5.807781     0.543254  \n",
       "std                      8.787298              4.988550     0.498150  \n",
       "min                      0.000000              1.000000     0.000000  \n",
       "25%                      1.000000              2.000000     0.000000  \n",
       "50%                      4.000000              4.000000     1.000000  \n",
       "75%                     14.000000              9.000000     1.000000  \n",
       "max                     29.000000             30.000000     1.000000  "
      ]
     },
     "execution_count": 10,
     "metadata": {},
     "output_type": "execute_result"
    }
   ],
   "source": [
    "# Statistical Details:\n",
    "df.describe()"
   ]
  },
  {
   "cell_type": "markdown",
   "id": "7891c5cc",
   "metadata": {},
   "source": [
    "By above statistical analysis we conclude that,\n",
    "- Their are **missing values** present in dataset.\n",
    "- Their are **outliers** present in dataset."
   ]
  },
  {
   "cell_type": "code",
   "execution_count": 11,
   "id": "2f6343ee",
   "metadata": {},
   "outputs": [
    {
     "data": {
      "image/png": "[encoded data removed]",
      "text/plain": [
       "<Figure size 1296x576 with 2 Axes>"
      ]
     },
     "metadata": {
      "needs_background": "light"
     },
     "output_type": "display_data"
    }
   ],
   "source": [
    "# Correlation using Heatmap:\n",
    "plt.figure(figsize=(18,8))\n",
    "sns.heatmap(df.corr(), annot=True, cmap=\"YlGnBu\")\n",
    "plt.show()"
   ]
  },
  {
   "cell_type": "markdown",
   "id": "d1944118",
   "metadata": {},
   "source": [
    "As we can see that, \n",
    "- their are highly **multicollinearity** present in the dataset."
   ]
  },
  {
   "cell_type": "markdown",
   "id": "2e8e200e",
   "metadata": {},
   "source": [
    "Let's find the all the attributes with correlation more than 0.50"
   ]
  },
  {
   "cell_type": "code",
   "execution_count": 12,
   "id": "27b3d89c",
   "metadata": {},
   "outputs": [
    {
     "name": "stdout",
     "output_type": "stream",
     "text": [
      "0.52 = n_navigate & n_videos\n",
      "0.81 = n_access & n_videos\n",
      "0.69 = n_access & n_navigate\n",
      "0.59 = n_problem & n_videos\n",
      "0.68 = n_problem & n_access\n",
      "0.79 = n_page_close & n_videos\n",
      "0.63 = n_page_close & n_navigate\n",
      "0.77 = n_page_close & n_access\n",
      "0.55 = n_discussion & n_navigate\n",
      "0.77 = n_events & n_videos\n",
      "0.79 = n_events & n_navigate\n",
      "0.89 = n_events & n_access\n",
      "0.7 = n_events & n_problem\n",
      "0.76 = n_events & n_page_close\n",
      "0.67 = n_events & n_discussion\n",
      "0.63 = n_events_lst_wk & n_videos\n",
      "0.61 = n_events_lst_wk & n_navigate\n",
      "0.7 = n_events_lst_wk & n_access\n",
      "0.55 = n_events_lst_wk & n_problem\n",
      "0.61 = n_events_lst_wk & n_page_close\n",
      "0.77 = n_events_lst_wk & n_events\n",
      "0.61 = n_access_lst_wk & n_videos\n",
      "0.51 = n_access_lst_wk & n_navigate\n",
      "0.75 = n_access_lst_wk & n_access\n",
      "0.59 = n_access_lst_wk & n_page_close\n",
      "0.65 = n_access_lst_wk & n_events\n",
      "0.89 = n_access_lst_wk & n_events_lst_wk\n",
      "0.73 = n_access_lst2_wk & n_videos\n",
      "0.58 = n_access_lst2_wk & n_navigate\n",
      "0.88 = n_access_lst2_wk & n_access\n",
      "0.59 = n_access_lst2_wk & n_problem\n",
      "0.68 = n_access_lst2_wk & n_page_close\n",
      "0.77 = n_access_lst2_wk & n_events\n",
      "0.78 = n_access_lst2_wk & n_events_lst_wk\n",
      "0.86 = n_access_lst2_wk & n_access_lst_wk\n",
      "0.61 = unique_days_accessed & n_videos\n",
      "0.75 = unique_days_accessed & n_navigate\n",
      "0.74 = unique_days_accessed & n_access\n",
      "0.71 = unique_days_accessed & n_page_close\n",
      "0.74 = unique_days_accessed & n_events\n",
      "0.57 = unique_days_accessed & n_events_lst_wk\n",
      "0.55 = unique_days_accessed & n_access_lst_wk\n",
      "0.63 = unique_days_accessed & n_access_lst2_wk\n",
      "0.56 = dropout & days_course_end_access_lst\n"
     ]
    }
   ],
   "source": [
    "corr_features = set()\n",
    "corr_mat = df.corr()\n",
    "\n",
    "for i in range(len(corr_mat.columns)):\n",
    "    for j in range(i):\n",
    "        if corr_mat.iloc[i, j] > 0.5:\n",
    "            corr_features.add(corr_mat.columns[i])\n",
    "            \n",
    "            print(round(corr_mat.iloc[i, j],2), \"=\", corr_mat.columns[i], \"&\", corr_mat.columns[j])"
   ]
  },
  {
   "cell_type": "code",
   "execution_count": 13,
   "id": "818f05f6",
   "metadata": {},
   "outputs": [
    {
     "data": {
      "text/plain": [
       "Index(['n_videos', 'n_navigate', 'n_access', 'n_problem', 'n_page_close',\n",
       "       'n_discussion', 'n_wiki', 'n_events', 'n_events_lst_wk',\n",
       "       'n_access_lst_wk', 'n_access_lst2_wk', 'days_course_strt_access1',\n",
       "       'days_course_end_access_lst', 'unique_days_accessed', 'dropout'],\n",
       "      dtype='object')"
      ]
     },
     "execution_count": 13,
     "metadata": {},
     "output_type": "execute_result"
    }
   ],
   "source": [
    "df.columns"
   ]
  },
  {
   "cell_type": "markdown",
   "id": "90121bb3",
   "metadata": {},
   "source": [
    "##### n_videos"
   ]
  },
  {
   "cell_type": "code",
   "execution_count": 14,
   "id": "a934cd61",
   "metadata": {},
   "outputs": [
    {
     "data": {
      "image/png": "[encoded data removed]",
      "text/plain": [
       "<Figure size 1008x288 with 2 Axes>"
      ]
     },
     "metadata": {
      "needs_background": "light"
     },
     "output_type": "display_data"
    }
   ],
   "source": [
    "# n_videos\n",
    "plt.figure(figsize=(14,4))\n",
    "plt.subplot(1,2,1)\n",
    "sns.histplot(data=df, x='n_videos', kde=True)\n",
    "\n",
    "plt.subplot(1,2,2)\n",
    "sns.boxplot(data=df, x='n_videos')\n",
    "plt.show()"
   ]
  },
  {
   "cell_type": "markdown",
   "id": "282d3805",
   "metadata": {},
   "source": [
    "- n_videos feature is **Right skewed.**\n",
    "- **Outliers** is present."
   ]
  },
  {
   "cell_type": "markdown",
   "id": "6afc6b0a",
   "metadata": {},
   "source": [
    "##### n_navigate"
   ]
  },
  {
   "cell_type": "code",
   "execution_count": 15,
   "id": "2aeafcaa",
   "metadata": {},
   "outputs": [
    {
     "data": {
      "image/png": "[encoded data removed]",
      "text/plain": [
       "<Figure size 1008x288 with 2 Axes>"
      ]
     },
     "metadata": {
      "needs_background": "light"
     },
     "output_type": "display_data"
    }
   ],
   "source": [
    "# n_navigate\n",
    "plt.figure(figsize=(14,4))\n",
    "plt.subplot(1,2,1)\n",
    "sns.histplot(data=df, x='n_navigate', kde=True)\n",
    "\n",
    "plt.subplot(1,2,2)\n",
    "sns.boxplot(data=df, x='n_navigate')\n",
    "plt.show()"
   ]
  },
  {
   "cell_type": "markdown",
   "id": "1b383dbe",
   "metadata": {},
   "source": [
    "- n_navigate feature is **Right skewed.**\n",
    "- **Outliers** is present."
   ]
  },
  {
   "cell_type": "markdown",
   "id": "dbb0c25e",
   "metadata": {},
   "source": [
    "##### n_access"
   ]
  },
  {
   "cell_type": "code",
   "execution_count": 16,
   "id": "69a69230",
   "metadata": {},
   "outputs": [
    {
     "data": {
      "image/png": "[encoded data removed]",
      "text/plain": [
       "<Figure size 1008x288 with 2 Axes>"
      ]
     },
     "metadata": {
      "needs_background": "light"
     },
     "output_type": "display_data"
    }
   ],
   "source": [
    "# n_access\n",
    "plt.figure(figsize=(14,4))\n",
    "plt.subplot(1,2,1)\n",
    "sns.histplot(data=df, x='n_access', kde=True)\n",
    "\n",
    "plt.subplot(1,2,2)\n",
    "sns.boxplot(data=df, x='n_access')\n",
    "plt.show()"
   ]
  },
  {
   "cell_type": "markdown",
   "id": "a0dbf3e3",
   "metadata": {},
   "source": [
    "- n_access feature is **Right skewed.**\n",
    "- **Outliers** is present."
   ]
  },
  {
   "cell_type": "markdown",
   "id": "3a0c7c24",
   "metadata": {},
   "source": [
    "##### n_problem"
   ]
  },
  {
   "cell_type": "code",
   "execution_count": 17,
   "id": "f30c8d4f",
   "metadata": {},
   "outputs": [
    {
     "data": {
      "image/png": "[encoded data removed]",
      "text/plain": [
       "<Figure size 1008x288 with 2 Axes>"
      ]
     },
     "metadata": {
      "needs_background": "light"
     },
     "output_type": "display_data"
    }
   ],
   "source": [
    "# n_problem\n",
    "plt.figure(figsize=(14,4))\n",
    "plt.subplot(1,2,1)\n",
    "sns.histplot(data=df, x='n_problem', kde=True)\n",
    "\n",
    "plt.subplot(1,2,2)\n",
    "sns.boxplot(data=df, x='n_problem')\n",
    "plt.show()"
   ]
  },
  {
   "cell_type": "markdown",
   "id": "318827c5",
   "metadata": {},
   "source": [
    "- n_problem feature is **Right skewed.**\n",
    "- **Outliers** is present."
   ]
  },
  {
   "cell_type": "markdown",
   "id": "1ff47c0b",
   "metadata": {},
   "source": [
    "##### n_page_close"
   ]
  },
  {
   "cell_type": "code",
   "execution_count": 18,
   "id": "94fbb2d1",
   "metadata": {},
   "outputs": [
    {
     "data": {
      "image/png": "[encoded data removed]",
      "text/plain": [
       "<Figure size 1008x288 with 2 Axes>"
      ]
     },
     "metadata": {
      "needs_background": "light"
     },
     "output_type": "display_data"
    }
   ],
   "source": [
    "# n_page_close\n",
    "plt.figure(figsize=(14,4))\n",
    "plt.subplot(1,2,1)\n",
    "sns.histplot(data=df, x='n_page_close', kde=True)\n",
    "\n",
    "plt.subplot(1,2,2)\n",
    "sns.boxplot(data=df, x='n_page_close')\n",
    "plt.show()"
   ]
  },
  {
   "cell_type": "markdown",
   "id": "1f170cc4",
   "metadata": {},
   "source": [
    "- n_page_close feature is **Right skewed.**\n",
    "- **Outliers** is present."
   ]
  },
  {
   "cell_type": "markdown",
   "id": "cbdfcffa",
   "metadata": {},
   "source": [
    "##### n_discussion"
   ]
  },
  {
   "cell_type": "code",
   "execution_count": 19,
   "id": "05be9d1d",
   "metadata": {},
   "outputs": [
    {
     "data": {
      "image/png": "[encoded data removed]",
      "text/plain": [
       "<Figure size 1008x288 with 2 Axes>"
      ]
     },
     "metadata": {
      "needs_background": "light"
     },
     "output_type": "display_data"
    }
   ],
   "source": [
    "# n_discussion\n",
    "plt.figure(figsize=(14,4))\n",
    "plt.subplot(1,2,1)\n",
    "sns.histplot(data=df, x='n_discussion', kde=True)\n",
    "\n",
    "plt.subplot(1,2,2)\n",
    "sns.boxplot(data=df, x='n_discussion')\n",
    "plt.show()"
   ]
  },
  {
   "cell_type": "markdown",
   "id": "0ce47880",
   "metadata": {},
   "source": [
    "- n_discussion feature is **Right skewed.**\n",
    "- **Outliers** is present."
   ]
  },
  {
   "cell_type": "markdown",
   "id": "3125d554",
   "metadata": {},
   "source": [
    "##### n_wiki"
   ]
  },
  {
   "cell_type": "code",
   "execution_count": 20,
   "id": "3306ddb6",
   "metadata": {},
   "outputs": [
    {
     "data": {
      "image/png": "[encoded data removed]",
      "text/plain": [
       "<Figure size 1008x288 with 2 Axes>"
      ]
     },
     "metadata": {
      "needs_background": "light"
     },
     "output_type": "display_data"
    }
   ],
   "source": [
    "# n_wiki\n",
    "plt.figure(figsize=(14,4))\n",
    "plt.subplot(1,2,1)\n",
    "sns.histplot(data=df, x='n_wiki', kde=True)\n",
    "\n",
    "plt.subplot(1,2,2)\n",
    "sns.boxplot(data=df, x='n_wiki')\n",
    "plt.show()"
   ]
  },
  {
   "cell_type": "markdown",
   "id": "fc2a5c1e",
   "metadata": {},
   "source": [
    "- n_wiki feature is **Right skewed.**\n",
    "- **Outliers** is present."
   ]
  },
  {
   "cell_type": "markdown",
   "id": "aa83c4cf",
   "metadata": {},
   "source": [
    "##### n_events"
   ]
  },
  {
   "cell_type": "code",
   "execution_count": 21,
   "id": "139d4dca",
   "metadata": {},
   "outputs": [
    {
     "data": {
      "image/png": "[encoded data removed]",
      "text/plain": [
       "<Figure size 1008x288 with 2 Axes>"
      ]
     },
     "metadata": {
      "needs_background": "light"
     },
     "output_type": "display_data"
    }
   ],
   "source": [
    "# n_events\n",
    "plt.figure(figsize=(14,4))\n",
    "plt.subplot(1,2,1)\n",
    "sns.histplot(data=df, x='n_events', kde=True)\n",
    "\n",
    "plt.subplot(1,2,2)\n",
    "sns.boxplot(data=df, x='n_events')\n",
    "plt.show()"
   ]
  },
  {
   "cell_type": "markdown",
   "id": "a3eb9334",
   "metadata": {},
   "source": [
    "- n_events feature is **Right skewed.**\n",
    "- **Outliers** is present."
   ]
  },
  {
   "cell_type": "markdown",
   "id": "fd5cc6ba",
   "metadata": {},
   "source": [
    "##### n_events_lst_wk"
   ]
  },
  {
   "cell_type": "code",
   "execution_count": 22,
   "id": "539ae746",
   "metadata": {},
   "outputs": [
    {
     "data": {
      "image/png": "[encoded data removed]",
      "text/plain": [
       "<Figure size 1008x288 with 2 Axes>"
      ]
     },
     "metadata": {
      "needs_background": "light"
     },
     "output_type": "display_data"
    }
   ],
   "source": [
    "# n_events_lst_wk\n",
    "plt.figure(figsize=(14,4))\n",
    "plt.subplot(1,2,1)\n",
    "sns.histplot(data=df, x='n_events_lst_wk', kde=True)\n",
    "\n",
    "plt.subplot(1,2,2)\n",
    "sns.boxplot(data=df, x='n_events_lst_wk')\n",
    "plt.show()"
   ]
  },
  {
   "cell_type": "markdown",
   "id": "4be705a1",
   "metadata": {},
   "source": [
    "- n_events_lst_wk feature is **Right skewed.**\n",
    "- **Outliers** is present."
   ]
  },
  {
   "cell_type": "markdown",
   "id": "a8a4a132",
   "metadata": {},
   "source": [
    "##### n_access_lst_wk"
   ]
  },
  {
   "cell_type": "code",
   "execution_count": 23,
   "id": "e6e3563e",
   "metadata": {},
   "outputs": [
    {
     "data": {
      "image/png": "[encoded data removed]",
      "text/plain": [
       "<Figure size 1008x288 with 2 Axes>"
      ]
     },
     "metadata": {
      "needs_background": "light"
     },
     "output_type": "display_data"
    }
   ],
   "source": [
    "# n_access_lst_wk\n",
    "plt.figure(figsize=(14,4))\n",
    "plt.subplot(1,2,1)\n",
    "sns.histplot(data=df, x='n_access_lst_wk', kde=True)\n",
    "\n",
    "plt.subplot(1,2,2)\n",
    "sns.boxplot(data=df, x='n_access_lst_wk')\n",
    "plt.show()"
   ]
  },
  {
   "cell_type": "markdown",
   "id": "92c17a52",
   "metadata": {},
   "source": [
    "- n_access_lst_wk feature is **Right skewed.**\n",
    "- **Outliers** is present."
   ]
  },
  {
   "cell_type": "markdown",
   "id": "2e734717",
   "metadata": {},
   "source": [
    "##### n_access_lst2_wk"
   ]
  },
  {
   "cell_type": "code",
   "execution_count": 24,
   "id": "6e5d5556",
   "metadata": {},
   "outputs": [
    {
     "data": {
      "image/png": "[encoded data removed]",
      "text/plain": [
       "<Figure size 1008x288 with 2 Axes>"
      ]
     },
     "metadata": {
      "needs_background": "light"
     },
     "output_type": "display_data"
    }
   ],
   "source": [
    "# n_access_lst2_wk\n",
    "plt.figure(figsize=(14,4))\n",
    "plt.subplot(1,2,1)\n",
    "sns.histplot(data=df, x='n_access_lst2_wk', kde=True)\n",
    "\n",
    "plt.subplot(1,2,2)\n",
    "sns.boxplot(data=df, x='n_access_lst2_wk')\n",
    "plt.show()"
   ]
  },
  {
   "cell_type": "markdown",
   "id": "bb819e81",
   "metadata": {},
   "source": [
    "- n_access_lst2_wk feature is **Right skewed.**\n",
    "- **Outliers** is present."
   ]
  },
  {
   "cell_type": "markdown",
   "id": "aff89755",
   "metadata": {},
   "source": [
    "##### days_course_strt_access1"
   ]
  },
  {
   "cell_type": "code",
   "execution_count": 25,
   "id": "cab3e483",
   "metadata": {},
   "outputs": [
    {
     "data": {
      "image/png": "[encoded data removed]",
      "text/plain": [
       "<Figure size 1008x288 with 2 Axes>"
      ]
     },
     "metadata": {
      "needs_background": "light"
     },
     "output_type": "display_data"
    }
   ],
   "source": [
    "# days_course_strt_access1\n",
    "plt.figure(figsize=(14,4))\n",
    "plt.subplot(1,2,1)\n",
    "sns.histplot(data=df, x='days_course_strt_access1', kde=True)\n",
    "\n",
    "plt.subplot(1,2,2)\n",
    "sns.boxplot(data=df, x='days_course_strt_access1')\n",
    "plt.show()"
   ]
  },
  {
   "cell_type": "markdown",
   "id": "9de96c1c",
   "metadata": {},
   "source": [
    "- days_course_strt_access1 feature is **Right skewed.**\n",
    "- **Outliers** is present."
   ]
  },
  {
   "cell_type": "markdown",
   "id": "86ff3937",
   "metadata": {},
   "source": [
    "##### days_course_end_access_lst"
   ]
  },
  {
   "cell_type": "code",
   "execution_count": 26,
   "id": "c125cfc4",
   "metadata": {},
   "outputs": [
    {
     "data": {
      "image/png": "[encoded data removed]",
      "text/plain": [
       "<Figure size 1008x288 with 2 Axes>"
      ]
     },
     "metadata": {
      "needs_background": "light"
     },
     "output_type": "display_data"
    }
   ],
   "source": [
    "# days_course_end_access_lst\n",
    "plt.figure(figsize=(14,4))\n",
    "plt.subplot(1,2,1)\n",
    "sns.histplot(data=df, x='days_course_end_access_lst', kde=True)\n",
    "\n",
    "plt.subplot(1,2,2)\n",
    "sns.boxplot(data=df, x='days_course_end_access_lst')\n",
    "plt.show()"
   ]
  },
  {
   "cell_type": "markdown",
   "id": "c8d5e374",
   "metadata": {},
   "source": [
    "- days_course_end_access_lst feature is **Right skewed.**"
   ]
  },
  {
   "cell_type": "markdown",
   "id": "f653a42a",
   "metadata": {},
   "source": [
    "##### unique_days_accessed"
   ]
  },
  {
   "cell_type": "code",
   "execution_count": 27,
   "id": "85f80223",
   "metadata": {},
   "outputs": [
    {
     "data": {
      "image/png": "[encoded data removed]",
      "text/plain": [
       "<Figure size 1008x288 with 2 Axes>"
      ]
     },
     "metadata": {
      "needs_background": "light"
     },
     "output_type": "display_data"
    }
   ],
   "source": [
    "# unique_days_accessed\n",
    "plt.figure(figsize=(14,4))\n",
    "plt.subplot(1,2,1)\n",
    "sns.histplot(data=df, x='unique_days_accessed', kde=True)\n",
    "\n",
    "plt.subplot(1,2,2)\n",
    "sns.boxplot(data=df, x='unique_days_accessed')\n",
    "plt.show()"
   ]
  },
  {
   "cell_type": "markdown",
   "id": "688614d6",
   "metadata": {},
   "source": [
    "- unique_days_accessed feature is **Right skewed.**\n",
    "- **Outliers** is present."
   ]
  },
  {
   "cell_type": "markdown",
   "id": "264219d0",
   "metadata": {},
   "source": [
    "- **All the features are Rightly Skewed distribution.**"
   ]
  },
  {
   "cell_type": "markdown",
   "id": "98c89dcb-c3d6-49a9-b9f7-098bf4708845",
   "metadata": {},
   "source": [
    "### Curating the Data"
   ]
  },
  {
   "cell_type": "code",
   "execution_count": 159,
   "id": "b2c10c2e-fb72-4195-b958-e5c6b90e3afc",
   "metadata": {},
   "outputs": [
    {
     "data": {
      "text/plain": [
       "student_id                      1\n",
       "n_videos                        0\n",
       "n_navigate                      0\n",
       "n_access                        0\n",
       "n_problem                       0\n",
       "n_page_close                    0\n",
       "n_discussion                    0\n",
       "n_wiki                          0\n",
       "n_events                        0\n",
       "n_events_lst_wk                 0\n",
       "n_access_lst_wk                 0\n",
       "n_access_lst2_wk                0\n",
       "days_course_strt_access1      987\n",
       "days_course_end_access_lst    987\n",
       "unique_days_accessed            0\n",
       "dropout                         0\n",
       "dtype: int64"
      ]
     },
     "execution_count": 159,
     "metadata": {},
     "output_type": "execute_result"
    }
   ],
   "source": [
    "# Finding null values:\n",
    "\n",
    "df.isnull().sum()"
   ]
  },
  {
   "cell_type": "code",
   "execution_count": 160,
   "id": "ec040fde-984d-44bd-82a2-3b2e1e1a0591",
   "metadata": {},
   "outputs": [
    {
     "data": {
      "text/html": [
       "<div>\n",
       "<style scoped>\n",
       "    .dataframe tbody tr th:only-of-type {\n",
       "        vertical-align: middle;\n",
       "    }\n",
       "\n",
       "    .dataframe tbody tr th {\n",
       "        vertical-align: top;\n",
       "    }\n",
       "\n",
       "    .dataframe thead th {\n",
       "        text-align: right;\n",
       "    }\n",
       "</style>\n",
       "<table border=\"1\" class=\"dataframe\">\n",
       "  <thead>\n",
       "    <tr style=\"text-align: right;\">\n",
       "      <th></th>\n",
       "      <th>student_id</th>\n",
       "      <th>n_videos</th>\n",
       "      <th>n_navigate</th>\n",
       "      <th>n_access</th>\n",
       "      <th>n_problem</th>\n",
       "      <th>n_page_close</th>\n",
       "      <th>n_discussion</th>\n",
       "      <th>n_wiki</th>\n",
       "      <th>n_events</th>\n",
       "      <th>n_events_lst_wk</th>\n",
       "      <th>n_access_lst_wk</th>\n",
       "      <th>n_access_lst2_wk</th>\n",
       "      <th>days_course_strt_access1</th>\n",
       "      <th>days_course_end_access_lst</th>\n",
       "      <th>unique_days_accessed</th>\n",
       "      <th>dropout</th>\n",
       "    </tr>\n",
       "  </thead>\n",
       "  <tbody>\n",
       "    <tr>\n",
       "      <th>4810</th>\n",
       "      <td>NaN</td>\n",
       "      <td>6</td>\n",
       "      <td>9</td>\n",
       "      <td>58</td>\n",
       "      <td>18</td>\n",
       "      <td>15</td>\n",
       "      <td>5</td>\n",
       "      <td>0</td>\n",
       "      <td>111</td>\n",
       "      <td>25</td>\n",
       "      <td>10</td>\n",
       "      <td>10</td>\n",
       "      <td>3.0</td>\n",
       "      <td>4.0</td>\n",
       "      <td>6</td>\n",
       "      <td>1</td>\n",
       "    </tr>\n",
       "  </tbody>\n",
       "</table>\n",
       "</div>"
      ],
      "text/plain": [
       "      student_id  n_videos  n_navigate  n_access  n_problem  n_page_close  \\\n",
       "4810         NaN         6           9        58         18            15   \n",
       "\n",
       "      n_discussion  n_wiki  n_events  n_events_lst_wk  n_access_lst_wk  \\\n",
       "4810             5       0       111               25               10   \n",
       "\n",
       "      n_access_lst2_wk  days_course_strt_access1  days_course_end_access_lst  \\\n",
       "4810                10                       3.0                         4.0   \n",
       "\n",
       "      unique_days_accessed  dropout  \n",
       "4810                     6        1  "
      ]
     },
     "execution_count": 160,
     "metadata": {},
     "output_type": "execute_result"
    }
   ],
   "source": [
    "# Finding the particular student with Student_id as null value.\n",
    "\n",
    "df[df['student_id'].isna()]"
   ]
  },
  {
   "cell_type": "code",
   "execution_count": 161,
   "id": "fd5d0ef5-cb3d-4c5a-8dd5-3e81792bec58",
   "metadata": {
    "tags": []
   },
   "outputs": [],
   "source": [
    "# Filling the null value with a unique id so that the data for that particular student can be used for furthur analysis.\n",
    "\n",
    "df[\"student_id\"].fillna(df[\"student_id\"] == 4810, inplace=True)"
   ]
  },
  {
   "cell_type": "code",
   "execution_count": 162,
   "id": "94e374fc-2277-493a-a117-377237241373",
   "metadata": {},
   "outputs": [
    {
     "data": {
      "text/html": [
       "<div>\n",
       "<style scoped>\n",
       "    .dataframe tbody tr th:only-of-type {\n",
       "        vertical-align: middle;\n",
       "    }\n",
       "\n",
       "    .dataframe tbody tr th {\n",
       "        vertical-align: top;\n",
       "    }\n",
       "\n",
       "    .dataframe thead th {\n",
       "        text-align: right;\n",
       "    }\n",
       "</style>\n",
       "<table border=\"1\" class=\"dataframe\">\n",
       "  <thead>\n",
       "    <tr style=\"text-align: right;\">\n",
       "      <th></th>\n",
       "      <th>student_id</th>\n",
       "      <th>n_videos</th>\n",
       "      <th>n_navigate</th>\n",
       "      <th>n_access</th>\n",
       "      <th>n_problem</th>\n",
       "      <th>n_page_close</th>\n",
       "      <th>n_discussion</th>\n",
       "      <th>n_wiki</th>\n",
       "      <th>n_events</th>\n",
       "      <th>n_events_lst_wk</th>\n",
       "      <th>n_access_lst_wk</th>\n",
       "      <th>n_access_lst2_wk</th>\n",
       "      <th>days_course_strt_access1</th>\n",
       "      <th>days_course_end_access_lst</th>\n",
       "      <th>unique_days_accessed</th>\n",
       "      <th>dropout</th>\n",
       "    </tr>\n",
       "  </thead>\n",
       "  <tbody>\n",
       "  </tbody>\n",
       "</table>\n",
       "</div>"
      ],
      "text/plain": [
       "Empty DataFrame\n",
       "Columns: [student_id, n_videos, n_navigate, n_access, n_problem, n_page_close, n_discussion, n_wiki, n_events, n_events_lst_wk, n_access_lst_wk, n_access_lst2_wk, days_course_strt_access1, days_course_end_access_lst, unique_days_accessed, dropout]\n",
       "Index: []"
      ]
     },
     "execution_count": 162,
     "metadata": {},
     "output_type": "execute_result"
    }
   ],
   "source": [
    "# Verifying if there are any null values left\n",
    "\n",
    "df[df['student_id'].isna()]"
   ]
  },
  {
   "cell_type": "code",
   "execution_count": 163,
   "id": "5557e34a-3484-4efb-91f5-b926abab813c",
   "metadata": {},
   "outputs": [
    {
     "data": {
      "text/plain": [
       "9999"
      ]
     },
     "execution_count": 163,
     "metadata": {},
     "output_type": "execute_result"
    }
   ],
   "source": [
    "# To see if the ID given is unique\n",
    "\n",
    "df[\"student_id\"].nunique()"
   ]
  },
  {
   "cell_type": "markdown",
   "id": "d01c112e-9173-4615-9ce7-93bdf0884b2f",
   "metadata": {},
   "source": [
    "#### Also we can see from the data,\n",
    "\n",
    "- **days_course_strt_access1** and **days_course_end_access_lst** has 987 missing values each.\n",
    "- Since there are many outiers present in the data we will use Median values to fill in the Null/Missing values."
   ]
  },
  {
   "cell_type": "code",
   "execution_count": 164,
   "id": "d88dee77-c5f2-441e-9136-aab9ddee95f0",
   "metadata": {},
   "outputs": [
    {
     "name": "stdout",
     "output_type": "stream",
     "text": [
      "Median of days_course_strt_access1: 4.0\n",
      "Median of days_course_end_access_lst: 4.0\n"
     ]
    }
   ],
   "source": [
    "# Finding Median values. \n",
    "\n",
    "print(\"Median of days_course_strt_access1:\", df[\"days_course_strt_access1\"].median())\n",
    "print(\"Median of days_course_end_access_lst:\", df[\"days_course_end_access_lst\"].median())"
   ]
  },
  {
   "cell_type": "code",
   "execution_count": 165,
   "id": "92deee67-ae87-43f4-b572-d41c9f2aecdf",
   "metadata": {},
   "outputs": [],
   "source": [
    "df[\"days_course_strt_access1\"].fillna(df[\"days_course_strt_access1\"].median(), inplace=True)"
   ]
  },
  {
   "cell_type": "code",
   "execution_count": 166,
   "id": "8058b70f-79cd-4ab0-95c3-d8192ac585ac",
   "metadata": {},
   "outputs": [],
   "source": [
    "df[\"days_course_end_access_lst\"].fillna(df[\"days_course_end_access_lst\"].median(), inplace=True)"
   ]
  },
  {
   "cell_type": "code",
   "execution_count": 167,
   "id": "9bc20a38-6880-4d32-8104-9c0810a30ba7",
   "metadata": {},
   "outputs": [
    {
     "data": {
      "text/plain": [
       "student_id                    0\n",
       "n_videos                      0\n",
       "n_navigate                    0\n",
       "n_access                      0\n",
       "n_problem                     0\n",
       "n_page_close                  0\n",
       "n_discussion                  0\n",
       "n_wiki                        0\n",
       "n_events                      0\n",
       "n_events_lst_wk               0\n",
       "n_access_lst_wk               0\n",
       "n_access_lst2_wk              0\n",
       "days_course_strt_access1      0\n",
       "days_course_end_access_lst    0\n",
       "unique_days_accessed          0\n",
       "dropout                       0\n",
       "dtype: int64"
      ]
     },
     "execution_count": 167,
     "metadata": {},
     "output_type": "execute_result"
    }
   ],
   "source": [
    "# Checking if there are still any missing values\n",
    "\n",
    "df.isnull().sum()"
   ]
  },
  {
   "cell_type": "code",
   "execution_count": 168,
   "id": "cd49b821-71e1-45ba-a42d-b05d4fe0873f",
   "metadata": {},
   "outputs": [],
   "source": [
    "# Dropping student_id feature as it is not require for furthur analysis\n",
    "df.drop(['student_id'], axis=1, inplace=True)"
   ]
  },
  {
   "cell_type": "code",
   "execution_count": 169,
   "id": "4eac8766-9e65-48ae-8d79-b3d9c234cc68",
   "metadata": {
    "tags": []
   },
   "outputs": [],
   "source": [
    "# Creating Independent and Dependent categories:\n",
    "X = df.iloc[:, :14]\n",
    "Y = df.iloc[:, 14]"
   ]
  },
  {
   "cell_type": "code",
   "execution_count": 170,
   "id": "2afce6fe-76ec-425f-b614-ae066da9556a",
   "metadata": {
    "tags": []
   },
   "outputs": [],
   "source": [
    "# Using RobustScaler is less prone to outliers (we have huge Outliers in our data).\n",
    "\n",
    "rob_scaler = RobustScaler()"
   ]
  },
  {
   "cell_type": "code",
   "execution_count": 171,
   "id": "9e8703cf-543e-4e53-9391-131f67177a64",
   "metadata": {
    "tags": []
   },
   "outputs": [],
   "source": [
    "x = rob_scaler.fit_transform(X)"
   ]
  },
  {
   "cell_type": "code",
   "execution_count": 172,
   "id": "b3645170-cfc9-4435-b968-bbda60f2ea55",
   "metadata": {},
   "outputs": [],
   "source": [
    "# Train-Test Spilt:\n",
    "x_train, x_test, y_train, y_test = train_test_split(x, Y, test_size = 0.75, random_state=8)"
   ]
  },
  {
   "cell_type": "markdown",
   "id": "61759bc0-7722-464b-8a89-9d381e123a80",
   "metadata": {},
   "source": [
    "### Build classifiers/models using Random Forest, GBM, XGBOOST and SVM."
   ]
  },
  {
   "cell_type": "markdown",
   "id": "0c75c17d-a265-4c8e-bd35-1e4a37d9efa0",
   "metadata": {},
   "source": [
    "### Using Random Forest"
   ]
  },
  {
   "cell_type": "code",
   "execution_count": 173,
   "id": "86d90656-b395-49d8-b00b-561e101fa7c4",
   "metadata": {},
   "outputs": [],
   "source": [
    "rf = RandomForestClassifier()"
   ]
  },
  {
   "cell_type": "code",
   "execution_count": 174,
   "id": "b6fc618c-7fb5-46c0-9b01-7fc840059db0",
   "metadata": {},
   "outputs": [],
   "source": [
    "# Using k-fold cross validation for 5 - folds:\n",
    "\n",
    "y_train_rf_K = cross_val_predict(rf, x_train, y_train, cv=5)"
   ]
  },
  {
   "cell_type": "code",
   "execution_count": 251,
   "id": "f2eeb58a-dd44-4432-b458-4815a83a1ee7",
   "metadata": {
    "scrolled": true
   },
   "outputs": [
    {
     "name": "stdout",
     "output_type": "stream",
     "text": [
      "Simple Accuracy : 84.0 %\n",
      "Precision : 0.86\n",
      "Recall : 0.85\n",
      "F1_Score : 0.85\n"
     ]
    }
   ],
   "source": [
    "# For K-fold cross Validation\n",
    "\n",
    "print(\"Simple Accuracy :\", round(accuracy_score(y_train, y_train_rf_K),2)*100,\"%\")\n",
    "print(\"Precision :\", round(precision_score(y_train, y_train_rf_K),2))\n",
    "print(\"Recall :\", round(recall_score(y_train, y_train_rf_K),2))\n",
    "print(\"F1_Score :\", round(f1_score(y_train, y_train_rf_K),2))"
   ]
  },
  {
   "cell_type": "code",
   "execution_count": 179,
   "id": "7f077ccf-ca66-462b-8f43-9b6465971a8f",
   "metadata": {},
   "outputs": [
    {
     "name": "stdout",
     "output_type": "stream",
     "text": [
      "Confusion Matrix :\n",
      "[[ 950  192]\n",
      " [ 208 1149]]\n"
     ]
    }
   ],
   "source": [
    "print(\"Confusion Matrix :\")\n",
    "print(confusion_matrix(y_train, y_train_rf_K))"
   ]
  },
  {
   "cell_type": "code",
   "execution_count": 180,
   "id": "036b2967-75cd-411d-8d4e-cb53300c27a2",
   "metadata": {},
   "outputs": [
    {
     "data": {
      "text/plain": [
       "RandomForestClassifier()"
      ]
     },
     "execution_count": 180,
     "metadata": {},
     "output_type": "execute_result"
    }
   ],
   "source": [
    "rf.fit(x_train, y_train)"
   ]
  },
  {
   "cell_type": "code",
   "execution_count": 181,
   "id": "00a379ec-7eed-4ce9-9cc0-c38ebcf98aae",
   "metadata": {},
   "outputs": [],
   "source": [
    "y_pred_rf = rf.predict(x_test)"
   ]
  },
  {
   "cell_type": "code",
   "execution_count": 248,
   "id": "b907b141-0338-4e6a-a7c6-60f18a65aa23",
   "metadata": {},
   "outputs": [
    {
     "name": "stdout",
     "output_type": "stream",
     "text": [
      "Accuracy : 82.0 %\n",
      "Precision : 0.83\n",
      "Recall : 0.83\n",
      "f1_Score : 0.83\n"
     ]
    }
   ],
   "source": [
    "# For Random Forest\n",
    "\n",
    "print(\"Accuracy :\", round(accuracy_score(y_test, y_pred_rf), 2)*100,\"%\")\n",
    "print(\"Precision :\", round(precision_score(y_test, y_pred_rf), 2))\n",
    "print(\"Recall :\", round(recall_score(y_test, y_pred_rf), 2))\n",
    "print(\"f1_Score :\", round(f1_score(y_test, y_pred_rf), 2))"
   ]
  },
  {
   "cell_type": "code",
   "execution_count": 183,
   "id": "910593a8-4459-45a2-b2ae-c8341e4ef30f",
   "metadata": {},
   "outputs": [
    {
     "name": "stdout",
     "output_type": "stream",
     "text": [
      "Confusion Matrix :\n",
      "[[2745  680]\n",
      " [ 691 3384]]\n"
     ]
    }
   ],
   "source": [
    "print(\"Confusion Matrix :\")\n",
    "print(confusion_matrix(y_test, y_pred_rf))"
   ]
  },
  {
   "cell_type": "markdown",
   "id": "3f1bba13-5bc4-4d37-b351-052cca9563c0",
   "metadata": {},
   "source": [
    "### Using Gradient Boosting"
   ]
  },
  {
   "cell_type": "code",
   "execution_count": 186,
   "id": "f43cae9e-6e0f-45e7-b954-8303c3cf65b5",
   "metadata": {},
   "outputs": [],
   "source": [
    "gbm = GradientBoostingClassifier()"
   ]
  },
  {
   "cell_type": "code",
   "execution_count": 187,
   "id": "1136be63-90dc-44fa-befe-9c1e0ffacc1f",
   "metadata": {},
   "outputs": [],
   "source": [
    "# k-fold cross validation for 5 - folds:\n",
    "\n",
    "y_train_gbm_K = cross_val_predict(gbm, x_train, y_train, cv=5)"
   ]
  },
  {
   "cell_type": "code",
   "execution_count": 247,
   "id": "fd8da379-4451-4d4d-b45c-aaf4363eead8",
   "metadata": {},
   "outputs": [
    {
     "name": "stdout",
     "output_type": "stream",
     "text": [
      "Accuracy : 84.0 %\n",
      "Precision : 0.85\n",
      "Recall : 0.86\n",
      "f1_Score : 0.85\n"
     ]
    }
   ],
   "source": [
    "# For K-fold cross Validation\n",
    "\n",
    "print(\"Accuracy :\", round(accuracy_score(y_train, y_train_gbm_K), 2)*100,\"%\")\n",
    "print(\"Precision :\", round(precision_score(y_train, y_train_gbm_K), 2))\n",
    "print(\"Recall :\", round(recall_score(y_train, y_train_gbm_K), 2))\n",
    "print(\"f1_Score :\", round(f1_score(y_train, y_train_gbm_K), 2))"
   ]
  },
  {
   "cell_type": "code",
   "execution_count": 189,
   "id": "ee3bb39a-85ae-4482-a116-d4a658bae0e0",
   "metadata": {},
   "outputs": [
    {
     "name": "stdout",
     "output_type": "stream",
     "text": [
      "Confusion Matrix :\n",
      "[[ 938  204]\n",
      " [ 195 1162]]\n"
     ]
    }
   ],
   "source": [
    "print(\"Confusion Matrix :\")\n",
    "print(confusion_matrix(y_train, y_train_gbm_K))"
   ]
  },
  {
   "cell_type": "code",
   "execution_count": 190,
   "id": "f60734e3-70cc-43e1-9c68-5a489a057652",
   "metadata": {},
   "outputs": [
    {
     "data": {
      "text/plain": [
       "GradientBoostingClassifier()"
      ]
     },
     "execution_count": 190,
     "metadata": {},
     "output_type": "execute_result"
    }
   ],
   "source": [
    "gbm.fit(x_train, y_train)"
   ]
  },
  {
   "cell_type": "code",
   "execution_count": 191,
   "id": "beed996d-b8a3-49a1-b1c4-a6431123044f",
   "metadata": {},
   "outputs": [],
   "source": [
    "y_pred_gbm = gbm.predict(x_test)"
   ]
  },
  {
   "cell_type": "code",
   "execution_count": 246,
   "id": "13587af0-4857-449a-9edc-91e6807f4362",
   "metadata": {},
   "outputs": [
    {
     "name": "stdout",
     "output_type": "stream",
     "text": [
      "Accuracy : 82.0 %\n",
      "Precision : 0.82\n",
      "Recall : 0.84\n",
      "f1_Score : 0.83\n"
     ]
    }
   ],
   "source": [
    "# For Gradient Boosting:\n",
    "\n",
    "print(\"Accuracy :\", round(accuracy_score(y_test, y_pred_gbm), 2)*100,\"%\")\n",
    "print(\"Precision :\", round(precision_score(y_test, y_pred_gbm), 2))\n",
    "print(\"Recall :\", round(recall_score(y_test, y_pred_gbm), 2))\n",
    "print(\"f1_Score :\", round(f1_score(y_test, y_pred_gbm), 2))"
   ]
  },
  {
   "cell_type": "code",
   "execution_count": 193,
   "id": "878b7350-f6d0-44c6-a7c2-386da934f88a",
   "metadata": {},
   "outputs": [
    {
     "name": "stdout",
     "output_type": "stream",
     "text": [
      "Confusion Matrix :\n",
      "[[2686  739]\n",
      " [ 640 3435]]\n"
     ]
    }
   ],
   "source": [
    "print(\"Confusion Matrix :\")\n",
    "print(confusion_matrix(y_test, y_pred_gbm))"
   ]
  },
  {
   "cell_type": "markdown",
   "id": "6a9e2d9b-eca5-456b-bf27-47c858cb121c",
   "metadata": {},
   "source": [
    "### Using XGBoost"
   ]
  },
  {
   "cell_type": "code",
   "execution_count": 194,
   "id": "7ea9ab3c-da49-4970-97aa-2a06caffc171",
   "metadata": {},
   "outputs": [],
   "source": [
    "xgb = XGBClassifier()"
   ]
  },
  {
   "cell_type": "code",
   "execution_count": 195,
   "id": "2b0a3980-ed52-44b2-9267-e7829d60dd2c",
   "metadata": {},
   "outputs": [
    {
     "name": "stderr",
     "output_type": "stream",
     "text": [
      "C:\\Users\\Shriraj\\anaconda3\\envs\\my_env\\lib\\site-packages\\xgboost\\sklearn.py:1224: UserWarning: The use of label encoder in XGBClassifier is deprecated and will be removed in a future release. To remove this warning, do the following: 1) Pass option use_label_encoder=False when constructing XGBClassifier object; and 2) Encode your labels (y) as integers starting with 0, i.e. 0, 1, 2, ..., [num_class - 1].\n",
      "  warnings.warn(label_encoder_deprecation_msg, UserWarning)\n"
     ]
    },
    {
     "name": "stdout",
     "output_type": "stream",
     "text": [
      "[17:05:40] WARNING: C:/Users/Administrator/workspace/xgboost-win64_release_1.5.1/src/learner.cc:1115: Starting in XGBoost 1.3.0, the default evaluation metric used with the objective 'binary:logistic' was changed from 'error' to 'logloss'. Explicitly set eval_metric if you'd like to restore the old behavior.\n"
     ]
    },
    {
     "name": "stderr",
     "output_type": "stream",
     "text": [
      "C:\\Users\\Shriraj\\anaconda3\\envs\\my_env\\lib\\site-packages\\xgboost\\sklearn.py:1224: UserWarning: The use of label encoder in XGBClassifier is deprecated and will be removed in a future release. To remove this warning, do the following: 1) Pass option use_label_encoder=False when constructing XGBClassifier object; and 2) Encode your labels (y) as integers starting with 0, i.e. 0, 1, 2, ..., [num_class - 1].\n",
      "  warnings.warn(label_encoder_deprecation_msg, UserWarning)\n"
     ]
    },
    {
     "name": "stdout",
     "output_type": "stream",
     "text": [
      "[17:05:40] WARNING: C:/Users/Administrator/workspace/xgboost-win64_release_1.5.1/src/learner.cc:1115: Starting in XGBoost 1.3.0, the default evaluation metric used with the objective 'binary:logistic' was changed from 'error' to 'logloss'. Explicitly set eval_metric if you'd like to restore the old behavior.\n"
     ]
    },
    {
     "name": "stderr",
     "output_type": "stream",
     "text": [
      "C:\\Users\\Shriraj\\anaconda3\\envs\\my_env\\lib\\site-packages\\xgboost\\sklearn.py:1224: UserWarning: The use of label encoder in XGBClassifier is deprecated and will be removed in a future release. To remove this warning, do the following: 1) Pass option use_label_encoder=False when constructing XGBClassifier object; and 2) Encode your labels (y) as integers starting with 0, i.e. 0, 1, 2, ..., [num_class - 1].\n",
      "  warnings.warn(label_encoder_deprecation_msg, UserWarning)\n"
     ]
    },
    {
     "name": "stdout",
     "output_type": "stream",
     "text": [
      "[17:05:41] WARNING: C:/Users/Administrator/workspace/xgboost-win64_release_1.5.1/src/learner.cc:1115: Starting in XGBoost 1.3.0, the default evaluation metric used with the objective 'binary:logistic' was changed from 'error' to 'logloss'. Explicitly set eval_metric if you'd like to restore the old behavior.\n"
     ]
    },
    {
     "name": "stderr",
     "output_type": "stream",
     "text": [
      "C:\\Users\\Shriraj\\anaconda3\\envs\\my_env\\lib\\site-packages\\xgboost\\sklearn.py:1224: UserWarning: The use of label encoder in XGBClassifier is deprecated and will be removed in a future release. To remove this warning, do the following: 1) Pass option use_label_encoder=False when constructing XGBClassifier object; and 2) Encode your labels (y) as integers starting with 0, i.e. 0, 1, 2, ..., [num_class - 1].\n",
      "  warnings.warn(label_encoder_deprecation_msg, UserWarning)\n"
     ]
    },
    {
     "name": "stdout",
     "output_type": "stream",
     "text": [
      "[17:05:41] WARNING: C:/Users/Administrator/workspace/xgboost-win64_release_1.5.1/src/learner.cc:1115: Starting in XGBoost 1.3.0, the default evaluation metric used with the objective 'binary:logistic' was changed from 'error' to 'logloss'. Explicitly set eval_metric if you'd like to restore the old behavior.\n"
     ]
    },
    {
     "name": "stderr",
     "output_type": "stream",
     "text": [
      "C:\\Users\\Shriraj\\anaconda3\\envs\\my_env\\lib\\site-packages\\xgboost\\sklearn.py:1224: UserWarning: The use of label encoder in XGBClassifier is deprecated and will be removed in a future release. To remove this warning, do the following: 1) Pass option use_label_encoder=False when constructing XGBClassifier object; and 2) Encode your labels (y) as integers starting with 0, i.e. 0, 1, 2, ..., [num_class - 1].\n",
      "  warnings.warn(label_encoder_deprecation_msg, UserWarning)\n"
     ]
    },
    {
     "name": "stdout",
     "output_type": "stream",
     "text": [
      "[17:05:41] WARNING: C:/Users/Administrator/workspace/xgboost-win64_release_1.5.1/src/learner.cc:1115: Starting in XGBoost 1.3.0, the default evaluation metric used with the objective 'binary:logistic' was changed from 'error' to 'logloss'. Explicitly set eval_metric if you'd like to restore the old behavior.\n"
     ]
    }
   ],
   "source": [
    "# k-fold cross validation for:\n",
    "y_train_xgb_K = cross_val_predict(xgb, x_train, y_train, cv=5)"
   ]
  },
  {
   "cell_type": "code",
   "execution_count": 245,
   "id": "2c2e4758-2148-4aaa-bba5-b0dca383ed99",
   "metadata": {},
   "outputs": [
    {
     "name": "stdout",
     "output_type": "stream",
     "text": [
      "Accuracy : 83.0 %\n",
      "Precision : 0.84\n",
      "Recall : 0.84\n",
      "f1_Score : 0.84\n"
     ]
    }
   ],
   "source": [
    "# For K-fold cross Validation\n",
    "\n",
    "print(\"Accuracy :\", round(accuracy_score(y_train, y_train_xgb_K), 2)*100,\"%\")\n",
    "print(\"Precision :\", round(precision_score(y_train, y_train_xgb_K), 2))\n",
    "print(\"Recall :\", round(recall_score(y_train, y_train_xgb_K), 2))\n",
    "print(\"f1_Score :\", round(f1_score(y_train, y_train_xgb_K), 2))"
   ]
  },
  {
   "cell_type": "code",
   "execution_count": 197,
   "id": "4abbe435-6003-4ca0-bc36-9414dee0550e",
   "metadata": {},
   "outputs": [
    {
     "name": "stdout",
     "output_type": "stream",
     "text": [
      "Confusion Matrix :\n",
      "[[ 923  219]\n",
      " [ 216 1141]]\n"
     ]
    }
   ],
   "source": [
    "print(\"Confusion Matrix :\")\n",
    "print(confusion_matrix(y_train, y_train_xgb_K))"
   ]
  },
  {
   "cell_type": "code",
   "execution_count": 198,
   "id": "35eef423-d75b-4e1d-a9d0-82c863ad297a",
   "metadata": {},
   "outputs": [
    {
     "name": "stderr",
     "output_type": "stream",
     "text": [
      "C:\\Users\\Shriraj\\anaconda3\\envs\\my_env\\lib\\site-packages\\xgboost\\sklearn.py:1224: UserWarning: The use of label encoder in XGBClassifier is deprecated and will be removed in a future release. To remove this warning, do the following: 1) Pass option use_label_encoder=False when constructing XGBClassifier object; and 2) Encode your labels (y) as integers starting with 0, i.e. 0, 1, 2, ..., [num_class - 1].\n",
      "  warnings.warn(label_encoder_deprecation_msg, UserWarning)\n"
     ]
    },
    {
     "name": "stdout",
     "output_type": "stream",
     "text": [
      "[17:06:23] WARNING: C:/Users/Administrator/workspace/xgboost-win64_release_1.5.1/src/learner.cc:1115: Starting in XGBoost 1.3.0, the default evaluation metric used with the objective 'binary:logistic' was changed from 'error' to 'logloss'. Explicitly set eval_metric if you'd like to restore the old behavior.\n"
     ]
    },
    {
     "data": {
      "text/plain": [
       "XGBClassifier(base_score=0.5, booster='gbtree', colsample_bylevel=1,\n",
       "              colsample_bynode=1, colsample_bytree=1, enable_categorical=False,\n",
       "              gamma=0, gpu_id=-1, importance_type=None,\n",
       "              interaction_constraints='', learning_rate=0.300000012,\n",
       "              max_delta_step=0, max_depth=6, min_child_weight=1, missing=nan,\n",
       "              monotone_constraints='()', n_estimators=100, n_jobs=4,\n",
       "              num_parallel_tree=1, predictor='auto', random_state=0,\n",
       "              reg_alpha=0, reg_lambda=1, scale_pos_weight=1, subsample=1,\n",
       "              tree_method='exact', validate_parameters=1, verbosity=None)"
      ]
     },
     "execution_count": 198,
     "metadata": {},
     "output_type": "execute_result"
    }
   ],
   "source": [
    "xgb.fit(x_train, y_train)"
   ]
  },
  {
   "cell_type": "code",
   "execution_count": 199,
   "id": "b5a48a51-3204-45ae-ad30-76ef426a0e62",
   "metadata": {},
   "outputs": [],
   "source": [
    "y_pred_xgb = xgb.predict(x_test)"
   ]
  },
  {
   "cell_type": "code",
   "execution_count": 244,
   "id": "45321c39-0a9b-4df0-a430-7fb2f955d243",
   "metadata": {},
   "outputs": [
    {
     "name": "stdout",
     "output_type": "stream",
     "text": [
      "Accuracy : 80.0 %\n",
      "Precision : 0.82\n",
      "Recall : 0.82\n",
      "f1_Score : 0.82\n"
     ]
    }
   ],
   "source": [
    "# For XGBoost\n",
    "\n",
    "print(\"Accuracy :\", round(accuracy_score(y_test, y_pred_xgb), 2)*100,\"%\")\n",
    "print(\"Precision :\", round(precision_score(y_test, y_pred_xgb), 2))\n",
    "print(\"Recall :\", round(recall_score(y_test, y_pred_xgb), 2))\n",
    "print(\"f1_Score :\", round(f1_score(y_test, y_pred_xgb), 2))"
   ]
  },
  {
   "cell_type": "code",
   "execution_count": 201,
   "id": "21b66d54-1b14-403a-b981-8bd0675fa7ea",
   "metadata": {},
   "outputs": [
    {
     "name": "stdout",
     "output_type": "stream",
     "text": [
      "Confusion Matrix :\n",
      "[[2666  759]\n",
      " [ 716 3359]]\n"
     ]
    }
   ],
   "source": [
    "print(\"Confusion Matrix :\")\n",
    "print(confusion_matrix(y_test, y_pred_xgb))"
   ]
  },
  {
   "cell_type": "markdown",
   "id": "1034b518-fcab-4cc7-95c2-793da2ea5ce2",
   "metadata": {},
   "source": [
    "### Using SVM"
   ]
  },
  {
   "cell_type": "code",
   "execution_count": 202,
   "id": "85f95ebe-fc8b-4a53-80de-44e763380b19",
   "metadata": {},
   "outputs": [],
   "source": [
    "svm = SVC()"
   ]
  },
  {
   "cell_type": "code",
   "execution_count": 203,
   "id": "de693ef8-f36c-4ae9-965a-6ef8ad47959a",
   "metadata": {},
   "outputs": [],
   "source": [
    "y_train_svm_K = cross_val_predict(svm, x_train, y_train, cv=5)"
   ]
  },
  {
   "cell_type": "code",
   "execution_count": 243,
   "id": "c09af85a-ba33-46fc-b740-2010bd5e99c8",
   "metadata": {},
   "outputs": [
    {
     "name": "stdout",
     "output_type": "stream",
     "text": [
      "Accuracy : 84.0 %\n",
      "Precision : 0.85\n",
      "Recall : 0.85\n",
      "f1_Score : 0.85\n"
     ]
    }
   ],
   "source": [
    "# For K-fold cross Validation\n",
    "\n",
    "print(\"Accuracy :\", round(accuracy_score(y_train, y_train_svm_K), 2)*100,\"%\")\n",
    "print(\"Precision :\", round(precision_score(y_train, y_train_svm_K), 2))\n",
    "print(\"Recall :\", round(recall_score(y_train, y_train_svm_K), 2))\n",
    "print(\"f1_Score :\", round(f1_score(y_train, y_train_svm_K), 2))"
   ]
  },
  {
   "cell_type": "code",
   "execution_count": 205,
   "id": "fed335f7-2cbd-4dc3-8ca9-a4719da1e36e",
   "metadata": {},
   "outputs": [
    {
     "name": "stdout",
     "output_type": "stream",
     "text": [
      "Confusion Matrix :\n",
      "[[ 931  211]\n",
      " [ 199 1158]]\n"
     ]
    }
   ],
   "source": [
    "print(\"Confusion Matrix :\")\n",
    "print(confusion_matrix(y_train, y_train_svm_K))"
   ]
  },
  {
   "cell_type": "code",
   "execution_count": 206,
   "id": "a1edb1f7-4785-49fb-bed4-f4cfa9502654",
   "metadata": {},
   "outputs": [
    {
     "data": {
      "text/plain": [
       "SVC()"
      ]
     },
     "execution_count": 206,
     "metadata": {},
     "output_type": "execute_result"
    }
   ],
   "source": [
    "svm.fit(x_train, y_train)"
   ]
  },
  {
   "cell_type": "code",
   "execution_count": 207,
   "id": "7d1c2862-741b-4608-b790-52f7bda076c0",
   "metadata": {},
   "outputs": [],
   "source": [
    "y_pred_svm = svm.predict(x_test)"
   ]
  },
  {
   "cell_type": "code",
   "execution_count": 242,
   "id": "beacee08-af23-4c66-9b28-9185100bea68",
   "metadata": {},
   "outputs": [
    {
     "name": "stdout",
     "output_type": "stream",
     "text": [
      "Accuracy : 82.0 %\n",
      "Precision : 0.82\n",
      "Recall : 0.84\n",
      "f1_Score : 0.83\n"
     ]
    }
   ],
   "source": [
    "# For SVM\n",
    "\n",
    "print(\"Accuracy :\", round(accuracy_score(y_test, y_pred_svm), 2)*100,\"%\")\n",
    "print(\"Precision :\", round(precision_score(y_test, y_pred_svm), 2))\n",
    "print(\"Recall :\", round(recall_score(y_test, y_pred_svm), 2))\n",
    "print(\"f1_Score :\", round(f1_score(y_test, y_pred_svm), 2))"
   ]
  },
  {
   "cell_type": "code",
   "execution_count": 209,
   "id": "c1a1f17d-43ff-4f79-a152-f9ed51b289da",
   "metadata": {},
   "outputs": [
    {
     "name": "stdout",
     "output_type": "stream",
     "text": [
      "Confusion Matrix :\n",
      "[[2694  731]\n",
      " [ 647 3428]]\n"
     ]
    }
   ],
   "source": [
    "print(\"Confusion Matrix :\")\n",
    "print(confusion_matrix(y_test, y_pred_svm))"
   ]
  },
  {
   "cell_type": "markdown",
   "id": "9fd2d4ea-9b8e-4eab-ae87-d7bc33afe630",
   "metadata": {},
   "source": [
    "### Conclusion, Comparing the performance of all the models (Random Forest, GBM, XGBOOST and SVM)"
   ]
  },
  {
   "cell_type": "markdown",
   "id": "52911ced-795b-4170-9897-1a15dc2e34a4",
   "metadata": {},
   "source": [
    "- Accuracy of Random Forest : **82%**\n",
    "- Accuracy of GBM   : **82%**\n",
    "- Accuracy of XGBoost   : **80%**\n",
    "- Accuracy of SVM   : **82%**\n",
    "\n",
    "Here Accuracy of all the models are near about same.\n",
    "But we have to also check other metrics as well like Precision, Recall,and F1 score."
   ]
  },
  {
   "cell_type": "markdown",
   "id": "3b9bc22d-ed35-4732-a776-943105a60378",
   "metadata": {},
   "source": [
    "- Precision of Random Forest : **0.83**\n",
    "- Precision of GBM   : **0.82**\n",
    "- Precision of XGBoost   : **0.82**\n",
    "- Precision of SVM   : **0.82**\n",
    "\n",
    "Here Precision of all the models are near about same."
   ]
  },
  {
   "cell_type": "markdown",
   "id": "e70fab57-355c-4a86-a21e-8014b2447137",
   "metadata": {},
   "source": [
    "- Recall of Random Forest : **0.83**\n",
    "- Recall of GBM   : **0.84**\n",
    "- Recall of XGBoost   : **0.82**\n",
    "- Recall of SVM   : **0.84**\n",
    "\n",
    "Here Recall of all the models are near about same."
   ]
  },
  {
   "cell_type": "markdown",
   "id": "bbf1e47c-0ece-4040-87c7-826e9428b96d",
   "metadata": {},
   "source": [
    "- F1-Score of Random Forest : **0.83**\n",
    "- F1-Score of GBM   : **0.83**\n",
    "- F1-Score of XGBoost   : **0.82**\n",
    "- F1-Score of SVM   : **0.83**\n",
    "\n",
    "Here F1-Score of all the models are near about same."
   ]
  },
  {
   "cell_type": "markdown",
   "id": "7a375fd2-2bf5-4c31-bc95-90109c6c314f",
   "metadata": {},
   "source": [
    "As per the Analysis done above we can say that, **almost all the algorithms work similar (atleast for this particular case).**"
   ]
  },
  {
   "cell_type": "markdown",
   "id": "3de42582-4161-4126-bdab-d45f018d1e9b",
   "metadata": {},
   "source": [
    "Here we do some Hyperparameter tunning so that we came to know better."
   ]
  },
  {
   "cell_type": "markdown",
   "id": "ef403394-2da6-4489-ab2a-ffa820a0d73d",
   "metadata": {},
   "source": [
    "### Performing Hyperparameter tunning"
   ]
  },
  {
   "cell_type": "markdown",
   "id": "a51ca614-78a6-4048-89b3-0e7bb245cd5d",
   "metadata": {},
   "source": [
    "#### For Random Forest"
   ]
  },
  {
   "cell_type": "code",
   "execution_count": 255,
   "id": "560a1be2-30f0-4edb-a514-0e22a0686174",
   "metadata": {},
   "outputs": [
    {
     "name": "stdout",
     "output_type": "stream",
     "text": [
      "Fitting 5 folds for each of 16 candidates, totalling 80 fits\n"
     ]
    },
    {
     "data": {
      "text/plain": [
       "GridSearchCV(cv=5, estimator=RandomForestClassifier(random_state=8), n_jobs=-1,\n",
       "             param_grid={'criterion': ['entropy'], 'max_depth': [2, 4],\n",
       "                         'min_samples_leaf': [2, 4],\n",
       "                         'min_samples_split': [2, 4],\n",
       "                         'n_estimators': [100, 200]},\n",
       "             verbose=2)"
      ]
     },
     "execution_count": 255,
     "metadata": {},
     "output_type": "execute_result"
    }
   ],
   "source": [
    "params = {'n_estimators' : [100,200],\n",
    "          'criterion' : ['entropy'],\n",
    "          'max_depth' : [2,4],\n",
    "          'min_samples_split' : [2,4],\n",
    "          'min_samples_leaf' : [2,4]\n",
    "          } \n",
    "\n",
    "grid_search_rf = GridSearchCV(RandomForestClassifier(random_state=8), \n",
    "                              params, \n",
    "                              verbose=2,\n",
    "                              n_jobs=-1,\n",
    "                              cv=5)\n",
    "\n",
    "grid_search_rf.fit(x_train, y_train)"
   ]
  },
  {
   "cell_type": "code",
   "execution_count": 256,
   "id": "545c05c9-88ec-4a2b-b65a-4759b345fc7a",
   "metadata": {},
   "outputs": [
    {
     "data": {
      "text/plain": [
       "RandomForestClassifier(criterion='entropy', max_depth=4, min_samples_leaf=4,\n",
       "                       random_state=8)"
      ]
     },
     "execution_count": 256,
     "metadata": {},
     "output_type": "execute_result"
    }
   ],
   "source": [
    "grid_search_rf.best_estimator_"
   ]
  },
  {
   "cell_type": "code",
   "execution_count": 257,
   "id": "4c48602c-e649-447b-9dd2-83af64c7eb19",
   "metadata": {},
   "outputs": [
    {
     "data": {
      "text/plain": [
       "{'criterion': 'entropy',\n",
       " 'max_depth': 4,\n",
       " 'min_samples_leaf': 4,\n",
       " 'min_samples_split': 2,\n",
       " 'n_estimators': 100}"
      ]
     },
     "execution_count": 257,
     "metadata": {},
     "output_type": "execute_result"
    }
   ],
   "source": [
    "grid_search_rf.best_params_"
   ]
  },
  {
   "cell_type": "code",
   "execution_count": 259,
   "id": "9ee4015b-0fb6-46e2-97fe-aaa5ab0f1882",
   "metadata": {},
   "outputs": [
    {
     "data": {
      "text/plain": [
       "RandomForestClassifier(criterion='entropy', max_depth=4, min_samples_leaf=4)"
      ]
     },
     "execution_count": 259,
     "metadata": {},
     "output_type": "execute_result"
    }
   ],
   "source": [
    "rf2 = RandomForestClassifier(criterion=\"entropy\", max_depth=4, min_samples_leaf=4, min_samples_split=2, n_estimators=100)\n",
    "rf2.fit(x_train, y_train)"
   ]
  },
  {
   "cell_type": "code",
   "execution_count": 260,
   "id": "ef4056e2-98b6-4047-b1a9-f792adafc393",
   "metadata": {},
   "outputs": [],
   "source": [
    "y_pred2 = rf2.predict(x_test)"
   ]
  },
  {
   "cell_type": "code",
   "execution_count": 261,
   "id": "832b3a80-06ec-4919-87d3-9193013d2aae",
   "metadata": {},
   "outputs": [
    {
     "name": "stdout",
     "output_type": "stream",
     "text": [
      "Accuracy : 82.0 %\n",
      "Precision : 0.84\n",
      "Recall : 0.83\n",
      "f1_Score : 0.83\n"
     ]
    }
   ],
   "source": [
    "# After HyperParameter Tuning\n",
    "\n",
    "print(\"Accuracy :\", round(accuracy_score(y_test, y_pred2), 2)*100,\"%\")\n",
    "print(\"Precision :\", round(precision_score(y_test, y_pred2), 2))\n",
    "print(\"Recall :\", round(recall_score(y_test, y_pred2), 2))\n",
    "print(\"f1_Score :\", round(f1_score(y_test, y_pred2), 2))"
   ]
  },
  {
   "cell_type": "code",
   "execution_count": 262,
   "id": "9fb0d2ef-69b3-4259-ab81-ab909ce64963",
   "metadata": {},
   "outputs": [
    {
     "name": "stdout",
     "output_type": "stream",
     "text": [
      "Confusion Matrix :\n",
      "[[2760  665]\n",
      " [ 701 3374]]\n"
     ]
    }
   ],
   "source": [
    "print(\"Confusion Matrix :\")\n",
    "print(confusion_matrix(y_test, y_pred2))"
   ]
  },
  {
   "cell_type": "code",
   "execution_count": 278,
   "id": "baed2a8f-2ed1-425f-84a0-4187cc5e6dd1",
   "metadata": {},
   "outputs": [],
   "source": [
    "# Identify the top 5 important predictors:\n",
    "\n",
    "feature_importances = pd.Series(rf2.feature_importances_, index=X.columns)\n",
    "feature_importances.sort_values(ascending=False, inplace=True)"
   ]
  },
  {
   "cell_type": "code",
   "execution_count": 279,
   "id": "a1cf0fa0-6153-4542-afe5-c19feaab47f2",
   "metadata": {},
   "outputs": [
    {
     "data": {
      "image/png": "[encoded data removed]",
      "text/plain": [
       "<Figure size 800x400 with 1 Axes>"
      ]
     },
     "metadata": {
      "needs_background": "light"
     },
     "output_type": "display_data"
    }
   ],
   "source": [
    "fig = plt.figure(figsize=(8,4), dpi=100)\n",
    "feature_importances[:5].plot.bar()\n",
    "plt.title(\"Feature importances using MDI\")\n",
    "plt.xlabel(\"Features\")\n",
    "plt.ylabel(\"Mean Decrease in Impurity\")\n",
    "plt.show()"
   ]
  },
  {
   "cell_type": "markdown",
   "id": "bf084df4-e0fc-4cc3-9871-496f176b289d",
   "metadata": {},
   "source": [
    "#### For GradientBoostingClassifier"
   ]
  },
  {
   "cell_type": "code",
   "execution_count": 265,
   "id": "5f2fcd8c-f5c3-416a-bc84-78c8928916a7",
   "metadata": {},
   "outputs": [
    {
     "name": "stdout",
     "output_type": "stream",
     "text": [
      "Fitting 5 folds for each of 48 candidates, totalling 240 fits\n"
     ]
    },
    {
     "data": {
      "text/plain": [
       "GridSearchCV(cv=5, estimator=GradientBoostingClassifier(random_state=8),\n",
       "             n_jobs=-1,\n",
       "             param_grid={'learning_rate': [0.001, 0.01, 0.1],\n",
       "                         'max_depth': [2, 4], 'min_samples_leaf': [2, 4],\n",
       "                         'min_samples_split': [2, 4],\n",
       "                         'n_estimators': [100, 200]},\n",
       "             verbose=2)"
      ]
     },
     "execution_count": 265,
     "metadata": {},
     "output_type": "execute_result"
    }
   ],
   "source": [
    "params = {'n_estimators' : [100,200],\n",
    "          'learning_rate' : [0.001, 0.01, 0.1],\n",
    "          'max_depth' : [2,4],\n",
    "          'min_samples_split' : [2,4],\n",
    "          'min_samples_leaf' : [2,4]\n",
    "          } \n",
    "\n",
    "grid_search_gbm = GridSearchCV(GradientBoostingClassifier(random_state=8), \n",
    "                              params, \n",
    "                              verbose=2,\n",
    "                              n_jobs=-1,\n",
    "                              cv=5)\n",
    "\n",
    "grid_search_gbm.fit(x_train, y_train)"
   ]
  },
  {
   "cell_type": "code",
   "execution_count": 266,
   "id": "9fb9f814-0340-4c86-b00d-819c3aefe538",
   "metadata": {},
   "outputs": [
    {
     "data": {
      "text/plain": [
       "GradientBoostingClassifier(max_depth=2, min_samples_leaf=4, random_state=8)"
      ]
     },
     "execution_count": 266,
     "metadata": {},
     "output_type": "execute_result"
    }
   ],
   "source": [
    "grid_search_gbm.best_estimator_"
   ]
  },
  {
   "cell_type": "code",
   "execution_count": 267,
   "id": "d116fdfb-fb2c-45b7-8304-3fa16a4c2743",
   "metadata": {},
   "outputs": [
    {
     "data": {
      "text/plain": [
       "{'learning_rate': 0.1,\n",
       " 'max_depth': 2,\n",
       " 'min_samples_leaf': 4,\n",
       " 'min_samples_split': 2,\n",
       " 'n_estimators': 100}"
      ]
     },
     "execution_count": 267,
     "metadata": {},
     "output_type": "execute_result"
    }
   ],
   "source": [
    "grid_search_gbm.best_params_"
   ]
  },
  {
   "cell_type": "code",
   "execution_count": 268,
   "id": "4a3a1cc5-1f41-4dac-8119-3c4b418a6197",
   "metadata": {},
   "outputs": [
    {
     "data": {
      "text/plain": [
       "GradientBoostingClassifier(max_depth=2, min_samples_leaf=4)"
      ]
     },
     "execution_count": 268,
     "metadata": {},
     "output_type": "execute_result"
    }
   ],
   "source": [
    "gbm2 = GradientBoostingClassifier(learning_rate=0.1, max_depth=2, min_samples_leaf=4, min_samples_split=2, n_estimators=100)\n",
    "gbm2.fit(x_train, y_train)"
   ]
  },
  {
   "cell_type": "code",
   "execution_count": 269,
   "id": "72a7685b-fa10-4803-8a33-c94c4ff724c4",
   "metadata": {},
   "outputs": [],
   "source": [
    "y_pred2 = gbm2.predict(x_test)"
   ]
  },
  {
   "cell_type": "code",
   "execution_count": 270,
   "id": "01f3d95b-6bdc-4f11-99d0-d1ff479a42e8",
   "metadata": {},
   "outputs": [
    {
     "name": "stdout",
     "output_type": "stream",
     "text": [
      "Accuracy : 82.0 %\n",
      "Precision : 0.83\n",
      "Recall : 0.84\n",
      "f1_Score : 0.84\n"
     ]
    }
   ],
   "source": [
    "print(\"Accuracy :\", round(accuracy_score(y_test, y_pred2), 2)*100,\"%\")\n",
    "print(\"Precision :\", round(precision_score(y_test, y_pred2), 2))\n",
    "print(\"Recall :\", round(recall_score(y_test, y_pred2), 2))\n",
    "print(\"f1_Score :\", round(f1_score(y_test, y_pred2), 2))"
   ]
  },
  {
   "cell_type": "code",
   "execution_count": 271,
   "id": "4df6967b-47d4-4ded-9379-5bfe5be6e620",
   "metadata": {},
   "outputs": [
    {
     "name": "stdout",
     "output_type": "stream",
     "text": [
      "Confusion Matrix :\n",
      "[[2718  707]\n",
      " [ 632 3443]]\n"
     ]
    }
   ],
   "source": [
    "print(\"Confusion Matrix :\")\n",
    "print(confusion_matrix(y_test, y_pred2))"
   ]
  },
  {
   "cell_type": "code",
   "execution_count": 280,
   "id": "20884e40-fd5c-4519-aee1-741d9c5db306",
   "metadata": {},
   "outputs": [],
   "source": [
    "# Identify the top 5 important predictors:\n",
    "feature_importances = pd.Series(gbm2.feature_importances_, index=X.columns)\n",
    "feature_importances.sort_values(ascending=False, inplace=True)"
   ]
  },
  {
   "cell_type": "code",
   "execution_count": 281,
   "id": "57ce2209-032e-4e47-8031-c84ab3035e92",
   "metadata": {},
   "outputs": [
    {
     "data": {
      "image/png": "[encoded data removed]",
      "text/plain": [
       "<Figure size 800x400 with 1 Axes>"
      ]
     },
     "metadata": {
      "needs_background": "light"
     },
     "output_type": "display_data"
    }
   ],
   "source": [
    "fig = plt.figure(figsize=(8,4), dpi=100)\n",
    "feature_importances[:5].plot.bar()\n",
    "plt.title(\"Feature importances using MDI\")\n",
    "plt.xlabel(\"Features\")\n",
    "plt.ylabel(\"Mean Decrease in Impurity\")\n",
    "plt.show()"
   ]
  },
  {
   "cell_type": "markdown",
   "id": "68ad28f7-2206-4a1b-b0d6-3aaefa28baab",
   "metadata": {},
   "source": [
    "### Analyzing the Results/Scores"
   ]
  },
  {
   "cell_type": "markdown",
   "id": "93ddba6d-714e-4317-be41-3a436c328b51",
   "metadata": {},
   "source": [
    "- Even after performing hyper-parameter tunning on Random Forest and GBM almost all the parameters (Accuracy, Precision, Recall and F1-Score) are nearly similar, no significant difference obtained.\n",
    "- Also we can clearly Identify the top 5 important predictors form the graph plotted above."
   ]
  },
  {
   "cell_type": "code",
   "execution_count": null,
   "id": "615479cd-8164-4352-90f8-cc1b9c1ef07a",
   "metadata": {
    "jupyter": {
     "source_hidden": true
    },
    "tags": []
   },
   "outputs": [],
   "source": []
  }
 ],
 "metadata": {
  "kernelspec": {
   "display_name": "Python 3 (ipykernel)",
   "language": "python",
   "name": "python3"
  },
  "language_info": {
   "codemirror_mode": {
    "name": "ipython",
    "version": 3
   },
   "file_extension": ".py",
   "mimetype": "text/x-python",
   "name": "python",
   "nbconvert_exporter": "python",
   "pygments_lexer": "ipython3",
   "version": "3.9.12"
  }
 },
 "nbformat": 4,
 "nbformat_minor": 5
}
