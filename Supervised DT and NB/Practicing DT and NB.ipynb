{
 "cells": [
  {
   "cell_type": "markdown",
   "id": "e9e57c09",
   "metadata": {},
   "source": [
    "## Practicing Supervised Machine Learning Algorithms\n",
    "### Decision Tree and Naive bayes"
   ]
  },
  {
   "cell_type": "markdown",
   "id": "44abefa3-efee-45a1-9ef3-e17720f98291",
   "metadata": {
    "tags": []
   },
   "source": [
    "### Problem Statement\n",
    "The data set contains 416 liver patient records and 167 non liver patient records collected from North East of Andhra Pradesh, India. The \"Dataset\" column is a class label used to divide groups into liver patient (liver disease) or not (no disease). This data set contains 441 male patient records and 142 female patient records.\n",
    "- Any patient whose age exceeded 89 is listed as being of age \"90\".\n",
    "- Dataset: field used to split the data into two sets (patient with liver disease, or no disease)\n",
    "- Use these patient records to determine which patients have liver disease and which ones do not. Perform the following operations.\n",
    "    - Analyze the data\n",
    "        - Find out if there are any attributes with correlation more than 0.50\n",
    "        - Visualize the attributes using – Kernel density estimation (KDE/Histogram plots) or other relevant plots – Write down your observations\n",
    "    - Curate the data (if required)\n",
    "        - Identify the missing values and fill them with an appropriate method, if there are any missing values.\n",
    "    - Build a disease classifier using Decision Tree (DT) and Naïve Bayes (NB) algorithms.\n",
    "        - Build the model & Perform 5-fold cross validation\n",
    "        - Evaluate the model using accuracy, confusion matrix, precision, recall and F1-Scores.\n",
    "        - Compare the performance of both the models (NB and DT)\n",
    "    - Store the results into a csv file."
   ]
  },
  {
   "cell_type": "code",
   "execution_count": 2,
   "id": "e12cc05b",
   "metadata": {},
   "outputs": [],
   "source": [
    "# Importing necessary libraries:\n",
    "import pandas as pd\n",
    "import numpy as np\n",
    "import matplotlib.pyplot as plt\n",
    "import seaborn as sns\n",
    "from sklearn.model_selection import train_test_split\n",
    "from sklearn.tree import DecisionTreeClassifier\n",
    "from sklearn.naive_bayes import GaussianNB\n",
    "from sklearn.metrics import accuracy_score, precision_score, recall_score, f1_score, confusion_matrix\n",
    "from sklearn.model_selection import cross_val_predict"
   ]
  },
  {
   "cell_type": "code",
   "execution_count": 3,
   "id": "e2cf81fb",
   "metadata": {},
   "outputs": [],
   "source": [
    "# Reading the dataset:\n",
    "df = pd.read_csv(\"indian_liver_patient.csv\")"
   ]
  },
  {
   "cell_type": "code",
   "execution_count": 4,
   "id": "d0db2a62",
   "metadata": {},
   "outputs": [
    {
     "data": {
      "text/html": [
       "<div>\n",
       "<style scoped>\n",
       "    .dataframe tbody tr th:only-of-type {\n",
       "        vertical-align: middle;\n",
       "    }\n",
       "\n",
       "    .dataframe tbody tr th {\n",
       "        vertical-align: top;\n",
       "    }\n",
       "\n",
       "    .dataframe thead th {\n",
       "        text-align: right;\n",
       "    }\n",
       "</style>\n",
       "<table border=\"1\" class=\"dataframe\">\n",
       "  <thead>\n",
       "    <tr style=\"text-align: right;\">\n",
       "      <th></th>\n",
       "      <th>Age</th>\n",
       "      <th>Gender</th>\n",
       "      <th>Total_Bilirubin</th>\n",
       "      <th>Direct_Bilirubin</th>\n",
       "      <th>Alkaline_Phosphotase</th>\n",
       "      <th>Alamine_Aminotransferase</th>\n",
       "      <th>Aspartate_Aminotransferase</th>\n",
       "      <th>Total_Protiens</th>\n",
       "      <th>Albumin</th>\n",
       "      <th>Albumin_and_Globulin_Ratio</th>\n",
       "      <th>Dataset</th>\n",
       "    </tr>\n",
       "  </thead>\n",
       "  <tbody>\n",
       "    <tr>\n",
       "      <th>0</th>\n",
       "      <td>65</td>\n",
       "      <td>Female</td>\n",
       "      <td>0.7</td>\n",
       "      <td>0.1</td>\n",
       "      <td>187</td>\n",
       "      <td>16</td>\n",
       "      <td>18</td>\n",
       "      <td>6.8</td>\n",
       "      <td>3.3</td>\n",
       "      <td>0.90</td>\n",
       "      <td>1</td>\n",
       "    </tr>\n",
       "    <tr>\n",
       "      <th>1</th>\n",
       "      <td>62</td>\n",
       "      <td>Male</td>\n",
       "      <td>10.9</td>\n",
       "      <td>5.5</td>\n",
       "      <td>699</td>\n",
       "      <td>64</td>\n",
       "      <td>100</td>\n",
       "      <td>7.5</td>\n",
       "      <td>3.2</td>\n",
       "      <td>0.74</td>\n",
       "      <td>1</td>\n",
       "    </tr>\n",
       "    <tr>\n",
       "      <th>2</th>\n",
       "      <td>62</td>\n",
       "      <td>Male</td>\n",
       "      <td>7.3</td>\n",
       "      <td>4.1</td>\n",
       "      <td>490</td>\n",
       "      <td>60</td>\n",
       "      <td>68</td>\n",
       "      <td>7.0</td>\n",
       "      <td>3.3</td>\n",
       "      <td>0.89</td>\n",
       "      <td>1</td>\n",
       "    </tr>\n",
       "    <tr>\n",
       "      <th>3</th>\n",
       "      <td>58</td>\n",
       "      <td>Male</td>\n",
       "      <td>1.0</td>\n",
       "      <td>0.4</td>\n",
       "      <td>182</td>\n",
       "      <td>14</td>\n",
       "      <td>20</td>\n",
       "      <td>6.8</td>\n",
       "      <td>3.4</td>\n",
       "      <td>1.00</td>\n",
       "      <td>1</td>\n",
       "    </tr>\n",
       "    <tr>\n",
       "      <th>4</th>\n",
       "      <td>72</td>\n",
       "      <td>Male</td>\n",
       "      <td>3.9</td>\n",
       "      <td>2.0</td>\n",
       "      <td>195</td>\n",
       "      <td>27</td>\n",
       "      <td>59</td>\n",
       "      <td>7.3</td>\n",
       "      <td>2.4</td>\n",
       "      <td>0.40</td>\n",
       "      <td>1</td>\n",
       "    </tr>\n",
       "  </tbody>\n",
       "</table>\n",
       "</div>"
      ],
      "text/plain": [
       "   Age  Gender  Total_Bilirubin  Direct_Bilirubin  Alkaline_Phosphotase  \\\n",
       "0   65  Female              0.7               0.1                   187   \n",
       "1   62    Male             10.9               5.5                   699   \n",
       "2   62    Male              7.3               4.1                   490   \n",
       "3   58    Male              1.0               0.4                   182   \n",
       "4   72    Male              3.9               2.0                   195   \n",
       "\n",
       "   Alamine_Aminotransferase  Aspartate_Aminotransferase  Total_Protiens  \\\n",
       "0                        16                          18             6.8   \n",
       "1                        64                         100             7.5   \n",
       "2                        60                          68             7.0   \n",
       "3                        14                          20             6.8   \n",
       "4                        27                          59             7.3   \n",
       "\n",
       "   Albumin  Albumin_and_Globulin_Ratio  Dataset  \n",
       "0      3.3                        0.90        1  \n",
       "1      3.2                        0.74        1  \n",
       "2      3.3                        0.89        1  \n",
       "3      3.4                        1.00        1  \n",
       "4      2.4                        0.40        1  "
      ]
     },
     "execution_count": 4,
     "metadata": {},
     "output_type": "execute_result"
    }
   ],
   "source": [
    "# Top 5 records:\n",
    "df.head()"
   ]
  },
  {
   "cell_type": "code",
   "execution_count": 4,
   "id": "f7920d2c",
   "metadata": {},
   "outputs": [
    {
     "data": {
      "text/plain": [
       "(583, 11)"
      ]
     },
     "execution_count": 4,
     "metadata": {},
     "output_type": "execute_result"
    }
   ],
   "source": [
    "# Shape\n",
    "df.shape"
   ]
  },
  {
   "cell_type": "code",
   "execution_count": 5,
   "id": "04d7b68f",
   "metadata": {},
   "outputs": [
    {
     "data": {
      "text/plain": [
       "1    416\n",
       "2    167\n",
       "Name: Dataset, dtype: int64"
      ]
     },
     "execution_count": 5,
     "metadata": {},
     "output_type": "execute_result"
    }
   ],
   "source": [
    "# Target data\n",
    "df[\"Dataset\"].value_counts()"
   ]
  },
  {
   "cell_type": "code",
   "execution_count": 6,
   "id": "9611295f",
   "metadata": {},
   "outputs": [
    {
     "data": {
      "text/html": [
       "<div>\n",
       "<style scoped>\n",
       "    .dataframe tbody tr th:only-of-type {\n",
       "        vertical-align: middle;\n",
       "    }\n",
       "\n",
       "    .dataframe tbody tr th {\n",
       "        vertical-align: top;\n",
       "    }\n",
       "\n",
       "    .dataframe thead th {\n",
       "        text-align: right;\n",
       "    }\n",
       "</style>\n",
       "<table border=\"1\" class=\"dataframe\">\n",
       "  <thead>\n",
       "    <tr style=\"text-align: right;\">\n",
       "      <th></th>\n",
       "      <th>Age</th>\n",
       "      <th>Total_Bilirubin</th>\n",
       "      <th>Direct_Bilirubin</th>\n",
       "      <th>Alkaline_Phosphotase</th>\n",
       "      <th>Alamine_Aminotransferase</th>\n",
       "      <th>Aspartate_Aminotransferase</th>\n",
       "      <th>Total_Protiens</th>\n",
       "      <th>Albumin</th>\n",
       "      <th>Albumin_and_Globulin_Ratio</th>\n",
       "      <th>Dataset</th>\n",
       "    </tr>\n",
       "  </thead>\n",
       "  <tbody>\n",
       "    <tr>\n",
       "      <th>count</th>\n",
       "      <td>583.000000</td>\n",
       "      <td>583.000000</td>\n",
       "      <td>583.000000</td>\n",
       "      <td>583.000000</td>\n",
       "      <td>583.000000</td>\n",
       "      <td>583.000000</td>\n",
       "      <td>583.000000</td>\n",
       "      <td>583.000000</td>\n",
       "      <td>579.000000</td>\n",
       "      <td>583.000000</td>\n",
       "    </tr>\n",
       "    <tr>\n",
       "      <th>mean</th>\n",
       "      <td>44.746141</td>\n",
       "      <td>3.298799</td>\n",
       "      <td>1.486106</td>\n",
       "      <td>290.576329</td>\n",
       "      <td>80.713551</td>\n",
       "      <td>109.910806</td>\n",
       "      <td>6.483190</td>\n",
       "      <td>3.141852</td>\n",
       "      <td>0.947064</td>\n",
       "      <td>1.286449</td>\n",
       "    </tr>\n",
       "    <tr>\n",
       "      <th>std</th>\n",
       "      <td>16.189833</td>\n",
       "      <td>6.209522</td>\n",
       "      <td>2.808498</td>\n",
       "      <td>242.937989</td>\n",
       "      <td>182.620356</td>\n",
       "      <td>288.918529</td>\n",
       "      <td>1.085451</td>\n",
       "      <td>0.795519</td>\n",
       "      <td>0.319592</td>\n",
       "      <td>0.452490</td>\n",
       "    </tr>\n",
       "    <tr>\n",
       "      <th>min</th>\n",
       "      <td>4.000000</td>\n",
       "      <td>0.400000</td>\n",
       "      <td>0.100000</td>\n",
       "      <td>63.000000</td>\n",
       "      <td>10.000000</td>\n",
       "      <td>10.000000</td>\n",
       "      <td>2.700000</td>\n",
       "      <td>0.900000</td>\n",
       "      <td>0.300000</td>\n",
       "      <td>1.000000</td>\n",
       "    </tr>\n",
       "    <tr>\n",
       "      <th>25%</th>\n",
       "      <td>33.000000</td>\n",
       "      <td>0.800000</td>\n",
       "      <td>0.200000</td>\n",
       "      <td>175.500000</td>\n",
       "      <td>23.000000</td>\n",
       "      <td>25.000000</td>\n",
       "      <td>5.800000</td>\n",
       "      <td>2.600000</td>\n",
       "      <td>0.700000</td>\n",
       "      <td>1.000000</td>\n",
       "    </tr>\n",
       "    <tr>\n",
       "      <th>50%</th>\n",
       "      <td>45.000000</td>\n",
       "      <td>1.000000</td>\n",
       "      <td>0.300000</td>\n",
       "      <td>208.000000</td>\n",
       "      <td>35.000000</td>\n",
       "      <td>42.000000</td>\n",
       "      <td>6.600000</td>\n",
       "      <td>3.100000</td>\n",
       "      <td>0.930000</td>\n",
       "      <td>1.000000</td>\n",
       "    </tr>\n",
       "    <tr>\n",
       "      <th>75%</th>\n",
       "      <td>58.000000</td>\n",
       "      <td>2.600000</td>\n",
       "      <td>1.300000</td>\n",
       "      <td>298.000000</td>\n",
       "      <td>60.500000</td>\n",
       "      <td>87.000000</td>\n",
       "      <td>7.200000</td>\n",
       "      <td>3.800000</td>\n",
       "      <td>1.100000</td>\n",
       "      <td>2.000000</td>\n",
       "    </tr>\n",
       "    <tr>\n",
       "      <th>max</th>\n",
       "      <td>90.000000</td>\n",
       "      <td>75.000000</td>\n",
       "      <td>19.700000</td>\n",
       "      <td>2110.000000</td>\n",
       "      <td>2000.000000</td>\n",
       "      <td>4929.000000</td>\n",
       "      <td>9.600000</td>\n",
       "      <td>5.500000</td>\n",
       "      <td>2.800000</td>\n",
       "      <td>2.000000</td>\n",
       "    </tr>\n",
       "  </tbody>\n",
       "</table>\n",
       "</div>"
      ],
      "text/plain": [
       "              Age  Total_Bilirubin  Direct_Bilirubin  Alkaline_Phosphotase  \\\n",
       "count  583.000000       583.000000        583.000000            583.000000   \n",
       "mean    44.746141         3.298799          1.486106            290.576329   \n",
       "std     16.189833         6.209522          2.808498            242.937989   \n",
       "min      4.000000         0.400000          0.100000             63.000000   \n",
       "25%     33.000000         0.800000          0.200000            175.500000   \n",
       "50%     45.000000         1.000000          0.300000            208.000000   \n",
       "75%     58.000000         2.600000          1.300000            298.000000   \n",
       "max     90.000000        75.000000         19.700000           2110.000000   \n",
       "\n",
       "       Alamine_Aminotransferase  Aspartate_Aminotransferase  Total_Protiens  \\\n",
       "count                583.000000                  583.000000      583.000000   \n",
       "mean                  80.713551                  109.910806        6.483190   \n",
       "std                  182.620356                  288.918529        1.085451   \n",
       "min                   10.000000                   10.000000        2.700000   \n",
       "25%                   23.000000                   25.000000        5.800000   \n",
       "50%                   35.000000                   42.000000        6.600000   \n",
       "75%                   60.500000                   87.000000        7.200000   \n",
       "max                 2000.000000                 4929.000000        9.600000   \n",
       "\n",
       "          Albumin  Albumin_and_Globulin_Ratio     Dataset  \n",
       "count  583.000000                  579.000000  583.000000  \n",
       "mean     3.141852                    0.947064    1.286449  \n",
       "std      0.795519                    0.319592    0.452490  \n",
       "min      0.900000                    0.300000    1.000000  \n",
       "25%      2.600000                    0.700000    1.000000  \n",
       "50%      3.100000                    0.930000    1.000000  \n",
       "75%      3.800000                    1.100000    2.000000  \n",
       "max      5.500000                    2.800000    2.000000  "
      ]
     },
     "execution_count": 6,
     "metadata": {},
     "output_type": "execute_result"
    }
   ],
   "source": [
    "# Statistical Details:\n",
    "df.describe()"
   ]
  },
  {
   "cell_type": "code",
   "execution_count": 7,
   "id": "00cc8985",
   "metadata": {},
   "outputs": [
    {
     "data": {
      "image/png": "[encoded data removed]",
      "text/plain": [
       "<Figure size 1008x432 with 2 Axes>"
      ]
     },
     "metadata": {
      "needs_background": "light"
     },
     "output_type": "display_data"
    }
   ],
   "source": [
    "# Correlation using Heatmap:\n",
    "plt.figure(figsize=(14,6))\n",
    "sns.heatmap(df.corr(), annot=True, cmap=\"PiYG\")\n",
    "plt.show()"
   ]
  },
  {
   "cell_type": "markdown",
   "id": "39277bc8",
   "metadata": {},
   "source": [
    "- Total_Bilirubin and Direct_Bilirubin features having **0.87** correlation.\n",
    "- Aspartate_Aminotransferase and Alamine_Aminotransferase having **0.79** correlation.\n",
    "- Total_Protiens and Total_Protiens having **0.78** correlation.\n",
    "- Albumin and Albumin_and_Globulin_Ratio having **0.69** correlation."
   ]
  },
  {
   "cell_type": "markdown",
   "id": "bc2dbf44",
   "metadata": {},
   "source": [
    "### Age"
   ]
  },
  {
   "cell_type": "code",
   "execution_count": 8,
   "id": "4ed35b60",
   "metadata": {},
   "outputs": [
    {
     "data": {
      "image/png": "[encoded data removed]",
      "text/plain": [
       "<Figure size 1008x288 with 2 Axes>"
      ]
     },
     "metadata": {
      "needs_background": "light"
     },
     "output_type": "display_data"
    }
   ],
   "source": [
    "# Age\n",
    "plt.figure(figsize=(14,4))\n",
    "plt.subplot(1,2,1)\n",
    "sns.histplot(data=df, x='Age', kde=True)\n",
    "\n",
    "plt.subplot(1,2,2)\n",
    "sns.boxplot(data=df, x='Age')\n",
    "plt.show()"
   ]
  },
  {
   "cell_type": "markdown",
   "id": "7506f1d7",
   "metadata": {},
   "source": [
    "- Age feature is normally distributed.\n",
    "- No outliers is present."
   ]
  },
  {
   "cell_type": "markdown",
   "id": "cf4bb88c",
   "metadata": {},
   "source": [
    "### Total_Bilirubin"
   ]
  },
  {
   "cell_type": "code",
   "execution_count": 9,
   "id": "aa1cf25f",
   "metadata": {},
   "outputs": [
    {
     "data": {
      "image/png": "[encoded data removed]",
      "text/plain": [
       "<Figure size 1008x288 with 2 Axes>"
      ]
     },
     "metadata": {
      "needs_background": "light"
     },
     "output_type": "display_data"
    }
   ],
   "source": [
    "# Total_Bilirubin\n",
    "plt.figure(figsize=(14,4))\n",
    "plt.subplot(1,2,1)\n",
    "sns.histplot(data=df, x='Total_Bilirubin', kde=True)\n",
    "\n",
    "plt.subplot(1,2,2)\n",
    "sns.boxplot(data=df, x='Total_Bilirubin')\n",
    "plt.show()"
   ]
  },
  {
   "cell_type": "markdown",
   "id": "4edd21e1",
   "metadata": {},
   "source": [
    "- Total_Bilirubin feature is Right skewed.\n",
    "- Outliers is present."
   ]
  },
  {
   "cell_type": "markdown",
   "id": "51e7b0ab",
   "metadata": {},
   "source": [
    "### Direct_Bilirubin"
   ]
  },
  {
   "cell_type": "code",
   "execution_count": 10,
   "id": "9aa39fd7",
   "metadata": {},
   "outputs": [
    {
     "data": {
      "image/png": "[encoded data removed]",
      "text/plain": [
       "<Figure size 1008x288 with 2 Axes>"
      ]
     },
     "metadata": {
      "needs_background": "light"
     },
     "output_type": "display_data"
    }
   ],
   "source": [
    "# Direct_Bilirubin\n",
    "plt.figure(figsize=(14,4))\n",
    "plt.subplot(1,2,1)\n",
    "sns.histplot(data=df, x='Direct_Bilirubin', kde=True)\n",
    "\n",
    "plt.subplot(1,2,2)\n",
    "sns.boxplot(data=df, x='Direct_Bilirubin')\n",
    "plt.show()"
   ]
  },
  {
   "cell_type": "markdown",
   "id": "65ae7437",
   "metadata": {},
   "source": [
    "- Direct_Bilirubin feature is Right skewed.\n",
    "- Outliers is present."
   ]
  },
  {
   "cell_type": "markdown",
   "id": "601d56f3",
   "metadata": {},
   "source": [
    "### Alkaline_Phosphotase"
   ]
  },
  {
   "cell_type": "code",
   "execution_count": 11,
   "id": "9d6a1464",
   "metadata": {},
   "outputs": [
    {
     "data": {
      "image/png": "[encoded data removed]",
      "text/plain": [
       "<Figure size 1008x288 with 2 Axes>"
      ]
     },
     "metadata": {
      "needs_background": "light"
     },
     "output_type": "display_data"
    }
   ],
   "source": [
    "# Alkaline_Phosphotase\n",
    "plt.figure(figsize=(14,4))\n",
    "plt.subplot(1,2,1)\n",
    "sns.histplot(data=df, x='Alkaline_Phosphotase', kde=True)\n",
    "\n",
    "plt.subplot(1,2,2)\n",
    "sns.boxplot(data=df, x='Alkaline_Phosphotase')\n",
    "plt.show()"
   ]
  },
  {
   "cell_type": "markdown",
   "id": "beea1d68",
   "metadata": {},
   "source": [
    "- Direct_Bilirubin feature is Right skewed.\n",
    "- Outliers is present."
   ]
  },
  {
   "cell_type": "markdown",
   "id": "4b4323f1",
   "metadata": {},
   "source": [
    "### Alamine_Aminotransferase"
   ]
  },
  {
   "cell_type": "code",
   "execution_count": 12,
   "id": "e8446406",
   "metadata": {},
   "outputs": [
    {
     "data": {
      "image/png": "[encoded data removed]",
      "text/plain": [
       "<Figure size 1008x288 with 2 Axes>"
      ]
     },
     "metadata": {
      "needs_background": "light"
     },
     "output_type": "display_data"
    }
   ],
   "source": [
    "# Alamine_Aminotransferase\n",
    "plt.figure(figsize=(14,4))\n",
    "plt.subplot(1,2,1)\n",
    "sns.histplot(data=df, x='Alamine_Aminotransferase', kde=True)\n",
    "\n",
    "plt.subplot(1,2,2)\n",
    "sns.boxplot(data=df, x='Alamine_Aminotransferase')\n",
    "plt.show()"
   ]
  },
  {
   "cell_type": "markdown",
   "id": "2b007b00",
   "metadata": {},
   "source": [
    "- Alamine_Aminotransferase feature is Right skewed.\n",
    "- Outliers is present."
   ]
  },
  {
   "cell_type": "markdown",
   "id": "13c4b2b8",
   "metadata": {},
   "source": [
    "### Aspartate_Aminotransferase"
   ]
  },
  {
   "cell_type": "code",
   "execution_count": 13,
   "id": "84573af9",
   "metadata": {},
   "outputs": [
    {
     "data": {
      "image/png": "[encoded data removed]",
      "text/plain": [
       "<Figure size 1008x288 with 2 Axes>"
      ]
     },
     "metadata": {
      "needs_background": "light"
     },
     "output_type": "display_data"
    }
   ],
   "source": [
    "# Aspartate_Aminotransferase\n",
    "plt.figure(figsize=(14,4))\n",
    "plt.subplot(1,2,1)\n",
    "sns.histplot(data=df, x='Aspartate_Aminotransferase', kde=True)\n",
    "\n",
    "plt.subplot(1,2,2)\n",
    "sns.boxplot(data=df, x='Aspartate_Aminotransferase')\n",
    "plt.show()"
   ]
  },
  {
   "cell_type": "markdown",
   "id": "b1d6c5b8",
   "metadata": {},
   "source": [
    "- Aspartate_Aminotransferase feature is Right skewed.\n",
    "- Outliers is present."
   ]
  },
  {
   "cell_type": "markdown",
   "id": "2ce784ae",
   "metadata": {},
   "source": [
    "### Total_Protiens"
   ]
  },
  {
   "cell_type": "code",
   "execution_count": 14,
   "id": "2de96777",
   "metadata": {},
   "outputs": [
    {
     "data": {
      "image/png": "[encoded data removed]",
      "text/plain": [
       "<Figure size 1008x288 with 2 Axes>"
      ]
     },
     "metadata": {
      "needs_background": "light"
     },
     "output_type": "display_data"
    }
   ],
   "source": [
    "# Total_Protiens\n",
    "plt.figure(figsize=(14,4))\n",
    "plt.subplot(1,2,1)\n",
    "sns.histplot(data=df, x='Total_Protiens', kde=True)\n",
    "\n",
    "plt.subplot(1,2,2)\n",
    "sns.boxplot(data=df, x='Total_Protiens')\n",
    "plt.show()"
   ]
  },
  {
   "cell_type": "markdown",
   "id": "02d5e5c7",
   "metadata": {},
   "source": [
    "- Total_Protiens feature slightly follows normal distribution.\n",
    "- Outliers is present."
   ]
  },
  {
   "cell_type": "markdown",
   "id": "61511cae",
   "metadata": {},
   "source": [
    "### Albumin"
   ]
  },
  {
   "cell_type": "code",
   "execution_count": 15,
   "id": "ecc1c6cb",
   "metadata": {},
   "outputs": [
    {
     "data": {
      "image/png": "[encoded data removed]",
      "text/plain": [
       "<Figure size 1008x288 with 2 Axes>"
      ]
     },
     "metadata": {
      "needs_background": "light"
     },
     "output_type": "display_data"
    }
   ],
   "source": [
    "# Albumin\n",
    "plt.figure(figsize=(14,4))\n",
    "plt.subplot(1,2,1)\n",
    "sns.histplot(data=df, x='Albumin', kde=True)\n",
    "\n",
    "plt.subplot(1,2,2)\n",
    "sns.boxplot(data=df, x='Albumin')\n",
    "plt.show()"
   ]
  },
  {
   "cell_type": "markdown",
   "id": "6fa18c92",
   "metadata": {},
   "source": [
    "- Albumin feature follows the normal distribution.\n",
    "- No outliers is present."
   ]
  },
  {
   "cell_type": "markdown",
   "id": "e617fb38",
   "metadata": {},
   "source": [
    "### Albumin_and_Globulin_Ratio"
   ]
  },
  {
   "cell_type": "code",
   "execution_count": 16,
   "id": "ffea13b5",
   "metadata": {},
   "outputs": [
    {
     "data": {
      "image/png": "[encoded data removed]",
      "text/plain": [
       "<Figure size 1008x288 with 2 Axes>"
      ]
     },
     "metadata": {
      "needs_background": "light"
     },
     "output_type": "display_data"
    }
   ],
   "source": [
    "# Albumin_and_Globulin_Ratio\n",
    "plt.figure(figsize=(14,4))\n",
    "plt.subplot(1,2,1)\n",
    "sns.histplot(data=df, x='Albumin_and_Globulin_Ratio', kde=True)\n",
    "\n",
    "plt.subplot(1,2,2)\n",
    "sns.boxplot(data=df, x='Albumin_and_Globulin_Ratio')\n",
    "plt.show()"
   ]
  },
  {
   "cell_type": "markdown",
   "id": "c04c4814",
   "metadata": {},
   "source": [
    "- Albumin feature is Right skewed.\n",
    "- No outliers is present."
   ]
  },
  {
   "cell_type": "markdown",
   "id": "12d7789c-e224-4f6f-802c-0d65938dd893",
   "metadata": {},
   "source": [
    "### Curating the Data"
   ]
  },
  {
   "cell_type": "code",
   "execution_count": 37,
   "id": "e1663387-c9ad-444d-849b-b1307020967f",
   "metadata": {},
   "outputs": [
    {
     "data": {
      "text/plain": [
       "Age                           0\n",
       "Gender                        0\n",
       "Total_Bilirubin               0\n",
       "Direct_Bilirubin              0\n",
       "Alkaline_Phosphotase          0\n",
       "Alamine_Aminotransferase      0\n",
       "Aspartate_Aminotransferase    0\n",
       "Total_Protiens                0\n",
       "Albumin                       0\n",
       "Albumin_and_Globulin_Ratio    4\n",
       "Dataset                       0\n",
       "dtype: int64"
      ]
     },
     "execution_count": 37,
     "metadata": {},
     "output_type": "execute_result"
    }
   ],
   "source": [
    "# Finding null values:\n",
    "\n",
    "df.isnull().sum()"
   ]
  },
  {
   "cell_type": "markdown",
   "id": "a39505d9-919f-4cd6-95be-b04cd871eda9",
   "metadata": {},
   "source": [
    "#### As we can see from the data,\n",
    "\n",
    "- Albumin_and_Globulin_Ratio has 4 missing values."
   ]
  },
  {
   "cell_type": "code",
   "execution_count": 38,
   "id": "9b3b7cbe-2a4c-462f-b756-256352611c36",
   "metadata": {},
   "outputs": [],
   "source": [
    "# Filling the missing values with Median\n",
    "\n",
    "df[\"Albumin_and_Globulin_Ratio\"].fillna(df[\"Albumin_and_Globulin_Ratio\"].median(), inplace=True)"
   ]
  },
  {
   "cell_type": "code",
   "execution_count": 40,
   "id": "fe22c1bb-ab33-4fd2-8528-e9451ae6cdef",
   "metadata": {},
   "outputs": [
    {
     "data": {
      "text/plain": [
       "Age                           0\n",
       "Gender                        0\n",
       "Total_Bilirubin               0\n",
       "Direct_Bilirubin              0\n",
       "Alkaline_Phosphotase          0\n",
       "Alamine_Aminotransferase      0\n",
       "Aspartate_Aminotransferase    0\n",
       "Total_Protiens                0\n",
       "Albumin                       0\n",
       "Albumin_and_Globulin_Ratio    0\n",
       "Dataset                       0\n",
       "dtype: int64"
      ]
     },
     "execution_count": 40,
     "metadata": {},
     "output_type": "execute_result"
    }
   ],
   "source": [
    "# Checking if there are still any missing values\n",
    "\n",
    "df.isnull().sum()"
   ]
  },
  {
   "cell_type": "markdown",
   "id": "edfa116c-3dc3-4420-9ef9-24dd8351b7f8",
   "metadata": {},
   "source": [
    "### Converting categorical string columns to numeric"
   ]
  },
  {
   "cell_type": "code",
   "execution_count": 45,
   "id": "9a60e771-7bb4-4e9b-9b79-73ccbe812bb4",
   "metadata": {},
   "outputs": [],
   "source": [
    "# Following coloumns are to be converted into numeric.\n",
    "\n",
    "categorical_cols = ['Gender']"
   ]
  },
  {
   "cell_type": "code",
   "execution_count": 46,
   "id": "867d6119-7d07-4008-aa22-559ad6d02c61",
   "metadata": {},
   "outputs": [],
   "source": [
    "# LabelEncoder is used for converting categorical string columns to numeric.\n",
    "\n",
    "le = LabelEncoder()\n",
    "for col in categorical_cols:\n",
    "    df[col] = le.fit_transform(df[col])"
   ]
  },
  {
   "cell_type": "code",
   "execution_count": 47,
   "id": "87963f84-46a3-4798-a02c-d3b0d1b0ba9a",
   "metadata": {},
   "outputs": [
    {
     "data": {
      "text/html": [
       "<div>\n",
       "<style scoped>\n",
       "    .dataframe tbody tr th:only-of-type {\n",
       "        vertical-align: middle;\n",
       "    }\n",
       "\n",
       "    .dataframe tbody tr th {\n",
       "        vertical-align: top;\n",
       "    }\n",
       "\n",
       "    .dataframe thead th {\n",
       "        text-align: right;\n",
       "    }\n",
       "</style>\n",
       "<table border=\"1\" class=\"dataframe\">\n",
       "  <thead>\n",
       "    <tr style=\"text-align: right;\">\n",
       "      <th></th>\n",
       "      <th>Age</th>\n",
       "      <th>Gender</th>\n",
       "      <th>Total_Bilirubin</th>\n",
       "      <th>Direct_Bilirubin</th>\n",
       "      <th>Alkaline_Phosphotase</th>\n",
       "      <th>Alamine_Aminotransferase</th>\n",
       "      <th>Aspartate_Aminotransferase</th>\n",
       "      <th>Total_Protiens</th>\n",
       "      <th>Albumin</th>\n",
       "      <th>Albumin_and_Globulin_Ratio</th>\n",
       "      <th>Dataset</th>\n",
       "    </tr>\n",
       "  </thead>\n",
       "  <tbody>\n",
       "    <tr>\n",
       "      <th>0</th>\n",
       "      <td>65</td>\n",
       "      <td>0</td>\n",
       "      <td>0.7</td>\n",
       "      <td>0.1</td>\n",
       "      <td>187</td>\n",
       "      <td>16</td>\n",
       "      <td>18</td>\n",
       "      <td>6.8</td>\n",
       "      <td>3.3</td>\n",
       "      <td>0.90</td>\n",
       "      <td>1</td>\n",
       "    </tr>\n",
       "    <tr>\n",
       "      <th>1</th>\n",
       "      <td>62</td>\n",
       "      <td>1</td>\n",
       "      <td>10.9</td>\n",
       "      <td>5.5</td>\n",
       "      <td>699</td>\n",
       "      <td>64</td>\n",
       "      <td>100</td>\n",
       "      <td>7.5</td>\n",
       "      <td>3.2</td>\n",
       "      <td>0.74</td>\n",
       "      <td>1</td>\n",
       "    </tr>\n",
       "    <tr>\n",
       "      <th>2</th>\n",
       "      <td>62</td>\n",
       "      <td>1</td>\n",
       "      <td>7.3</td>\n",
       "      <td>4.1</td>\n",
       "      <td>490</td>\n",
       "      <td>60</td>\n",
       "      <td>68</td>\n",
       "      <td>7.0</td>\n",
       "      <td>3.3</td>\n",
       "      <td>0.89</td>\n",
       "      <td>1</td>\n",
       "    </tr>\n",
       "    <tr>\n",
       "      <th>3</th>\n",
       "      <td>58</td>\n",
       "      <td>1</td>\n",
       "      <td>1.0</td>\n",
       "      <td>0.4</td>\n",
       "      <td>182</td>\n",
       "      <td>14</td>\n",
       "      <td>20</td>\n",
       "      <td>6.8</td>\n",
       "      <td>3.4</td>\n",
       "      <td>1.00</td>\n",
       "      <td>1</td>\n",
       "    </tr>\n",
       "    <tr>\n",
       "      <th>4</th>\n",
       "      <td>72</td>\n",
       "      <td>1</td>\n",
       "      <td>3.9</td>\n",
       "      <td>2.0</td>\n",
       "      <td>195</td>\n",
       "      <td>27</td>\n",
       "      <td>59</td>\n",
       "      <td>7.3</td>\n",
       "      <td>2.4</td>\n",
       "      <td>0.40</td>\n",
       "      <td>1</td>\n",
       "    </tr>\n",
       "  </tbody>\n",
       "</table>\n",
       "</div>"
      ],
      "text/plain": [
       "   Age  Gender  Total_Bilirubin  Direct_Bilirubin  Alkaline_Phosphotase  \\\n",
       "0   65       0              0.7               0.1                   187   \n",
       "1   62       1             10.9               5.5                   699   \n",
       "2   62       1              7.3               4.1                   490   \n",
       "3   58       1              1.0               0.4                   182   \n",
       "4   72       1              3.9               2.0                   195   \n",
       "\n",
       "   Alamine_Aminotransferase  Aspartate_Aminotransferase  Total_Protiens  \\\n",
       "0                        16                          18             6.8   \n",
       "1                        64                         100             7.5   \n",
       "2                        60                          68             7.0   \n",
       "3                        14                          20             6.8   \n",
       "4                        27                          59             7.3   \n",
       "\n",
       "   Albumin  Albumin_and_Globulin_Ratio  Dataset  \n",
       "0      3.3                        0.90        1  \n",
       "1      3.2                        0.74        1  \n",
       "2      3.3                        0.89        1  \n",
       "3      3.4                        1.00        1  \n",
       "4      2.4                        0.40        1  "
      ]
     },
     "execution_count": 47,
     "metadata": {},
     "output_type": "execute_result"
    }
   ],
   "source": [
    "df.head()"
   ]
  },
  {
   "cell_type": "code",
   "execution_count": 48,
   "id": "22cdc81e-df75-4ae1-9420-163992444004",
   "metadata": {},
   "outputs": [],
   "source": [
    "# Independent and Dependent features:\n",
    "\n",
    "X = df.iloc[:, :10]\n",
    "y = df.iloc[:, 10]"
   ]
  },
  {
   "cell_type": "code",
   "execution_count": 49,
   "id": "e07550e7-a5a2-433e-8e4e-49708bc49822",
   "metadata": {},
   "outputs": [],
   "source": [
    "# Train-Test Spilt:\n",
    "\n",
    "x_train, x_test, y_train, y_test = train_test_split(X, y, random_state=8)"
   ]
  },
  {
   "cell_type": "markdown",
   "id": "770bbb44-0390-49f7-bdac-bb3d1d35bc2d",
   "metadata": {},
   "source": [
    "### Building a disease classifier using Decision Tree (DT)"
   ]
  },
  {
   "cell_type": "code",
   "execution_count": 50,
   "id": "e1f9f68b-d806-47bc-ac9a-7648477b7260",
   "metadata": {},
   "outputs": [],
   "source": [
    "# DecisionTreeClassifier:\n",
    "\n",
    "DT = DecisionTreeClassifier(random_state=8)"
   ]
  },
  {
   "cell_type": "code",
   "execution_count": 51,
   "id": "d6114bb3-95cf-4beb-9ff6-0097b72eaeb7",
   "metadata": {},
   "outputs": [],
   "source": [
    "# k-fold cross validation for Decision Tree:\n",
    "\n",
    "y_pred_DT_K = cross_val_predict(DT, x_train, y_train, cv=5)"
   ]
  },
  {
   "cell_type": "code",
   "execution_count": 59,
   "id": "e780eae8-4cb8-4c5f-a283-2d4b60d1dc60",
   "metadata": {},
   "outputs": [
    {
     "name": "stdout",
     "output_type": "stream",
     "text": [
      "Simple Accuracy : 66.13272311212815\n"
     ]
    }
   ],
   "source": [
    "print(\"Simple Accuracy :\", accuracy_score(y_train, y_pred_DT_K)*100)"
   ]
  },
  {
   "cell_type": "code",
   "execution_count": 60,
   "id": "971cc402-1e27-4b5d-97ed-9f06bbdd638c",
   "metadata": {},
   "outputs": [
    {
     "name": "stdout",
     "output_type": "stream",
     "text": [
      "Precision Score : 0.7724137931034483\n"
     ]
    }
   ],
   "source": [
    "print(\"Precision Score :\", precision_score(y_train, y_pred_DT_K))"
   ]
  },
  {
   "cell_type": "code",
   "execution_count": 61,
   "id": "800ba91a-d1a6-4aa8-9513-26f5e3e8408d",
   "metadata": {},
   "outputs": [
    {
     "name": "stdout",
     "output_type": "stream",
     "text": [
      "Recall Score : 0.7320261437908496\n"
     ]
    }
   ],
   "source": [
    "print(\"Recall Score :\", recall_score(y_train, y_pred_DT_K))"
   ]
  },
  {
   "cell_type": "code",
   "execution_count": 62,
   "id": "2bb78f68-4c05-417b-8b38-96ca787f5a7e",
   "metadata": {},
   "outputs": [
    {
     "name": "stdout",
     "output_type": "stream",
     "text": [
      "F1_Score : 0.7516778523489933\n"
     ]
    }
   ],
   "source": [
    "print(\"F1_Score :\", f1_score(y_train, y_pred_DT_K))"
   ]
  },
  {
   "cell_type": "code",
   "execution_count": 57,
   "id": "bccca3e0-98bd-494c-8970-21784973b9df",
   "metadata": {},
   "outputs": [
    {
     "name": "stdout",
     "output_type": "stream",
     "text": [
      "[[224  82]\n",
      " [ 66  65]]\n"
     ]
    }
   ],
   "source": [
    "print(confusion_matrix(y_train, y_pred_DT_K))"
   ]
  },
  {
   "cell_type": "markdown",
   "id": "e3cbcba8-d25a-4ebf-a00c-41c327c65a5b",
   "metadata": {
    "tags": []
   },
   "source": [
    "### Building a disease classifier using Naïve Bayes (NB) algorithm"
   ]
  },
  {
   "cell_type": "code",
   "execution_count": 70,
   "id": "3ff03a11-0014-471c-ab48-d341845dfa50",
   "metadata": {},
   "outputs": [],
   "source": [
    "NB = GaussianNB()"
   ]
  },
  {
   "cell_type": "code",
   "execution_count": 71,
   "id": "944ad3c7-27a7-4819-a073-4ae6ab91b298",
   "metadata": {},
   "outputs": [],
   "source": [
    "# k-fold cross validation for Naive Bayes:\n",
    "\n",
    "y_pred_NB_K = cross_val_predict(NB, x_train, y_train, cv=5)"
   ]
  },
  {
   "cell_type": "code",
   "execution_count": 79,
   "id": "729a770a-f44d-47fe-8c16-001ab0123b93",
   "metadata": {},
   "outputs": [
    {
     "name": "stdout",
     "output_type": "stream",
     "text": [
      "Simple Accuracy : 54.23340961098398\n"
     ]
    }
   ],
   "source": [
    "print(\"Simple Accuracy :\", accuracy_score(y_train, y_pred_NB_K)*100)"
   ]
  },
  {
   "cell_type": "code",
   "execution_count": 73,
   "id": "3fc7279f-2349-4fe9-abc7-6a5dcab48e45",
   "metadata": {},
   "outputs": [
    {
     "name": "stdout",
     "output_type": "stream",
     "text": [
      "Precision : 0.9344262295081968\n"
     ]
    }
   ],
   "source": [
    "print(\"Precision Score :\", precision_score(y_train, y_pred_NB_K))"
   ]
  },
  {
   "cell_type": "code",
   "execution_count": 74,
   "id": "b9076221-acfe-4170-9ff6-53d652672b15",
   "metadata": {},
   "outputs": [
    {
     "name": "stdout",
     "output_type": "stream",
     "text": [
      "Recall : 0.37254901960784315\n"
     ]
    }
   ],
   "source": [
    "print(\"Recall Score :\", recall_score(y_train, y_pred_NB_K))"
   ]
  },
  {
   "cell_type": "code",
   "execution_count": 75,
   "id": "7e6ff70a-b1b6-4160-8d68-e6fc693b45a5",
   "metadata": {},
   "outputs": [
    {
     "name": "stdout",
     "output_type": "stream",
     "text": [
      "f1_Score : 0.5327102803738318\n"
     ]
    }
   ],
   "source": [
    "print(\"F1_Score :\", f1_score(y_train, y_pred_NB_K))"
   ]
  },
  {
   "cell_type": "code",
   "execution_count": 78,
   "id": "1ae061e1-05a7-4fe4-a33f-9444d638a915",
   "metadata": {},
   "outputs": [
    {
     "name": "stdout",
     "output_type": "stream",
     "text": [
      "[[114 192]\n",
      " [  8 123]]\n"
     ]
    }
   ],
   "source": [
    "print(confusion_matrix(y_train, y_pred_NB_K))"
   ]
  },
  {
   "cell_type": "markdown",
   "id": "d9849b9c-37a8-4bb1-8625-a37b64edf78e",
   "metadata": {},
   "source": [
    "### Comparing the performance of both the models (NB and DT)"
   ]
  },
  {
   "cell_type": "markdown",
   "id": "787de3af-cab4-4f74-9f1e-cf746bd85d8b",
   "metadata": {},
   "source": [
    "Comparing all the parameters,\n",
    "\n",
    "- For Decision Tree,\n",
    "    - **Simple Accuracy is 66%**\n",
    "    - **Precision Score is  0.77**\n",
    "    - **Recall Score is 0.73**\n",
    "    - **F1_Score is 0.75**"
   ]
  },
  {
   "cell_type": "markdown",
   "id": "88e03e28-5f99-4309-93cf-dd423c80bd09",
   "metadata": {},
   "source": [
    "- For Naïve Bayes,\n",
    "    - **Simple Accuracy is 54%**\n",
    "    - **Precision Score is  0.93**\n",
    "    - **Recall Score is 0.37**\n",
    "    - **F1_Score is 0.53**"
   ]
  },
  {
   "cell_type": "markdown",
   "id": "c49b4b5c-1ca1-489b-8faa-79a9cf03b27f",
   "metadata": {},
   "source": [
    "As we can clearly see form the results obtained, nearly in all the fields Decision Tree is performing better than Naïve Bayes excluding Precision Score.\n",
    "- So for this particular dataset we can conclude that, **Decision tree algorithm would work better than Naïve Bayes algorithm.**"
   ]
  },
  {
   "cell_type": "markdown",
   "id": "49344fb5-1c94-45b8-8ad6-79e89de4137d",
   "metadata": {},
   "source": [
    "### Store the results into a csv file."
   ]
  },
  {
   "cell_type": "code",
   "execution_count": 80,
   "id": "3775e1ae-20c6-4fb5-ad0a-a7c03177dacc",
   "metadata": {},
   "outputs": [],
   "source": [
    "# creating new columns:\n",
    "\n",
    "x_train[\"Predicted_OP_DecisionTree\"] = y_pred_DT_K\n",
    "x_train[\"Predicted_OP_NaiveBayes\"] = y_pred_NB_K"
   ]
  },
  {
   "cell_type": "code",
   "execution_count": 81,
   "id": "2dbfb08a-cffc-4618-9eba-907d2f1c6e83",
   "metadata": {},
   "outputs": [],
   "source": [
    "# Saving the result into CSV files:\n",
    "\n",
    "x_train.to_csv(\"Output.csv\", index=False)"
   ]
  },
  {
   "cell_type": "code",
   "execution_count": null,
   "id": "69d53076-91bb-466d-b014-fa81f540cb3b",
   "metadata": {
    "jupyter": {
     "source_hidden": true
    },
    "tags": []
   },
   "outputs": [],
   "source": []
  }
 ],
 "metadata": {
  "kernelspec": {
   "display_name": "Python 3 (ipykernel)",
   "language": "python",
   "name": "python3"
  },
  "language_info": {
   "codemirror_mode": {
    "name": "ipython",
    "version": 3
   },
   "file_extension": ".py",
   "mimetype": "text/x-python",
   "name": "python",
   "nbconvert_exporter": "python",
   "pygments_lexer": "ipython3",
   "version": "3.9.12"
  }
 },
 "nbformat": 4,
 "nbformat_minor": 5
}
