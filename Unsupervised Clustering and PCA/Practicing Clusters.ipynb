{
 "cells": [
  {
   "cell_type": "markdown",
   "id": "07d874f1",
   "metadata": {},
   "source": [
    "## Practice Session\n",
    "### (Clustering)"
   ]
  },
  {
   "cell_type": "markdown",
   "id": "701ca545-4941-4bb7-8f11-05bcde644967",
   "metadata": {},
   "source": [
    "### Question 1\n",
    "A dataset containing the medical records of 299 heart failure patients is provided. The patients consisted of 105 women and 194 men, and their ages range between 40 and 95 years old. All 299 patients had left ventricular systolic dysfunction and had previous heart failures. The dataset contains 13 features, which report clinical, body, and lifestyle information.\n",
    "\n",
    "- a) Describe the statistical details (such as mean, median, standard deviation, frequency of each category in the case of  categorical variables etc.) through appropriate visualization.\n",
    "- b) Perform the curation of the data, if required. (For example, filling the missing values).\n",
    "- c) Perform normalization using appropriate method.\n",
    "- d) Find out the optimal K-Value using any method and visualize the elbow curve.\n",
    "- e) Visualize the clusters and save the cluster ID  of every patient to a csv fille.\n",
    "- f) Write your analysis of the results. For example, what are the common symptoms/disorders of all the patients in a cluster.   \n",
    "- Note: Last column DEATH_EVENT can be removed, it is target variable. \n",
    "\n"
   ]
  },
  {
   "cell_type": "code",
   "execution_count": 1,
   "id": "c706b1a9",
   "metadata": {},
   "outputs": [],
   "source": [
    "# importing necessary libraries:\n",
    "import pandas as pd\n",
    "import numpy as np\n",
    "import matplotlib.pyplot as plt\n",
    "import seaborn as sns\n",
    "from sklearn.preprocessing import MinMaxScaler\n",
    "from sklearn.neighbors import NearestNeighbors\n",
    "from sklearn.cluster import KMeans\n",
    "from sklearn.decomposition import PCA"
   ]
  },
  {
   "cell_type": "code",
   "execution_count": 2,
   "id": "a0add96f",
   "metadata": {},
   "outputs": [],
   "source": [
    "# Reading the dataset:\n",
    "df = pd.read_csv(\"heart_failure_clinical_records_dataset.csv\")"
   ]
  },
  {
   "cell_type": "code",
   "execution_count": 3,
   "id": "84f7841e",
   "metadata": {},
   "outputs": [
    {
     "data": {
      "text/html": [
       "<div>\n",
       "<style scoped>\n",
       "    .dataframe tbody tr th:only-of-type {\n",
       "        vertical-align: middle;\n",
       "    }\n",
       "\n",
       "    .dataframe tbody tr th {\n",
       "        vertical-align: top;\n",
       "    }\n",
       "\n",
       "    .dataframe thead th {\n",
       "        text-align: right;\n",
       "    }\n",
       "</style>\n",
       "<table border=\"1\" class=\"dataframe\">\n",
       "  <thead>\n",
       "    <tr style=\"text-align: right;\">\n",
       "      <th></th>\n",
       "      <th>age</th>\n",
       "      <th>anaemia</th>\n",
       "      <th>creatinine_phosphokinase</th>\n",
       "      <th>diabetes</th>\n",
       "      <th>ejection_fraction</th>\n",
       "      <th>high_blood_pressure</th>\n",
       "      <th>platelets</th>\n",
       "      <th>serum_creatinine</th>\n",
       "      <th>serum_sodium</th>\n",
       "      <th>sex</th>\n",
       "      <th>smoking</th>\n",
       "      <th>time</th>\n",
       "      <th>DEATH_EVENT</th>\n",
       "    </tr>\n",
       "  </thead>\n",
       "  <tbody>\n",
       "    <tr>\n",
       "      <th>0</th>\n",
       "      <td>75.0</td>\n",
       "      <td>0</td>\n",
       "      <td>582</td>\n",
       "      <td>0</td>\n",
       "      <td>20</td>\n",
       "      <td>1</td>\n",
       "      <td>265000.00</td>\n",
       "      <td>1.9</td>\n",
       "      <td>130</td>\n",
       "      <td>1</td>\n",
       "      <td>0</td>\n",
       "      <td>4</td>\n",
       "      <td>1</td>\n",
       "    </tr>\n",
       "    <tr>\n",
       "      <th>1</th>\n",
       "      <td>55.0</td>\n",
       "      <td>0</td>\n",
       "      <td>7861</td>\n",
       "      <td>0</td>\n",
       "      <td>38</td>\n",
       "      <td>0</td>\n",
       "      <td>263358.03</td>\n",
       "      <td>1.1</td>\n",
       "      <td>136</td>\n",
       "      <td>1</td>\n",
       "      <td>0</td>\n",
       "      <td>6</td>\n",
       "      <td>1</td>\n",
       "    </tr>\n",
       "    <tr>\n",
       "      <th>2</th>\n",
       "      <td>65.0</td>\n",
       "      <td>0</td>\n",
       "      <td>146</td>\n",
       "      <td>0</td>\n",
       "      <td>20</td>\n",
       "      <td>0</td>\n",
       "      <td>162000.00</td>\n",
       "      <td>1.3</td>\n",
       "      <td>129</td>\n",
       "      <td>1</td>\n",
       "      <td>1</td>\n",
       "      <td>7</td>\n",
       "      <td>1</td>\n",
       "    </tr>\n",
       "    <tr>\n",
       "      <th>3</th>\n",
       "      <td>50.0</td>\n",
       "      <td>1</td>\n",
       "      <td>111</td>\n",
       "      <td>0</td>\n",
       "      <td>20</td>\n",
       "      <td>0</td>\n",
       "      <td>210000.00</td>\n",
       "      <td>1.9</td>\n",
       "      <td>137</td>\n",
       "      <td>1</td>\n",
       "      <td>0</td>\n",
       "      <td>7</td>\n",
       "      <td>1</td>\n",
       "    </tr>\n",
       "    <tr>\n",
       "      <th>4</th>\n",
       "      <td>65.0</td>\n",
       "      <td>1</td>\n",
       "      <td>160</td>\n",
       "      <td>1</td>\n",
       "      <td>20</td>\n",
       "      <td>0</td>\n",
       "      <td>327000.00</td>\n",
       "      <td>2.7</td>\n",
       "      <td>116</td>\n",
       "      <td>0</td>\n",
       "      <td>0</td>\n",
       "      <td>8</td>\n",
       "      <td>1</td>\n",
       "    </tr>\n",
       "  </tbody>\n",
       "</table>\n",
       "</div>"
      ],
      "text/plain": [
       "    age  anaemia  creatinine_phosphokinase  diabetes  ejection_fraction  \\\n",
       "0  75.0        0                       582         0                 20   \n",
       "1  55.0        0                      7861         0                 38   \n",
       "2  65.0        0                       146         0                 20   \n",
       "3  50.0        1                       111         0                 20   \n",
       "4  65.0        1                       160         1                 20   \n",
       "\n",
       "   high_blood_pressure  platelets  serum_creatinine  serum_sodium  sex  \\\n",
       "0                    1  265000.00               1.9           130    1   \n",
       "1                    0  263358.03               1.1           136    1   \n",
       "2                    0  162000.00               1.3           129    1   \n",
       "3                    0  210000.00               1.9           137    1   \n",
       "4                    0  327000.00               2.7           116    0   \n",
       "\n",
       "   smoking  time  DEATH_EVENT  \n",
       "0        0     4            1  \n",
       "1        0     6            1  \n",
       "2        1     7            1  \n",
       "3        0     7            1  \n",
       "4        0     8            1  "
      ]
     },
     "execution_count": 3,
     "metadata": {},
     "output_type": "execute_result"
    }
   ],
   "source": [
    "# Top 5 records:\n",
    "df.head()"
   ]
  },
  {
   "cell_type": "code",
   "execution_count": 4,
   "id": "1dd5f430",
   "metadata": {},
   "outputs": [
    {
     "data": {
      "text/plain": [
       "(299, 13)"
      ]
     },
     "execution_count": 4,
     "metadata": {},
     "output_type": "execute_result"
    }
   ],
   "source": [
    "# Shape of dataset:\n",
    "df.shape"
   ]
  },
  {
   "cell_type": "code",
   "execution_count": 5,
   "id": "d574a311",
   "metadata": {},
   "outputs": [
    {
     "data": {
      "text/plain": [
       "age                         float64\n",
       "anaemia                       int64\n",
       "creatinine_phosphokinase      int64\n",
       "diabetes                      int64\n",
       "ejection_fraction             int64\n",
       "high_blood_pressure           int64\n",
       "platelets                   float64\n",
       "serum_creatinine            float64\n",
       "serum_sodium                  int64\n",
       "sex                           int64\n",
       "smoking                       int64\n",
       "time                          int64\n",
       "DEATH_EVENT                   int64\n",
       "dtype: object"
      ]
     },
     "execution_count": 5,
     "metadata": {},
     "output_type": "execute_result"
    }
   ],
   "source": [
    "# Datatypes of each features:\n",
    "df.dtypes"
   ]
  },
  {
   "cell_type": "code",
   "execution_count": 6,
   "id": "aaa0aab6",
   "metadata": {
    "tags": []
   },
   "outputs": [],
   "source": [
    "# Dropping \"DEATH_EVENT\" column (Target Variable):\n",
    "df.drop(\"DEATH_EVENT\", axis=1, inplace=True)"
   ]
  },
  {
   "cell_type": "code",
   "execution_count": 7,
   "id": "3ecf41ef",
   "metadata": {},
   "outputs": [
    {
     "data": {
      "text/html": [
       "<div>\n",
       "<style scoped>\n",
       "    .dataframe tbody tr th:only-of-type {\n",
       "        vertical-align: middle;\n",
       "    }\n",
       "\n",
       "    .dataframe tbody tr th {\n",
       "        vertical-align: top;\n",
       "    }\n",
       "\n",
       "    .dataframe thead th {\n",
       "        text-align: right;\n",
       "    }\n",
       "</style>\n",
       "<table border=\"1\" class=\"dataframe\">\n",
       "  <thead>\n",
       "    <tr style=\"text-align: right;\">\n",
       "      <th></th>\n",
       "      <th>age</th>\n",
       "      <th>anaemia</th>\n",
       "      <th>creatinine_phosphokinase</th>\n",
       "      <th>diabetes</th>\n",
       "      <th>ejection_fraction</th>\n",
       "      <th>high_blood_pressure</th>\n",
       "      <th>platelets</th>\n",
       "      <th>serum_creatinine</th>\n",
       "      <th>serum_sodium</th>\n",
       "      <th>sex</th>\n",
       "      <th>smoking</th>\n",
       "      <th>time</th>\n",
       "    </tr>\n",
       "  </thead>\n",
       "  <tbody>\n",
       "    <tr>\n",
       "      <th>count</th>\n",
       "      <td>299.000000</td>\n",
       "      <td>299.000000</td>\n",
       "      <td>299.000000</td>\n",
       "      <td>299.000000</td>\n",
       "      <td>299.000000</td>\n",
       "      <td>299.000000</td>\n",
       "      <td>299.000000</td>\n",
       "      <td>299.00000</td>\n",
       "      <td>299.000000</td>\n",
       "      <td>299.000000</td>\n",
       "      <td>299.00000</td>\n",
       "      <td>299.000000</td>\n",
       "    </tr>\n",
       "    <tr>\n",
       "      <th>mean</th>\n",
       "      <td>60.833893</td>\n",
       "      <td>0.431438</td>\n",
       "      <td>581.839465</td>\n",
       "      <td>0.418060</td>\n",
       "      <td>38.083612</td>\n",
       "      <td>0.351171</td>\n",
       "      <td>263358.029264</td>\n",
       "      <td>1.39388</td>\n",
       "      <td>136.625418</td>\n",
       "      <td>0.648829</td>\n",
       "      <td>0.32107</td>\n",
       "      <td>130.260870</td>\n",
       "    </tr>\n",
       "    <tr>\n",
       "      <th>std</th>\n",
       "      <td>11.894809</td>\n",
       "      <td>0.496107</td>\n",
       "      <td>970.287881</td>\n",
       "      <td>0.494067</td>\n",
       "      <td>11.834841</td>\n",
       "      <td>0.478136</td>\n",
       "      <td>97804.236869</td>\n",
       "      <td>1.03451</td>\n",
       "      <td>4.412477</td>\n",
       "      <td>0.478136</td>\n",
       "      <td>0.46767</td>\n",
       "      <td>77.614208</td>\n",
       "    </tr>\n",
       "    <tr>\n",
       "      <th>min</th>\n",
       "      <td>40.000000</td>\n",
       "      <td>0.000000</td>\n",
       "      <td>23.000000</td>\n",
       "      <td>0.000000</td>\n",
       "      <td>14.000000</td>\n",
       "      <td>0.000000</td>\n",
       "      <td>25100.000000</td>\n",
       "      <td>0.50000</td>\n",
       "      <td>113.000000</td>\n",
       "      <td>0.000000</td>\n",
       "      <td>0.00000</td>\n",
       "      <td>4.000000</td>\n",
       "    </tr>\n",
       "    <tr>\n",
       "      <th>25%</th>\n",
       "      <td>51.000000</td>\n",
       "      <td>0.000000</td>\n",
       "      <td>116.500000</td>\n",
       "      <td>0.000000</td>\n",
       "      <td>30.000000</td>\n",
       "      <td>0.000000</td>\n",
       "      <td>212500.000000</td>\n",
       "      <td>0.90000</td>\n",
       "      <td>134.000000</td>\n",
       "      <td>0.000000</td>\n",
       "      <td>0.00000</td>\n",
       "      <td>73.000000</td>\n",
       "    </tr>\n",
       "    <tr>\n",
       "      <th>50%</th>\n",
       "      <td>60.000000</td>\n",
       "      <td>0.000000</td>\n",
       "      <td>250.000000</td>\n",
       "      <td>0.000000</td>\n",
       "      <td>38.000000</td>\n",
       "      <td>0.000000</td>\n",
       "      <td>262000.000000</td>\n",
       "      <td>1.10000</td>\n",
       "      <td>137.000000</td>\n",
       "      <td>1.000000</td>\n",
       "      <td>0.00000</td>\n",
       "      <td>115.000000</td>\n",
       "    </tr>\n",
       "    <tr>\n",
       "      <th>75%</th>\n",
       "      <td>70.000000</td>\n",
       "      <td>1.000000</td>\n",
       "      <td>582.000000</td>\n",
       "      <td>1.000000</td>\n",
       "      <td>45.000000</td>\n",
       "      <td>1.000000</td>\n",
       "      <td>303500.000000</td>\n",
       "      <td>1.40000</td>\n",
       "      <td>140.000000</td>\n",
       "      <td>1.000000</td>\n",
       "      <td>1.00000</td>\n",
       "      <td>203.000000</td>\n",
       "    </tr>\n",
       "    <tr>\n",
       "      <th>max</th>\n",
       "      <td>95.000000</td>\n",
       "      <td>1.000000</td>\n",
       "      <td>7861.000000</td>\n",
       "      <td>1.000000</td>\n",
       "      <td>80.000000</td>\n",
       "      <td>1.000000</td>\n",
       "      <td>850000.000000</td>\n",
       "      <td>9.40000</td>\n",
       "      <td>148.000000</td>\n",
       "      <td>1.000000</td>\n",
       "      <td>1.00000</td>\n",
       "      <td>285.000000</td>\n",
       "    </tr>\n",
       "  </tbody>\n",
       "</table>\n",
       "</div>"
      ],
      "text/plain": [
       "              age     anaemia  creatinine_phosphokinase    diabetes  \\\n",
       "count  299.000000  299.000000                299.000000  299.000000   \n",
       "mean    60.833893    0.431438                581.839465    0.418060   \n",
       "std     11.894809    0.496107                970.287881    0.494067   \n",
       "min     40.000000    0.000000                 23.000000    0.000000   \n",
       "25%     51.000000    0.000000                116.500000    0.000000   \n",
       "50%     60.000000    0.000000                250.000000    0.000000   \n",
       "75%     70.000000    1.000000                582.000000    1.000000   \n",
       "max     95.000000    1.000000               7861.000000    1.000000   \n",
       "\n",
       "       ejection_fraction  high_blood_pressure      platelets  \\\n",
       "count         299.000000           299.000000     299.000000   \n",
       "mean           38.083612             0.351171  263358.029264   \n",
       "std            11.834841             0.478136   97804.236869   \n",
       "min            14.000000             0.000000   25100.000000   \n",
       "25%            30.000000             0.000000  212500.000000   \n",
       "50%            38.000000             0.000000  262000.000000   \n",
       "75%            45.000000             1.000000  303500.000000   \n",
       "max            80.000000             1.000000  850000.000000   \n",
       "\n",
       "       serum_creatinine  serum_sodium         sex    smoking        time  \n",
       "count         299.00000    299.000000  299.000000  299.00000  299.000000  \n",
       "mean            1.39388    136.625418    0.648829    0.32107  130.260870  \n",
       "std             1.03451      4.412477    0.478136    0.46767   77.614208  \n",
       "min             0.50000    113.000000    0.000000    0.00000    4.000000  \n",
       "25%             0.90000    134.000000    0.000000    0.00000   73.000000  \n",
       "50%             1.10000    137.000000    1.000000    0.00000  115.000000  \n",
       "75%             1.40000    140.000000    1.000000    1.00000  203.000000  \n",
       "max             9.40000    148.000000    1.000000    1.00000  285.000000  "
      ]
     },
     "execution_count": 7,
     "metadata": {},
     "output_type": "execute_result"
    }
   ],
   "source": [
    "# Statistical analysis:\n",
    "df.describe()"
   ]
  },
  {
   "cell_type": "code",
   "execution_count": 8,
   "id": "6dba5f44",
   "metadata": {},
   "outputs": [
    {
     "data": {
      "image/png": "[encoded data removed]",
      "text/plain": [
       "<Figure size 864x432 with 2 Axes>"
      ]
     },
     "metadata": {
      "needs_background": "light"
     },
     "output_type": "display_data"
    }
   ],
   "source": [
    "# Heatmap of dataset using correlation:\n",
    "plt.figure(figsize=(12,6))\n",
    "sns.heatmap(df.corr(), annot=True, cmap=\"YlGnBu\")\n",
    "plt.show()"
   ]
  },
  {
   "cell_type": "markdown",
   "id": "6c4b26d6",
   "metadata": {},
   "source": [
    "- By visualizing the above heatmap, There is **no multicollinearity** present between the features.\n",
    "- Only \"Sex\" and \"Smoking\" features having 45% correlation."
   ]
  },
  {
   "cell_type": "code",
   "execution_count": 9,
   "id": "fbcde444",
   "metadata": {},
   "outputs": [
    {
     "data": {
      "image/png": "[encoded data removed]",
      "text/plain": [
       "<Figure size 864x432 with 1 Axes>"
      ]
     },
     "metadata": {
      "needs_background": "light"
     },
     "output_type": "display_data"
    }
   ],
   "source": [
    "# Boxplot:\n",
    "plt.figure(figsize=(12,6))\n",
    "df.boxplot()\n",
    "plt.xticks(rotation=90)\n",
    "plt.show()"
   ]
  },
  {
   "cell_type": "markdown",
   "id": "4442b01b",
   "metadata": {},
   "source": [
    "- The above boxplot is not clearly visible, so we will plot boxplot of each features separately. "
   ]
  },
  {
   "cell_type": "markdown",
   "id": "d0f65421",
   "metadata": {},
   "source": [
    "### Age"
   ]
  },
  {
   "cell_type": "code",
   "execution_count": 10,
   "id": "6bf71502",
   "metadata": {},
   "outputs": [
    {
     "data": {
      "image/png": "[encoded data removed]",
      "text/plain": [
       "<Figure size 1008x288 with 2 Axes>"
      ]
     },
     "metadata": {
      "needs_background": "light"
     },
     "output_type": "display_data"
    }
   ],
   "source": [
    "plt.figure(figsize=(14,4))\n",
    "\n",
    "plt.subplot(1,2,1)\n",
    "sns.boxplot(x=\"age\", data=df)\n",
    "\n",
    "plt.subplot(1,2,2)\n",
    "sns.histplot(data=df, x='age')\n",
    "plt.xlabel(\"age\")\n",
    "plt.show()"
   ]
  },
  {
   "cell_type": "markdown",
   "id": "5e4a5854",
   "metadata": {},
   "source": [
    "In \"age\" feature we obeserved that,\n",
    "- Outliers is not present"
   ]
  },
  {
   "cell_type": "markdown",
   "id": "cfcbb17f",
   "metadata": {},
   "source": [
    "### creatinine_phosphokinase"
   ]
  },
  {
   "cell_type": "code",
   "execution_count": 11,
   "id": "0c540524",
   "metadata": {},
   "outputs": [
    {
     "data": {
      "image/png": "[encoded data removed]",
      "text/plain": [
       "<Figure size 1008x288 with 2 Axes>"
      ]
     },
     "metadata": {
      "needs_background": "light"
     },
     "output_type": "display_data"
    }
   ],
   "source": [
    "plt.figure(figsize=(14,4))\n",
    "\n",
    "plt.subplot(1,2,1)\n",
    "sns.boxplot(x=\"creatinine_phosphokinase\", data=df)\n",
    "\n",
    "plt.subplot(1,2,2)\n",
    "sns.histplot(data=df, x='creatinine_phosphokinase')\n",
    "plt.xlabel(\"creatinine_phosphokinase\")\n",
    "plt.show()"
   ]
  },
  {
   "cell_type": "markdown",
   "id": "09847f51",
   "metadata": {},
   "source": [
    "In \"creatinine_phosphokinase\" feature we obeserved that,\n",
    "- Outliers is present \n",
    "- Data is right skewed"
   ]
  },
  {
   "cell_type": "markdown",
   "id": "60954016",
   "metadata": {},
   "source": [
    "### ejection_fraction"
   ]
  },
  {
   "cell_type": "code",
   "execution_count": 12,
   "id": "de8afc23",
   "metadata": {},
   "outputs": [
    {
     "data": {
      "image/png": "[encoded data removed]",
      "text/plain": [
       "<Figure size 1008x288 with 2 Axes>"
      ]
     },
     "metadata": {
      "needs_background": "light"
     },
     "output_type": "display_data"
    }
   ],
   "source": [
    "plt.figure(figsize=(14,4))\n",
    "\n",
    "plt.subplot(1,2,1)\n",
    "sns.boxplot(x=\"ejection_fraction\", data=df)\n",
    "\n",
    "plt.subplot(1,2,2)\n",
    "sns.histplot(data=df, x='ejection_fraction')\n",
    "plt.xlabel(\"ejection_fraction\")\n",
    "plt.show()"
   ]
  },
  {
   "cell_type": "markdown",
   "id": "fab4d5f6",
   "metadata": {},
   "source": [
    "In \"ejection_fraction\" feature we obeserved that,\n",
    "- Outliers is present \n",
    "- Data is right skewed"
   ]
  },
  {
   "cell_type": "markdown",
   "id": "2f9a5a7f",
   "metadata": {},
   "source": [
    "### platelets"
   ]
  },
  {
   "cell_type": "code",
   "execution_count": 13,
   "id": "9155cfdd",
   "metadata": {},
   "outputs": [
    {
     "data": {
      "image/png": "[encoded data removed]",
      "text/plain": [
       "<Figure size 1008x288 with 2 Axes>"
      ]
     },
     "metadata": {
      "needs_background": "light"
     },
     "output_type": "display_data"
    }
   ],
   "source": [
    "plt.figure(figsize=(14,4))\n",
    "\n",
    "plt.subplot(1,2,1)\n",
    "sns.boxplot(x=\"platelets\", data=df)\n",
    "\n",
    "plt.subplot(1,2,2)\n",
    "sns.histplot(data=df, x='platelets')\n",
    "plt.xlabel(\"platelets\")\n",
    "plt.show()"
   ]
  },
  {
   "cell_type": "markdown",
   "id": "21277e28",
   "metadata": {},
   "source": [
    "In \"platelets\" feature we obeserved that,\n",
    "- Outliers is present.\n",
    "- Data is right skewed."
   ]
  },
  {
   "cell_type": "markdown",
   "id": "9945672e",
   "metadata": {},
   "source": [
    "### serum_creatinine"
   ]
  },
  {
   "cell_type": "code",
   "execution_count": 14,
   "id": "8427a9eb",
   "metadata": {},
   "outputs": [
    {
     "data": {
      "image/png": "[encoded data removed]",
      "text/plain": [
       "<Figure size 1008x288 with 2 Axes>"
      ]
     },
     "metadata": {
      "needs_background": "light"
     },
     "output_type": "display_data"
    }
   ],
   "source": [
    "plt.figure(figsize=(14,4))\n",
    "\n",
    "plt.subplot(1,2,1)\n",
    "sns.boxplot(x=\"serum_creatinine\", data=df)\n",
    "\n",
    "plt.subplot(1,2,2)\n",
    "sns.histplot(data=df, x='serum_creatinine')\n",
    "plt.xlabel(\"serum_creatinine\")\n",
    "plt.show()"
   ]
  },
  {
   "cell_type": "markdown",
   "id": "1c7e05a0",
   "metadata": {},
   "source": [
    "In \"serum_creatinine\" feature we obeserved that,\n",
    "- Outliers is present.\n",
    "- Data is right skewed."
   ]
  },
  {
   "cell_type": "markdown",
   "id": "2f73764a",
   "metadata": {},
   "source": [
    "### serum_sodium"
   ]
  },
  {
   "cell_type": "code",
   "execution_count": 15,
   "id": "bd6578a0",
   "metadata": {},
   "outputs": [
    {
     "data": {
      "image/png": "[encoded data removed]",
      "text/plain": [
       "<Figure size 1008x288 with 2 Axes>"
      ]
     },
     "metadata": {
      "needs_background": "light"
     },
     "output_type": "display_data"
    }
   ],
   "source": [
    "plt.figure(figsize=(14,4))\n",
    "\n",
    "plt.subplot(1,2,1)\n",
    "sns.boxplot(x=\"serum_sodium\", data=df)\n",
    "\n",
    "plt.subplot(1,2,2)\n",
    "sns.histplot(data=df, x='serum_sodium')\n",
    "plt.xlabel(\"serum_sodium\")\n",
    "plt.show()"
   ]
  },
  {
   "cell_type": "markdown",
   "id": "97a1b338",
   "metadata": {},
   "source": [
    "In \"serum_sodium\" feature we obeserved that,\n",
    "- Outliers is present.\n",
    "- Data is left skewed."
   ]
  },
  {
   "cell_type": "code",
   "execution_count": 16,
   "id": "9840f068",
   "metadata": {},
   "outputs": [
    {
     "data": {
      "text/plain": [
       "age                         0\n",
       "anaemia                     0\n",
       "creatinine_phosphokinase    0\n",
       "diabetes                    0\n",
       "ejection_fraction           0\n",
       "high_blood_pressure         0\n",
       "platelets                   0\n",
       "serum_creatinine            0\n",
       "serum_sodium                0\n",
       "sex                         0\n",
       "smoking                     0\n",
       "time                        0\n",
       "dtype: int64"
      ]
     },
     "execution_count": 16,
     "metadata": {},
     "output_type": "execute_result"
    }
   ],
   "source": [
    "# Cheaking any NaN values present in the dataset:\n",
    "df.isnull().sum()"
   ]
  },
  {
   "cell_type": "markdown",
   "id": "97ed49c8",
   "metadata": {},
   "source": [
    "- There is **no missing values** present in our dataset."
   ]
  },
  {
   "cell_type": "code",
   "execution_count": 17,
   "id": "c94abca1",
   "metadata": {},
   "outputs": [
    {
     "data": {
      "text/html": [
       "<div>\n",
       "<style scoped>\n",
       "    .dataframe tbody tr th:only-of-type {\n",
       "        vertical-align: middle;\n",
       "    }\n",
       "\n",
       "    .dataframe tbody tr th {\n",
       "        vertical-align: top;\n",
       "    }\n",
       "\n",
       "    .dataframe thead th {\n",
       "        text-align: right;\n",
       "    }\n",
       "</style>\n",
       "<table border=\"1\" class=\"dataframe\">\n",
       "  <thead>\n",
       "    <tr style=\"text-align: right;\">\n",
       "      <th></th>\n",
       "      <th>age</th>\n",
       "      <th>anaemia</th>\n",
       "      <th>creatinine_phosphokinase</th>\n",
       "      <th>diabetes</th>\n",
       "      <th>ejection_fraction</th>\n",
       "      <th>high_blood_pressure</th>\n",
       "      <th>platelets</th>\n",
       "      <th>serum_creatinine</th>\n",
       "      <th>serum_sodium</th>\n",
       "      <th>sex</th>\n",
       "      <th>smoking</th>\n",
       "      <th>time</th>\n",
       "    </tr>\n",
       "  </thead>\n",
       "  <tbody>\n",
       "    <tr>\n",
       "      <th>0</th>\n",
       "      <td>75.0</td>\n",
       "      <td>0</td>\n",
       "      <td>582</td>\n",
       "      <td>0</td>\n",
       "      <td>20</td>\n",
       "      <td>1</td>\n",
       "      <td>265000.00</td>\n",
       "      <td>1.9</td>\n",
       "      <td>130</td>\n",
       "      <td>1</td>\n",
       "      <td>0</td>\n",
       "      <td>4</td>\n",
       "    </tr>\n",
       "    <tr>\n",
       "      <th>1</th>\n",
       "      <td>55.0</td>\n",
       "      <td>0</td>\n",
       "      <td>7861</td>\n",
       "      <td>0</td>\n",
       "      <td>38</td>\n",
       "      <td>0</td>\n",
       "      <td>263358.03</td>\n",
       "      <td>1.1</td>\n",
       "      <td>136</td>\n",
       "      <td>1</td>\n",
       "      <td>0</td>\n",
       "      <td>6</td>\n",
       "    </tr>\n",
       "    <tr>\n",
       "      <th>2</th>\n",
       "      <td>65.0</td>\n",
       "      <td>0</td>\n",
       "      <td>146</td>\n",
       "      <td>0</td>\n",
       "      <td>20</td>\n",
       "      <td>0</td>\n",
       "      <td>162000.00</td>\n",
       "      <td>1.3</td>\n",
       "      <td>129</td>\n",
       "      <td>1</td>\n",
       "      <td>1</td>\n",
       "      <td>7</td>\n",
       "    </tr>\n",
       "    <tr>\n",
       "      <th>3</th>\n",
       "      <td>50.0</td>\n",
       "      <td>1</td>\n",
       "      <td>111</td>\n",
       "      <td>0</td>\n",
       "      <td>20</td>\n",
       "      <td>0</td>\n",
       "      <td>210000.00</td>\n",
       "      <td>1.9</td>\n",
       "      <td>137</td>\n",
       "      <td>1</td>\n",
       "      <td>0</td>\n",
       "      <td>7</td>\n",
       "    </tr>\n",
       "    <tr>\n",
       "      <th>4</th>\n",
       "      <td>65.0</td>\n",
       "      <td>1</td>\n",
       "      <td>160</td>\n",
       "      <td>1</td>\n",
       "      <td>20</td>\n",
       "      <td>0</td>\n",
       "      <td>327000.00</td>\n",
       "      <td>2.7</td>\n",
       "      <td>116</td>\n",
       "      <td>0</td>\n",
       "      <td>0</td>\n",
       "      <td>8</td>\n",
       "    </tr>\n",
       "  </tbody>\n",
       "</table>\n",
       "</div>"
      ],
      "text/plain": [
       "    age  anaemia  creatinine_phosphokinase  diabetes  ejection_fraction  \\\n",
       "0  75.0        0                       582         0                 20   \n",
       "1  55.0        0                      7861         0                 38   \n",
       "2  65.0        0                       146         0                 20   \n",
       "3  50.0        1                       111         0                 20   \n",
       "4  65.0        1                       160         1                 20   \n",
       "\n",
       "   high_blood_pressure  platelets  serum_creatinine  serum_sodium  sex  \\\n",
       "0                    1  265000.00               1.9           130    1   \n",
       "1                    0  263358.03               1.1           136    1   \n",
       "2                    0  162000.00               1.3           129    1   \n",
       "3                    0  210000.00               1.9           137    1   \n",
       "4                    0  327000.00               2.7           116    0   \n",
       "\n",
       "   smoking  time  \n",
       "0        0     4  \n",
       "1        0     6  \n",
       "2        1     7  \n",
       "3        0     7  \n",
       "4        0     8  "
      ]
     },
     "execution_count": 17,
     "metadata": {},
     "output_type": "execute_result"
    }
   ],
   "source": [
    "df.head()"
   ]
  },
  {
   "cell_type": "markdown",
   "id": "9fff7591",
   "metadata": {},
   "source": [
    "- As we can see that, the scale of each feature is different, so we need to scale all the values in between certain range. \n",
    "- here we are using **Standardization** "
   ]
  },
  {
   "cell_type": "code",
   "execution_count": 18,
   "id": "3a154c9f",
   "metadata": {},
   "outputs": [],
   "source": [
    "# standardization\n",
    "def standardization(dataset):\n",
    "    data = dataset.copy()\n",
    "    dtypes = list(zip(data.dtypes.index, map(str, data.dtypes)))\n",
    "    \n",
    "    for column, dtype in dtypes:\n",
    "        data[column] -= data[column].mean()\n",
    "        data[column] /= data[column].std()\n",
    "    return data"
   ]
  },
  {
   "cell_type": "code",
   "execution_count": 19,
   "id": "c6082d74",
   "metadata": {
    "scrolled": true
   },
   "outputs": [
    {
     "data": {
      "text/html": [
       "<div>\n",
       "<style scoped>\n",
       "    .dataframe tbody tr th:only-of-type {\n",
       "        vertical-align: middle;\n",
       "    }\n",
       "\n",
       "    .dataframe tbody tr th {\n",
       "        vertical-align: top;\n",
       "    }\n",
       "\n",
       "    .dataframe thead th {\n",
       "        text-align: right;\n",
       "    }\n",
       "</style>\n",
       "<table border=\"1\" class=\"dataframe\">\n",
       "  <thead>\n",
       "    <tr style=\"text-align: right;\">\n",
       "      <th></th>\n",
       "      <th>age</th>\n",
       "      <th>anaemia</th>\n",
       "      <th>creatinine_phosphokinase</th>\n",
       "      <th>diabetes</th>\n",
       "      <th>ejection_fraction</th>\n",
       "      <th>high_blood_pressure</th>\n",
       "      <th>platelets</th>\n",
       "      <th>serum_creatinine</th>\n",
       "      <th>serum_sodium</th>\n",
       "      <th>sex</th>\n",
       "      <th>smoking</th>\n",
       "      <th>time</th>\n",
       "    </tr>\n",
       "  </thead>\n",
       "  <tbody>\n",
       "    <tr>\n",
       "      <th>0</th>\n",
       "      <td>1.190949</td>\n",
       "      <td>-0.869647</td>\n",
       "      <td>0.000165</td>\n",
       "      <td>-0.846161</td>\n",
       "      <td>-1.527998</td>\n",
       "      <td>1.356997</td>\n",
       "      <td>1.678834e-02</td>\n",
       "      <td>0.489237</td>\n",
       "      <td>-1.501519</td>\n",
       "      <td>0.734457</td>\n",
       "      <td>-0.686531</td>\n",
       "      <td>-1.626775</td>\n",
       "    </tr>\n",
       "    <tr>\n",
       "      <th>1</th>\n",
       "      <td>-0.490457</td>\n",
       "      <td>-0.869647</td>\n",
       "      <td>7.502063</td>\n",
       "      <td>-0.846161</td>\n",
       "      <td>-0.007065</td>\n",
       "      <td>-0.734457</td>\n",
       "      <td>7.523047e-09</td>\n",
       "      <td>-0.284076</td>\n",
       "      <td>-0.141739</td>\n",
       "      <td>0.734457</td>\n",
       "      <td>-0.686531</td>\n",
       "      <td>-1.601007</td>\n",
       "    </tr>\n",
       "    <tr>\n",
       "      <th>2</th>\n",
       "      <td>0.350246</td>\n",
       "      <td>-0.869647</td>\n",
       "      <td>-0.449186</td>\n",
       "      <td>-0.846161</td>\n",
       "      <td>-1.527998</td>\n",
       "      <td>-0.734457</td>\n",
       "      <td>-1.036336e+00</td>\n",
       "      <td>-0.090748</td>\n",
       "      <td>-1.728149</td>\n",
       "      <td>0.734457</td>\n",
       "      <td>1.451727</td>\n",
       "      <td>-1.588122</td>\n",
       "    </tr>\n",
       "    <tr>\n",
       "      <th>3</th>\n",
       "      <td>-0.910808</td>\n",
       "      <td>1.146046</td>\n",
       "      <td>-0.485257</td>\n",
       "      <td>-0.846161</td>\n",
       "      <td>-1.527998</td>\n",
       "      <td>-0.734457</td>\n",
       "      <td>-5.455595e-01</td>\n",
       "      <td>0.489237</td>\n",
       "      <td>0.084892</td>\n",
       "      <td>0.734457</td>\n",
       "      <td>-0.686531</td>\n",
       "      <td>-1.588122</td>\n",
       "    </tr>\n",
       "    <tr>\n",
       "      <th>4</th>\n",
       "      <td>0.350246</td>\n",
       "      <td>1.146046</td>\n",
       "      <td>-0.434757</td>\n",
       "      <td>1.177856</td>\n",
       "      <td>-1.527998</td>\n",
       "      <td>-0.734457</td>\n",
       "      <td>6.507077e-01</td>\n",
       "      <td>1.262550</td>\n",
       "      <td>-4.674340</td>\n",
       "      <td>-1.356997</td>\n",
       "      <td>-0.686531</td>\n",
       "      <td>-1.575238</td>\n",
       "    </tr>\n",
       "  </tbody>\n",
       "</table>\n",
       "</div>"
      ],
      "text/plain": [
       "        age   anaemia  creatinine_phosphokinase  diabetes  ejection_fraction  \\\n",
       "0  1.190949 -0.869647                  0.000165 -0.846161          -1.527998   \n",
       "1 -0.490457 -0.869647                  7.502063 -0.846161          -0.007065   \n",
       "2  0.350246 -0.869647                 -0.449186 -0.846161          -1.527998   \n",
       "3 -0.910808  1.146046                 -0.485257 -0.846161          -1.527998   \n",
       "4  0.350246  1.146046                 -0.434757  1.177856          -1.527998   \n",
       "\n",
       "   high_blood_pressure     platelets  serum_creatinine  serum_sodium  \\\n",
       "0             1.356997  1.678834e-02          0.489237     -1.501519   \n",
       "1            -0.734457  7.523047e-09         -0.284076     -0.141739   \n",
       "2            -0.734457 -1.036336e+00         -0.090748     -1.728149   \n",
       "3            -0.734457 -5.455595e-01          0.489237      0.084892   \n",
       "4            -0.734457  6.507077e-01          1.262550     -4.674340   \n",
       "\n",
       "        sex   smoking      time  \n",
       "0  0.734457 -0.686531 -1.626775  \n",
       "1  0.734457 -0.686531 -1.601007  \n",
       "2  0.734457  1.451727 -1.588122  \n",
       "3  0.734457 -0.686531 -1.588122  \n",
       "4 -1.356997 -0.686531 -1.575238  "
      ]
     },
     "execution_count": 19,
     "metadata": {},
     "output_type": "execute_result"
    }
   ],
   "source": [
    "scaler = standardization(df)\n",
    "scaler.head()"
   ]
  },
  {
   "cell_type": "markdown",
   "id": "9e4b2c5a",
   "metadata": {},
   "source": [
    "Now we will check that applying clustering is suitable for this data or not by using **Hopkins Statistics.**\n",
    "\n",
    "This is called as **Assessing Clustering Tendency.**"
   ]
  },
  {
   "cell_type": "markdown",
   "id": "affd7326",
   "metadata": {},
   "source": [
    "### Hopkins Statistic (Statistical Method)\n",
    "\n",
    "- Hopkins statistic is used to assess the clustering tendency of a dataset by measuring the probability that a given dataset is generated by a uniform data distribution.\n",
    "- In other words it tests the spatial randomness of the data."
   ]
  },
  {
   "cell_type": "code",
   "execution_count": 20,
   "id": "9da55101",
   "metadata": {},
   "outputs": [],
   "source": [
    "def hopkins(x, n):\n",
    "    d = len(x)\n",
    "    columns = x.shape[1]\n",
    "\n",
    "    for i in range(columns):\n",
    "        if np.max(x[:, i]) == np.min(x[:, i]) == 0:\n",
    "            pass\n",
    "        else:\n",
    "            x[:, i] = (x[:, i] - np.min(x[:, i])) / (np.max(x[:, i]) - np.min(x[:, i]))\n",
    "\n",
    "    s = np.random.choice(d, n, replace=False)\n",
    "    nns = NearestNeighbors(n_neighbors=1).fit(x)\n",
    "\n",
    "    u, w = 0, 0\n",
    "    for i in s:\n",
    "        ran_point = [np.random.uniform(size=columns)]\n",
    "        u += nns.kneighbors(ran_point)[0][0][0]\n",
    "        w += nns.kneighbors([x[i]], 2)[0][0][1]\n",
    "\n",
    "    return u / (u + w)"
   ]
  },
  {
   "cell_type": "code",
   "execution_count": 21,
   "id": "7f46cb0b",
   "metadata": {},
   "outputs": [],
   "source": [
    "# Converting the data frame to a numpy array:\n",
    "scaler_npy = scaler.to_numpy(copy=True)"
   ]
  },
  {
   "cell_type": "code",
   "execution_count": 22,
   "id": "970f9c9f",
   "metadata": {},
   "outputs": [
    {
     "name": "stdout",
     "output_type": "stream",
     "text": [
      "Hopkins statistic : 0.7708419951109675\n"
     ]
    }
   ],
   "source": [
    "# Hopkins statistic:\n",
    "hs = hopkins(scaler_npy, scaler_npy.shape[0])\n",
    "print(\"Hopkins statistic :\", hs)"
   ]
  },
  {
   "cell_type": "markdown",
   "id": "86d530f6",
   "metadata": {},
   "source": [
    "- **As our Hopkins Statistics value is greater than 0.5, we can able to use clustering algorithm on this dataset.**"
   ]
  },
  {
   "cell_type": "code",
   "execution_count": 23,
   "id": "493de4d0",
   "metadata": {},
   "outputs": [
    {
     "name": "stderr",
     "output_type": "stream",
     "text": [
      "C:\\Users\\ganes\\anaconda3\\envs\\project\\lib\\site-packages\\sklearn\\cluster\\_kmeans.py:1036: UserWarning: KMeans is known to have a memory leak on Windows with MKL, when there are less chunks than available threads. You can avoid it by setting the environment variable OMP_NUM_THREADS=2.\n",
      "  warnings.warn(\n"
     ]
    }
   ],
   "source": [
    "# Kmean Model building for different value of k (1 to 10):\n",
    "kmean_model = [KMeans(n_clusters=k, random_state=8).fit(scaler) for k in range(1, 11)]"
   ]
  },
  {
   "cell_type": "code",
   "execution_count": 24,
   "id": "d80a1d82",
   "metadata": {},
   "outputs": [
    {
     "name": "stdout",
     "output_type": "stream",
     "text": [
      "[3575.999999999998, 3190.4145389646765, 2962.350122009445, 2793.2410395593674, 2637.567802376657, 2478.902605410082, 2387.2778544573225, 2283.8772425393263, 2200.6367856352012, 2127.4345358651694]\n"
     ]
    }
   ],
   "source": [
    "# Inertia of each model for different value of k:\n",
    "inertias = [model.inertia_ for model in kmean_model]\n",
    "print(inertias)"
   ]
  },
  {
   "cell_type": "code",
   "execution_count": 25,
   "id": "93d10516",
   "metadata": {},
   "outputs": [
    {
     "data": {
      "image/png": "[encoded data removed]",
      "text/plain": [
       "<Figure size 720x288 with 1 Axes>"
      ]
     },
     "metadata": {
      "needs_background": "light"
     },
     "output_type": "display_data"
    }
   ],
   "source": [
    "# Elbow diagram:\n",
    "plt.figure(figsize=(10, 4))\n",
    "plt.plot(range(1, 11), inertias, \"ro-\")\n",
    "plt.title(\"Elbow Diagram\", fontsize=20)\n",
    "plt.xlabel(\"K\", fontsize=15)\n",
    "plt.ylabel(\"Inertia\", fontsize=15)\n",
    "plt.show()"
   ]
  },
  {
   "cell_type": "markdown",
   "id": "0ef3d468",
   "metadata": {},
   "source": [
    "- by seeing above elbow diagram, the best clusters we can choose is **k = 3**."
   ]
  },
  {
   "cell_type": "code",
   "execution_count": 26,
   "id": "0ecfe527",
   "metadata": {},
   "outputs": [
    {
     "data": {
      "text/plain": [
       "array([0, 0, 2, 0, 1, 2, 0, 2, 1, 2, 2, 2, 0, 0, 1, 0, 0, 0, 1, 1, 1, 1,\n",
       "       2, 0, 1, 2, 1, 2, 0, 2, 0, 0, 1, 1, 0, 0, 0, 1, 0, 1, 2, 1, 2, 0,\n",
       "       1, 2, 0, 2, 0, 1, 0, 1, 1, 1, 1, 0, 2, 2, 2, 2, 0, 1, 2, 0, 1, 2,\n",
       "       1, 2, 1, 0, 2, 2, 2, 2, 2, 2, 1, 0, 2, 1, 1, 2, 1, 0, 1, 0, 0, 0,\n",
       "       0, 0, 2, 0, 1, 0, 1, 0, 0, 1, 1, 1, 0, 0, 2, 2, 1, 1, 0, 0, 2, 2,\n",
       "       2, 2, 0, 1, 0, 1, 1, 1, 1, 1, 2, 1, 1, 1, 0, 1, 1, 1, 2, 0, 2, 0,\n",
       "       1, 2, 2, 0, 1, 0, 1, 0, 0, 1, 1, 1, 2, 2, 2, 0, 0, 0, 1, 0, 2, 2,\n",
       "       1, 0, 1, 2, 0, 2, 0, 2, 2, 1, 0, 1, 2, 0, 1, 1, 2, 2, 2, 0, 2, 2,\n",
       "       2, 1, 0, 2, 0, 2, 2, 0, 2, 0, 1, 1, 1, 1, 0, 1, 0, 2, 0, 0, 1, 1,\n",
       "       1, 2, 0, 0, 0, 2, 2, 1, 1, 0, 1, 1, 2, 2, 2, 1, 0, 0, 1, 1, 0, 1,\n",
       "       0, 2, 2, 0, 0, 1, 2, 0, 1, 1, 1, 2, 0, 2, 2, 0, 0, 0, 1, 2, 1, 2,\n",
       "       2, 1, 0, 0, 0, 0, 2, 1, 1, 1, 0, 1, 0, 2, 1, 0, 0, 2, 0, 1, 0, 1,\n",
       "       0, 2, 2, 0, 1, 0, 2, 1, 1, 0, 2, 1, 1, 0, 1, 1, 0, 2, 2, 2, 0, 0,\n",
       "       0, 1, 1, 1, 1, 0, 2, 2, 2, 1, 1, 2, 2])"
      ]
     },
     "execution_count": 26,
     "metadata": {},
     "output_type": "execute_result"
    }
   ],
   "source": [
    "# KMeans model building for k=3:\n",
    "model = KMeans(n_clusters=3, random_state=8)\n",
    "model.fit_predict(scaler)"
   ]
  },
  {
   "cell_type": "code",
   "execution_count": 27,
   "id": "fd001b7a",
   "metadata": {},
   "outputs": [
    {
     "name": "stdout",
     "output_type": "stream",
     "text": [
      "[[ 0.07303393  0.01962951  0.09275976 -0.01274219 -0.11061427 -0.03730575\n",
      "  -0.18403236  0.050268   -0.04619841  0.73445691 -0.68653097 -0.02622431]\n",
      " [-0.08878764  0.12860116 -0.10827561  0.2140384   0.20135925  0.14196169\n",
      "   0.16978807 -0.00945797  0.03740713 -1.35699658 -0.60507353  0.0211803 ]\n",
      " [ 0.02036132 -0.16853621  0.02073308 -0.23015575 -0.10717463 -0.12066078\n",
      "   0.01025602 -0.0449375   0.00852705  0.73445691  1.45172695  0.00490161]]\n"
     ]
    }
   ],
   "source": [
    "# Centroids:\n",
    "print(model.cluster_centers_)"
   ]
  },
  {
   "cell_type": "code",
   "execution_count": 28,
   "id": "b3efa6a9",
   "metadata": {},
   "outputs": [
    {
     "name": "stdout",
     "output_type": "stream",
     "text": [
      "Inertia : 2962.350122009445\n"
     ]
    }
   ],
   "source": [
    "# Inertia:\n",
    "print(\"Inertia :\", model.inertia_)"
   ]
  },
  {
   "cell_type": "code",
   "execution_count": 29,
   "id": "fd7ec2dc",
   "metadata": {},
   "outputs": [
    {
     "name": "stdout",
     "output_type": "stream",
     "text": [
      "[0 0 2 0 1 2 0 2 1 2 2 2 0 0 1 0 0 0 1 1 1 1 2 0 1 2 1 2 0 2 0 0 1 1 0 0 0\n",
      " 1 0 1 2 1 2 0 1 2 0 2 0 1 0 1 1 1 1 0 2 2 2 2 0 1 2 0 1 2 1 2 1 0 2 2 2 2\n",
      " 2 2 1 0 2 1 1 2 1 0 1 0 0 0 0 0 2 0 1 0 1 0 0 1 1 1 0 0 2 2 1 1 0 0 2 2 2\n",
      " 2 0 1 0 1 1 1 1 1 2 1 1 1 0 1 1 1 2 0 2 0 1 2 2 0 1 0 1 0 0 1 1 1 2 2 2 0\n",
      " 0 0 1 0 2 2 1 0 1 2 0 2 0 2 2 1 0 1 2 0 1 1 2 2 2 0 2 2 2 1 0 2 0 2 2 0 2\n",
      " 0 1 1 1 1 0 1 0 2 0 0 1 1 1 2 0 0 0 2 2 1 1 0 1 1 2 2 2 1 0 0 1 1 0 1 0 2\n",
      " 2 0 0 1 2 0 1 1 1 2 0 2 2 0 0 0 1 2 1 2 2 1 0 0 0 0 2 1 1 1 0 1 0 2 1 0 0\n",
      " 2 0 1 0 1 0 2 2 0 1 0 2 1 1 0 2 1 1 0 1 1 0 2 2 2 0 0 0 1 1 1 1 0 2 2 2 1\n",
      " 1 2 2]\n"
     ]
    }
   ],
   "source": [
    "# Labels:\n",
    "print(model.labels_)"
   ]
  },
  {
   "cell_type": "markdown",
   "id": "3269a409",
   "metadata": {},
   "source": [
    "Now we will visualizing the clusters, first we have to perform Principal component analysis on our data because the numbers of attributes is 12."
   ]
  },
  {
   "cell_type": "code",
   "execution_count": 30,
   "id": "c8a39b81",
   "metadata": {},
   "outputs": [],
   "source": [
    "# Principal Component Analysis (PCA):\n",
    "pca = PCA(n_components=2)\n",
    "pcs = pca.fit_transform(scaler)"
   ]
  },
  {
   "cell_type": "code",
   "execution_count": 31,
   "id": "0a1f3cb9",
   "metadata": {},
   "outputs": [
    {
     "data": {
      "text/plain": [
       "(299, 2)"
      ]
     },
     "execution_count": 31,
     "metadata": {},
     "output_type": "execute_result"
    }
   ],
   "source": [
    "# Shape after PCA:\n",
    "pcs.shape"
   ]
  },
  {
   "cell_type": "code",
   "execution_count": 32,
   "id": "0a9203f2",
   "metadata": {},
   "outputs": [],
   "source": [
    "# Labels:\n",
    "labels = model.labels_"
   ]
  },
  {
   "cell_type": "code",
   "execution_count": 33,
   "id": "60976492",
   "metadata": {},
   "outputs": [
    {
     "data": {
      "image/png": "[encoded data removed]",
      "text/plain": [
       "<Figure size 720x432 with 1 Axes>"
      ]
     },
     "metadata": {
      "needs_background": "light"
     },
     "output_type": "display_data"
    }
   ],
   "source": [
    "# Plotting the clustres:\n",
    "colors = ['blue', 'red', 'lime']\n",
    "clus_ids = np.unique(labels)\n",
    "plt.figure(figsize=(10,6))\n",
    "\n",
    "k = 3\n",
    "for i in range(k):\n",
    "    x = pcs[:, 0][labels == i]\n",
    "    y = pcs[:, 1][labels == i]\n",
    "    plt.scatter(x, y, c=colors[i])\n",
    "    \n",
    "plt.legend(clus_ids, bbox_to_anchor=(1.05, 1), loc=2, borderaxespad=0.)\n",
    "plt.xlabel('First Principal Component')\n",
    "plt.ylabel('Second Principal Component')\n",
    "plt.title(\"PCA Scatter Plot\", fontsize=20)\n",
    "plt.show()"
   ]
  },
  {
   "cell_type": "markdown",
   "id": "d53cc641",
   "metadata": {},
   "source": [
    "- Visualize the clusters and save the cluster ID of every patient to a csv fille.\n",
    "\n",
    "- Write your analysis of the results. For example, what are the common symptoms/disorders of all the patients in a cluster."
   ]
  },
  {
   "cell_type": "code",
   "execution_count": 34,
   "id": "ff69acbd",
   "metadata": {},
   "outputs": [],
   "source": [
    "# Creating new column Cluster_ID to store Cluster ID of respective records:\n",
    "df[\"Cluster_ID\"] = model.labels_"
   ]
  },
  {
   "cell_type": "code",
   "execution_count": 35,
   "id": "b1e90409",
   "metadata": {},
   "outputs": [
    {
     "data": {
      "text/html": [
       "<div>\n",
       "<style scoped>\n",
       "    .dataframe tbody tr th:only-of-type {\n",
       "        vertical-align: middle;\n",
       "    }\n",
       "\n",
       "    .dataframe tbody tr th {\n",
       "        vertical-align: top;\n",
       "    }\n",
       "\n",
       "    .dataframe thead th {\n",
       "        text-align: right;\n",
       "    }\n",
       "</style>\n",
       "<table border=\"1\" class=\"dataframe\">\n",
       "  <thead>\n",
       "    <tr style=\"text-align: right;\">\n",
       "      <th></th>\n",
       "      <th>age</th>\n",
       "      <th>anaemia</th>\n",
       "      <th>creatinine_phosphokinase</th>\n",
       "      <th>diabetes</th>\n",
       "      <th>ejection_fraction</th>\n",
       "      <th>high_blood_pressure</th>\n",
       "      <th>platelets</th>\n",
       "      <th>serum_creatinine</th>\n",
       "      <th>serum_sodium</th>\n",
       "      <th>sex</th>\n",
       "      <th>smoking</th>\n",
       "      <th>time</th>\n",
       "      <th>Cluster_ID</th>\n",
       "    </tr>\n",
       "  </thead>\n",
       "  <tbody>\n",
       "    <tr>\n",
       "      <th>0</th>\n",
       "      <td>75.0</td>\n",
       "      <td>0</td>\n",
       "      <td>582</td>\n",
       "      <td>0</td>\n",
       "      <td>20</td>\n",
       "      <td>1</td>\n",
       "      <td>265000.00</td>\n",
       "      <td>1.9</td>\n",
       "      <td>130</td>\n",
       "      <td>1</td>\n",
       "      <td>0</td>\n",
       "      <td>4</td>\n",
       "      <td>0</td>\n",
       "    </tr>\n",
       "    <tr>\n",
       "      <th>1</th>\n",
       "      <td>55.0</td>\n",
       "      <td>0</td>\n",
       "      <td>7861</td>\n",
       "      <td>0</td>\n",
       "      <td>38</td>\n",
       "      <td>0</td>\n",
       "      <td>263358.03</td>\n",
       "      <td>1.1</td>\n",
       "      <td>136</td>\n",
       "      <td>1</td>\n",
       "      <td>0</td>\n",
       "      <td>6</td>\n",
       "      <td>0</td>\n",
       "    </tr>\n",
       "    <tr>\n",
       "      <th>2</th>\n",
       "      <td>65.0</td>\n",
       "      <td>0</td>\n",
       "      <td>146</td>\n",
       "      <td>0</td>\n",
       "      <td>20</td>\n",
       "      <td>0</td>\n",
       "      <td>162000.00</td>\n",
       "      <td>1.3</td>\n",
       "      <td>129</td>\n",
       "      <td>1</td>\n",
       "      <td>1</td>\n",
       "      <td>7</td>\n",
       "      <td>2</td>\n",
       "    </tr>\n",
       "    <tr>\n",
       "      <th>3</th>\n",
       "      <td>50.0</td>\n",
       "      <td>1</td>\n",
       "      <td>111</td>\n",
       "      <td>0</td>\n",
       "      <td>20</td>\n",
       "      <td>0</td>\n",
       "      <td>210000.00</td>\n",
       "      <td>1.9</td>\n",
       "      <td>137</td>\n",
       "      <td>1</td>\n",
       "      <td>0</td>\n",
       "      <td>7</td>\n",
       "      <td>0</td>\n",
       "    </tr>\n",
       "    <tr>\n",
       "      <th>4</th>\n",
       "      <td>65.0</td>\n",
       "      <td>1</td>\n",
       "      <td>160</td>\n",
       "      <td>1</td>\n",
       "      <td>20</td>\n",
       "      <td>0</td>\n",
       "      <td>327000.00</td>\n",
       "      <td>2.7</td>\n",
       "      <td>116</td>\n",
       "      <td>0</td>\n",
       "      <td>0</td>\n",
       "      <td>8</td>\n",
       "      <td>1</td>\n",
       "    </tr>\n",
       "  </tbody>\n",
       "</table>\n",
       "</div>"
      ],
      "text/plain": [
       "    age  anaemia  creatinine_phosphokinase  diabetes  ejection_fraction  \\\n",
       "0  75.0        0                       582         0                 20   \n",
       "1  55.0        0                      7861         0                 38   \n",
       "2  65.0        0                       146         0                 20   \n",
       "3  50.0        1                       111         0                 20   \n",
       "4  65.0        1                       160         1                 20   \n",
       "\n",
       "   high_blood_pressure  platelets  serum_creatinine  serum_sodium  sex  \\\n",
       "0                    1  265000.00               1.9           130    1   \n",
       "1                    0  263358.03               1.1           136    1   \n",
       "2                    0  162000.00               1.3           129    1   \n",
       "3                    0  210000.00               1.9           137    1   \n",
       "4                    0  327000.00               2.7           116    0   \n",
       "\n",
       "   smoking  time  Cluster_ID  \n",
       "0        0     4           0  \n",
       "1        0     6           0  \n",
       "2        1     7           2  \n",
       "3        0     7           0  \n",
       "4        0     8           1  "
      ]
     },
     "execution_count": 35,
     "metadata": {},
     "output_type": "execute_result"
    }
   ],
   "source": [
    "df.head()"
   ]
  },
  {
   "cell_type": "code",
   "execution_count": 36,
   "id": "02c12276",
   "metadata": {},
   "outputs": [],
   "source": [
    "# Saving Cluster ID of every patient to a csv file:\n",
    "df.to_csv(\"Cluster_ID_NewFile.csv\", index=False)"
   ]
  },
  {
   "cell_type": "code",
   "execution_count": 37,
   "id": "b2821284",
   "metadata": {},
   "outputs": [
    {
     "data": {
      "text/html": [
       "<div>\n",
       "<style scoped>\n",
       "    .dataframe tbody tr th:only-of-type {\n",
       "        vertical-align: middle;\n",
       "    }\n",
       "\n",
       "    .dataframe tbody tr th {\n",
       "        vertical-align: top;\n",
       "    }\n",
       "\n",
       "    .dataframe thead th {\n",
       "        text-align: right;\n",
       "    }\n",
       "</style>\n",
       "<table border=\"1\" class=\"dataframe\">\n",
       "  <thead>\n",
       "    <tr style=\"text-align: right;\">\n",
       "      <th></th>\n",
       "      <th>age</th>\n",
       "      <th>anaemia</th>\n",
       "      <th>creatinine_phosphokinase</th>\n",
       "      <th>diabetes</th>\n",
       "      <th>ejection_fraction</th>\n",
       "      <th>high_blood_pressure</th>\n",
       "      <th>platelets</th>\n",
       "      <th>serum_creatinine</th>\n",
       "      <th>serum_sodium</th>\n",
       "      <th>sex</th>\n",
       "      <th>smoking</th>\n",
       "      <th>time</th>\n",
       "      <th>Cluster_ID</th>\n",
       "    </tr>\n",
       "  </thead>\n",
       "  <tbody>\n",
       "    <tr>\n",
       "      <th>0</th>\n",
       "      <td>75.0</td>\n",
       "      <td>0</td>\n",
       "      <td>582</td>\n",
       "      <td>0</td>\n",
       "      <td>20</td>\n",
       "      <td>1</td>\n",
       "      <td>265000.00</td>\n",
       "      <td>1.9</td>\n",
       "      <td>130</td>\n",
       "      <td>1</td>\n",
       "      <td>0</td>\n",
       "      <td>4</td>\n",
       "      <td>0</td>\n",
       "    </tr>\n",
       "    <tr>\n",
       "      <th>1</th>\n",
       "      <td>55.0</td>\n",
       "      <td>0</td>\n",
       "      <td>7861</td>\n",
       "      <td>0</td>\n",
       "      <td>38</td>\n",
       "      <td>0</td>\n",
       "      <td>263358.03</td>\n",
       "      <td>1.1</td>\n",
       "      <td>136</td>\n",
       "      <td>1</td>\n",
       "      <td>0</td>\n",
       "      <td>6</td>\n",
       "      <td>0</td>\n",
       "    </tr>\n",
       "    <tr>\n",
       "      <th>2</th>\n",
       "      <td>65.0</td>\n",
       "      <td>0</td>\n",
       "      <td>146</td>\n",
       "      <td>0</td>\n",
       "      <td>20</td>\n",
       "      <td>0</td>\n",
       "      <td>162000.00</td>\n",
       "      <td>1.3</td>\n",
       "      <td>129</td>\n",
       "      <td>1</td>\n",
       "      <td>1</td>\n",
       "      <td>7</td>\n",
       "      <td>2</td>\n",
       "    </tr>\n",
       "    <tr>\n",
       "      <th>3</th>\n",
       "      <td>50.0</td>\n",
       "      <td>1</td>\n",
       "      <td>111</td>\n",
       "      <td>0</td>\n",
       "      <td>20</td>\n",
       "      <td>0</td>\n",
       "      <td>210000.00</td>\n",
       "      <td>1.9</td>\n",
       "      <td>137</td>\n",
       "      <td>1</td>\n",
       "      <td>0</td>\n",
       "      <td>7</td>\n",
       "      <td>0</td>\n",
       "    </tr>\n",
       "    <tr>\n",
       "      <th>4</th>\n",
       "      <td>65.0</td>\n",
       "      <td>1</td>\n",
       "      <td>160</td>\n",
       "      <td>1</td>\n",
       "      <td>20</td>\n",
       "      <td>0</td>\n",
       "      <td>327000.00</td>\n",
       "      <td>2.7</td>\n",
       "      <td>116</td>\n",
       "      <td>0</td>\n",
       "      <td>0</td>\n",
       "      <td>8</td>\n",
       "      <td>1</td>\n",
       "    </tr>\n",
       "  </tbody>\n",
       "</table>\n",
       "</div>"
      ],
      "text/plain": [
       "    age  anaemia  creatinine_phosphokinase  diabetes  ejection_fraction  \\\n",
       "0  75.0        0                       582         0                 20   \n",
       "1  55.0        0                      7861         0                 38   \n",
       "2  65.0        0                       146         0                 20   \n",
       "3  50.0        1                       111         0                 20   \n",
       "4  65.0        1                       160         1                 20   \n",
       "\n",
       "   high_blood_pressure  platelets  serum_creatinine  serum_sodium  sex  \\\n",
       "0                    1  265000.00               1.9           130    1   \n",
       "1                    0  263358.03               1.1           136    1   \n",
       "2                    0  162000.00               1.3           129    1   \n",
       "3                    0  210000.00               1.9           137    1   \n",
       "4                    0  327000.00               2.7           116    0   \n",
       "\n",
       "   smoking  time  Cluster_ID  \n",
       "0        0     4           0  \n",
       "1        0     6           0  \n",
       "2        1     7           2  \n",
       "3        0     7           0  \n",
       "4        0     8           1  "
      ]
     },
     "execution_count": 37,
     "metadata": {},
     "output_type": "execute_result"
    }
   ],
   "source": [
    "# Opening Cluster_ID_NewFile.csv file:\n",
    "df_new = pd.read_csv(\"Cluster_ID_NewFile.csv\")\n",
    "df_new.head()"
   ]
  },
  {
   "cell_type": "code",
   "execution_count": 38,
   "id": "0367d713",
   "metadata": {},
   "outputs": [],
   "source": [
    "# Splitting data for each cluster's:\n",
    "cluster_0 = df_new[df_new[\"Cluster_ID\"] == 0]\n",
    "cluster_1 = df_new[df_new[\"Cluster_ID\"] == 1]\n",
    "cluster_2 = df_new[df_new[\"Cluster_ID\"] == 2]"
   ]
  },
  {
   "cell_type": "markdown",
   "id": "9c9c67af",
   "metadata": {},
   "source": [
    "## Statistical Analysis of each Cluster's"
   ]
  },
  {
   "cell_type": "code",
   "execution_count": 39,
   "id": "8b468939",
   "metadata": {},
   "outputs": [
    {
     "data": {
      "text/html": [
       "<div>\n",
       "<style scoped>\n",
       "    .dataframe tbody tr th:only-of-type {\n",
       "        vertical-align: middle;\n",
       "    }\n",
       "\n",
       "    .dataframe tbody tr th {\n",
       "        vertical-align: top;\n",
       "    }\n",
       "\n",
       "    .dataframe thead th {\n",
       "        text-align: right;\n",
       "    }\n",
       "</style>\n",
       "<table border=\"1\" class=\"dataframe\">\n",
       "  <thead>\n",
       "    <tr style=\"text-align: right;\">\n",
       "      <th></th>\n",
       "      <th>age</th>\n",
       "      <th>anaemia</th>\n",
       "      <th>creatinine_phosphokinase</th>\n",
       "      <th>diabetes</th>\n",
       "      <th>ejection_fraction</th>\n",
       "      <th>high_blood_pressure</th>\n",
       "      <th>platelets</th>\n",
       "      <th>serum_creatinine</th>\n",
       "      <th>serum_sodium</th>\n",
       "      <th>sex</th>\n",
       "      <th>smoking</th>\n",
       "      <th>time</th>\n",
       "      <th>Cluster_ID</th>\n",
       "    </tr>\n",
       "  </thead>\n",
       "  <tbody>\n",
       "    <tr>\n",
       "      <th>count</th>\n",
       "      <td>102.000000</td>\n",
       "      <td>102.000000</td>\n",
       "      <td>102.000000</td>\n",
       "      <td>102.000000</td>\n",
       "      <td>102.000000</td>\n",
       "      <td>102.000000</td>\n",
       "      <td>102.000000</td>\n",
       "      <td>102.000000</td>\n",
       "      <td>102.000000</td>\n",
       "      <td>102.0</td>\n",
       "      <td>102.0</td>\n",
       "      <td>102.000000</td>\n",
       "      <td>102.0</td>\n",
       "    </tr>\n",
       "    <tr>\n",
       "      <th>mean</th>\n",
       "      <td>61.702618</td>\n",
       "      <td>0.441176</td>\n",
       "      <td>671.843137</td>\n",
       "      <td>0.411765</td>\n",
       "      <td>36.774510</td>\n",
       "      <td>0.333333</td>\n",
       "      <td>245358.884412</td>\n",
       "      <td>1.445882</td>\n",
       "      <td>136.421569</td>\n",
       "      <td>1.0</td>\n",
       "      <td>0.0</td>\n",
       "      <td>128.225490</td>\n",
       "      <td>0.0</td>\n",
       "    </tr>\n",
       "    <tr>\n",
       "      <th>std</th>\n",
       "      <td>12.917774</td>\n",
       "      <td>0.498980</td>\n",
       "      <td>1187.625301</td>\n",
       "      <td>0.494583</td>\n",
       "      <td>11.299616</td>\n",
       "      <td>0.473732</td>\n",
       "      <td>85491.473344</td>\n",
       "      <td>0.925340</td>\n",
       "      <td>3.842020</td>\n",
       "      <td>0.0</td>\n",
       "      <td>0.0</td>\n",
       "      <td>78.093103</td>\n",
       "      <td>0.0</td>\n",
       "    </tr>\n",
       "    <tr>\n",
       "      <th>min</th>\n",
       "      <td>40.000000</td>\n",
       "      <td>0.000000</td>\n",
       "      <td>23.000000</td>\n",
       "      <td>0.000000</td>\n",
       "      <td>14.000000</td>\n",
       "      <td>0.000000</td>\n",
       "      <td>25100.000000</td>\n",
       "      <td>0.700000</td>\n",
       "      <td>126.000000</td>\n",
       "      <td>1.0</td>\n",
       "      <td>0.0</td>\n",
       "      <td>4.000000</td>\n",
       "      <td>0.0</td>\n",
       "    </tr>\n",
       "    <tr>\n",
       "      <th>25%</th>\n",
       "      <td>51.500000</td>\n",
       "      <td>0.000000</td>\n",
       "      <td>115.000000</td>\n",
       "      <td>0.000000</td>\n",
       "      <td>26.250000</td>\n",
       "      <td>0.000000</td>\n",
       "      <td>199250.000000</td>\n",
       "      <td>1.000000</td>\n",
       "      <td>134.000000</td>\n",
       "      <td>1.0</td>\n",
       "      <td>0.0</td>\n",
       "      <td>75.000000</td>\n",
       "      <td>0.0</td>\n",
       "    </tr>\n",
       "    <tr>\n",
       "      <th>50%</th>\n",
       "      <td>60.000000</td>\n",
       "      <td>0.000000</td>\n",
       "      <td>314.000000</td>\n",
       "      <td>0.000000</td>\n",
       "      <td>38.000000</td>\n",
       "      <td>0.000000</td>\n",
       "      <td>243000.000000</td>\n",
       "      <td>1.100000</td>\n",
       "      <td>136.500000</td>\n",
       "      <td>1.0</td>\n",
       "      <td>0.0</td>\n",
       "      <td>114.000000</td>\n",
       "      <td>0.0</td>\n",
       "    </tr>\n",
       "    <tr>\n",
       "      <th>75%</th>\n",
       "      <td>70.000000</td>\n",
       "      <td>1.000000</td>\n",
       "      <td>582.000000</td>\n",
       "      <td>1.000000</td>\n",
       "      <td>43.750000</td>\n",
       "      <td>1.000000</td>\n",
       "      <td>278250.000000</td>\n",
       "      <td>1.700000</td>\n",
       "      <td>139.000000</td>\n",
       "      <td>1.0</td>\n",
       "      <td>0.0</td>\n",
       "      <td>204.000000</td>\n",
       "      <td>0.0</td>\n",
       "    </tr>\n",
       "    <tr>\n",
       "      <th>max</th>\n",
       "      <td>95.000000</td>\n",
       "      <td>1.000000</td>\n",
       "      <td>7861.000000</td>\n",
       "      <td>1.000000</td>\n",
       "      <td>60.000000</td>\n",
       "      <td>1.000000</td>\n",
       "      <td>504000.000000</td>\n",
       "      <td>6.100000</td>\n",
       "      <td>148.000000</td>\n",
       "      <td>1.0</td>\n",
       "      <td>0.0</td>\n",
       "      <td>258.000000</td>\n",
       "      <td>0.0</td>\n",
       "    </tr>\n",
       "  </tbody>\n",
       "</table>\n",
       "</div>"
      ],
      "text/plain": [
       "              age     anaemia  creatinine_phosphokinase    diabetes  \\\n",
       "count  102.000000  102.000000                102.000000  102.000000   \n",
       "mean    61.702618    0.441176                671.843137    0.411765   \n",
       "std     12.917774    0.498980               1187.625301    0.494583   \n",
       "min     40.000000    0.000000                 23.000000    0.000000   \n",
       "25%     51.500000    0.000000                115.000000    0.000000   \n",
       "50%     60.000000    0.000000                314.000000    0.000000   \n",
       "75%     70.000000    1.000000                582.000000    1.000000   \n",
       "max     95.000000    1.000000               7861.000000    1.000000   \n",
       "\n",
       "       ejection_fraction  high_blood_pressure      platelets  \\\n",
       "count         102.000000           102.000000     102.000000   \n",
       "mean           36.774510             0.333333  245358.884412   \n",
       "std            11.299616             0.473732   85491.473344   \n",
       "min            14.000000             0.000000   25100.000000   \n",
       "25%            26.250000             0.000000  199250.000000   \n",
       "50%            38.000000             0.000000  243000.000000   \n",
       "75%            43.750000             1.000000  278250.000000   \n",
       "max            60.000000             1.000000  504000.000000   \n",
       "\n",
       "       serum_creatinine  serum_sodium    sex  smoking        time  Cluster_ID  \n",
       "count        102.000000    102.000000  102.0    102.0  102.000000       102.0  \n",
       "mean           1.445882    136.421569    1.0      0.0  128.225490         0.0  \n",
       "std            0.925340      3.842020    0.0      0.0   78.093103         0.0  \n",
       "min            0.700000    126.000000    1.0      0.0    4.000000         0.0  \n",
       "25%            1.000000    134.000000    1.0      0.0   75.000000         0.0  \n",
       "50%            1.100000    136.500000    1.0      0.0  114.000000         0.0  \n",
       "75%            1.700000    139.000000    1.0      0.0  204.000000         0.0  \n",
       "max            6.100000    148.000000    1.0      0.0  258.000000         0.0  "
      ]
     },
     "execution_count": 39,
     "metadata": {},
     "output_type": "execute_result"
    }
   ],
   "source": [
    "cluster_0.describe()"
   ]
  },
  {
   "cell_type": "code",
   "execution_count": 40,
   "id": "021e4103",
   "metadata": {},
   "outputs": [
    {
     "data": {
      "text/html": [
       "<div>\n",
       "<style scoped>\n",
       "    .dataframe tbody tr th:only-of-type {\n",
       "        vertical-align: middle;\n",
       "    }\n",
       "\n",
       "    .dataframe tbody tr th {\n",
       "        vertical-align: top;\n",
       "    }\n",
       "\n",
       "    .dataframe thead th {\n",
       "        text-align: right;\n",
       "    }\n",
       "</style>\n",
       "<table border=\"1\" class=\"dataframe\">\n",
       "  <thead>\n",
       "    <tr style=\"text-align: right;\">\n",
       "      <th></th>\n",
       "      <th>age</th>\n",
       "      <th>anaemia</th>\n",
       "      <th>creatinine_phosphokinase</th>\n",
       "      <th>diabetes</th>\n",
       "      <th>ejection_fraction</th>\n",
       "      <th>high_blood_pressure</th>\n",
       "      <th>platelets</th>\n",
       "      <th>serum_creatinine</th>\n",
       "      <th>serum_sodium</th>\n",
       "      <th>sex</th>\n",
       "      <th>smoking</th>\n",
       "      <th>time</th>\n",
       "      <th>Cluster_ID</th>\n",
       "    </tr>\n",
       "  </thead>\n",
       "  <tbody>\n",
       "    <tr>\n",
       "      <th>count</th>\n",
       "      <td>105.000000</td>\n",
       "      <td>105.000000</td>\n",
       "      <td>105.000000</td>\n",
       "      <td>105.000000</td>\n",
       "      <td>105.000000</td>\n",
       "      <td>105.000000</td>\n",
       "      <td>105.000000</td>\n",
       "      <td>105.000000</td>\n",
       "      <td>105.000000</td>\n",
       "      <td>105.0</td>\n",
       "      <td>105.000000</td>\n",
       "      <td>105.000000</td>\n",
       "      <td>105.0</td>\n",
       "    </tr>\n",
       "    <tr>\n",
       "      <th>mean</th>\n",
       "      <td>59.777781</td>\n",
       "      <td>0.495238</td>\n",
       "      <td>476.780952</td>\n",
       "      <td>0.523810</td>\n",
       "      <td>40.466667</td>\n",
       "      <td>0.419048</td>\n",
       "      <td>279964.021619</td>\n",
       "      <td>1.384095</td>\n",
       "      <td>136.790476</td>\n",
       "      <td>0.0</td>\n",
       "      <td>0.038095</td>\n",
       "      <td>131.904762</td>\n",
       "      <td>1.0</td>\n",
       "    </tr>\n",
       "    <tr>\n",
       "      <th>std</th>\n",
       "      <td>11.240919</td>\n",
       "      <td>0.502375</td>\n",
       "      <td>611.364190</td>\n",
       "      <td>0.501828</td>\n",
       "      <td>12.728728</td>\n",
       "      <td>0.495770</td>\n",
       "      <td>102108.749558</td>\n",
       "      <td>1.118633</td>\n",
       "      <td>4.904267</td>\n",
       "      <td>0.0</td>\n",
       "      <td>0.192344</td>\n",
       "      <td>77.625893</td>\n",
       "      <td>0.0</td>\n",
       "    </tr>\n",
       "    <tr>\n",
       "      <th>min</th>\n",
       "      <td>40.000000</td>\n",
       "      <td>0.000000</td>\n",
       "      <td>52.000000</td>\n",
       "      <td>0.000000</td>\n",
       "      <td>15.000000</td>\n",
       "      <td>0.000000</td>\n",
       "      <td>62000.000000</td>\n",
       "      <td>0.500000</td>\n",
       "      <td>116.000000</td>\n",
       "      <td>0.0</td>\n",
       "      <td>0.000000</td>\n",
       "      <td>8.000000</td>\n",
       "      <td>1.0</td>\n",
       "    </tr>\n",
       "    <tr>\n",
       "      <th>25%</th>\n",
       "      <td>50.000000</td>\n",
       "      <td>0.000000</td>\n",
       "      <td>124.000000</td>\n",
       "      <td>0.000000</td>\n",
       "      <td>30.000000</td>\n",
       "      <td>0.000000</td>\n",
       "      <td>223000.000000</td>\n",
       "      <td>0.900000</td>\n",
       "      <td>135.000000</td>\n",
       "      <td>0.0</td>\n",
       "      <td>0.000000</td>\n",
       "      <td>75.000000</td>\n",
       "      <td>1.0</td>\n",
       "    </tr>\n",
       "    <tr>\n",
       "      <th>50%</th>\n",
       "      <td>60.000000</td>\n",
       "      <td>0.000000</td>\n",
       "      <td>250.000000</td>\n",
       "      <td>1.000000</td>\n",
       "      <td>38.000000</td>\n",
       "      <td>0.000000</td>\n",
       "      <td>263358.030000</td>\n",
       "      <td>1.000000</td>\n",
       "      <td>137.000000</td>\n",
       "      <td>0.0</td>\n",
       "      <td>0.000000</td>\n",
       "      <td>109.000000</td>\n",
       "      <td>1.0</td>\n",
       "    </tr>\n",
       "    <tr>\n",
       "      <th>75%</th>\n",
       "      <td>66.000000</td>\n",
       "      <td>1.000000</td>\n",
       "      <td>582.000000</td>\n",
       "      <td>1.000000</td>\n",
       "      <td>50.000000</td>\n",
       "      <td>1.000000</td>\n",
       "      <td>319000.000000</td>\n",
       "      <td>1.400000</td>\n",
       "      <td>140.000000</td>\n",
       "      <td>0.0</td>\n",
       "      <td>0.000000</td>\n",
       "      <td>205.000000</td>\n",
       "      <td>1.0</td>\n",
       "    </tr>\n",
       "    <tr>\n",
       "      <th>max</th>\n",
       "      <td>95.000000</td>\n",
       "      <td>1.000000</td>\n",
       "      <td>3964.000000</td>\n",
       "      <td>1.000000</td>\n",
       "      <td>80.000000</td>\n",
       "      <td>1.000000</td>\n",
       "      <td>742000.000000</td>\n",
       "      <td>9.000000</td>\n",
       "      <td>146.000000</td>\n",
       "      <td>0.0</td>\n",
       "      <td>1.000000</td>\n",
       "      <td>278.000000</td>\n",
       "      <td>1.0</td>\n",
       "    </tr>\n",
       "  </tbody>\n",
       "</table>\n",
       "</div>"
      ],
      "text/plain": [
       "              age     anaemia  creatinine_phosphokinase    diabetes  \\\n",
       "count  105.000000  105.000000                105.000000  105.000000   \n",
       "mean    59.777781    0.495238                476.780952    0.523810   \n",
       "std     11.240919    0.502375                611.364190    0.501828   \n",
       "min     40.000000    0.000000                 52.000000    0.000000   \n",
       "25%     50.000000    0.000000                124.000000    0.000000   \n",
       "50%     60.000000    0.000000                250.000000    1.000000   \n",
       "75%     66.000000    1.000000                582.000000    1.000000   \n",
       "max     95.000000    1.000000               3964.000000    1.000000   \n",
       "\n",
       "       ejection_fraction  high_blood_pressure      platelets  \\\n",
       "count         105.000000           105.000000     105.000000   \n",
       "mean           40.466667             0.419048  279964.021619   \n",
       "std            12.728728             0.495770  102108.749558   \n",
       "min            15.000000             0.000000   62000.000000   \n",
       "25%            30.000000             0.000000  223000.000000   \n",
       "50%            38.000000             0.000000  263358.030000   \n",
       "75%            50.000000             1.000000  319000.000000   \n",
       "max            80.000000             1.000000  742000.000000   \n",
       "\n",
       "       serum_creatinine  serum_sodium    sex     smoking        time  \\\n",
       "count        105.000000    105.000000  105.0  105.000000  105.000000   \n",
       "mean           1.384095    136.790476    0.0    0.038095  131.904762   \n",
       "std            1.118633      4.904267    0.0    0.192344   77.625893   \n",
       "min            0.500000    116.000000    0.0    0.000000    8.000000   \n",
       "25%            0.900000    135.000000    0.0    0.000000   75.000000   \n",
       "50%            1.000000    137.000000    0.0    0.000000  109.000000   \n",
       "75%            1.400000    140.000000    0.0    0.000000  205.000000   \n",
       "max            9.000000    146.000000    0.0    1.000000  278.000000   \n",
       "\n",
       "       Cluster_ID  \n",
       "count       105.0  \n",
       "mean          1.0  \n",
       "std           0.0  \n",
       "min           1.0  \n",
       "25%           1.0  \n",
       "50%           1.0  \n",
       "75%           1.0  \n",
       "max           1.0  "
      ]
     },
     "execution_count": 40,
     "metadata": {},
     "output_type": "execute_result"
    }
   ],
   "source": [
    "cluster_1.describe()"
   ]
  },
  {
   "cell_type": "code",
   "execution_count": 41,
   "id": "dc5289c2",
   "metadata": {},
   "outputs": [
    {
     "data": {
      "text/html": [
       "<div>\n",
       "<style scoped>\n",
       "    .dataframe tbody tr th:only-of-type {\n",
       "        vertical-align: middle;\n",
       "    }\n",
       "\n",
       "    .dataframe tbody tr th {\n",
       "        vertical-align: top;\n",
       "    }\n",
       "\n",
       "    .dataframe thead th {\n",
       "        text-align: right;\n",
       "    }\n",
       "</style>\n",
       "<table border=\"1\" class=\"dataframe\">\n",
       "  <thead>\n",
       "    <tr style=\"text-align: right;\">\n",
       "      <th></th>\n",
       "      <th>age</th>\n",
       "      <th>anaemia</th>\n",
       "      <th>creatinine_phosphokinase</th>\n",
       "      <th>diabetes</th>\n",
       "      <th>ejection_fraction</th>\n",
       "      <th>high_blood_pressure</th>\n",
       "      <th>platelets</th>\n",
       "      <th>serum_creatinine</th>\n",
       "      <th>serum_sodium</th>\n",
       "      <th>sex</th>\n",
       "      <th>smoking</th>\n",
       "      <th>time</th>\n",
       "      <th>Cluster_ID</th>\n",
       "    </tr>\n",
       "  </thead>\n",
       "  <tbody>\n",
       "    <tr>\n",
       "      <th>count</th>\n",
       "      <td>92.000000</td>\n",
       "      <td>92.000000</td>\n",
       "      <td>92.000000</td>\n",
       "      <td>92.000000</td>\n",
       "      <td>92.000000</td>\n",
       "      <td>92.000000</td>\n",
       "      <td>92.000000</td>\n",
       "      <td>92.000000</td>\n",
       "      <td>92.000000</td>\n",
       "      <td>92.0</td>\n",
       "      <td>92.0</td>\n",
       "      <td>92.000000</td>\n",
       "      <td>92.0</td>\n",
       "    </tr>\n",
       "    <tr>\n",
       "      <th>mean</th>\n",
       "      <td>61.076087</td>\n",
       "      <td>0.347826</td>\n",
       "      <td>601.956522</td>\n",
       "      <td>0.304348</td>\n",
       "      <td>36.815217</td>\n",
       "      <td>0.293478</td>\n",
       "      <td>264361.111630</td>\n",
       "      <td>1.347391</td>\n",
       "      <td>136.663043</td>\n",
       "      <td>1.0</td>\n",
       "      <td>1.0</td>\n",
       "      <td>130.641304</td>\n",
       "      <td>2.0</td>\n",
       "    </tr>\n",
       "    <tr>\n",
       "      <th>std</th>\n",
       "      <td>11.468288</td>\n",
       "      <td>0.478890</td>\n",
       "      <td>1033.529735</td>\n",
       "      <td>0.462652</td>\n",
       "      <td>11.031353</td>\n",
       "      <td>0.457851</td>\n",
       "      <td>103029.106747</td>\n",
       "      <td>1.057767</td>\n",
       "      <td>4.450650</td>\n",
       "      <td>0.0</td>\n",
       "      <td>0.0</td>\n",
       "      <td>77.869231</td>\n",
       "      <td>0.0</td>\n",
       "    </tr>\n",
       "    <tr>\n",
       "      <th>min</th>\n",
       "      <td>40.000000</td>\n",
       "      <td>0.000000</td>\n",
       "      <td>47.000000</td>\n",
       "      <td>0.000000</td>\n",
       "      <td>17.000000</td>\n",
       "      <td>0.000000</td>\n",
       "      <td>51000.000000</td>\n",
       "      <td>0.600000</td>\n",
       "      <td>113.000000</td>\n",
       "      <td>1.0</td>\n",
       "      <td>1.0</td>\n",
       "      <td>7.000000</td>\n",
       "      <td>2.0</td>\n",
       "    </tr>\n",
       "    <tr>\n",
       "      <th>25%</th>\n",
       "      <td>52.000000</td>\n",
       "      <td>0.000000</td>\n",
       "      <td>121.000000</td>\n",
       "      <td>0.000000</td>\n",
       "      <td>30.000000</td>\n",
       "      <td>0.000000</td>\n",
       "      <td>204000.000000</td>\n",
       "      <td>0.900000</td>\n",
       "      <td>135.000000</td>\n",
       "      <td>1.0</td>\n",
       "      <td>1.0</td>\n",
       "      <td>71.750000</td>\n",
       "      <td>2.0</td>\n",
       "    </tr>\n",
       "    <tr>\n",
       "      <th>50%</th>\n",
       "      <td>60.000000</td>\n",
       "      <td>0.000000</td>\n",
       "      <td>222.000000</td>\n",
       "      <td>0.000000</td>\n",
       "      <td>35.000000</td>\n",
       "      <td>0.000000</td>\n",
       "      <td>263358.030000</td>\n",
       "      <td>1.100000</td>\n",
       "      <td>137.000000</td>\n",
       "      <td>1.0</td>\n",
       "      <td>1.0</td>\n",
       "      <td>119.500000</td>\n",
       "      <td>2.0</td>\n",
       "    </tr>\n",
       "    <tr>\n",
       "      <th>75%</th>\n",
       "      <td>70.000000</td>\n",
       "      <td>1.000000</td>\n",
       "      <td>582.000000</td>\n",
       "      <td>1.000000</td>\n",
       "      <td>40.000000</td>\n",
       "      <td>1.000000</td>\n",
       "      <td>305250.000000</td>\n",
       "      <td>1.300000</td>\n",
       "      <td>139.000000</td>\n",
       "      <td>1.0</td>\n",
       "      <td>1.0</td>\n",
       "      <td>200.250000</td>\n",
       "      <td>2.0</td>\n",
       "    </tr>\n",
       "    <tr>\n",
       "      <th>max</th>\n",
       "      <td>90.000000</td>\n",
       "      <td>1.000000</td>\n",
       "      <td>5882.000000</td>\n",
       "      <td>1.000000</td>\n",
       "      <td>62.000000</td>\n",
       "      <td>1.000000</td>\n",
       "      <td>850000.000000</td>\n",
       "      <td>9.400000</td>\n",
       "      <td>145.000000</td>\n",
       "      <td>1.0</td>\n",
       "      <td>1.0</td>\n",
       "      <td>285.000000</td>\n",
       "      <td>2.0</td>\n",
       "    </tr>\n",
       "  </tbody>\n",
       "</table>\n",
       "</div>"
      ],
      "text/plain": [
       "             age    anaemia  creatinine_phosphokinase   diabetes  \\\n",
       "count  92.000000  92.000000                 92.000000  92.000000   \n",
       "mean   61.076087   0.347826                601.956522   0.304348   \n",
       "std    11.468288   0.478890               1033.529735   0.462652   \n",
       "min    40.000000   0.000000                 47.000000   0.000000   \n",
       "25%    52.000000   0.000000                121.000000   0.000000   \n",
       "50%    60.000000   0.000000                222.000000   0.000000   \n",
       "75%    70.000000   1.000000                582.000000   1.000000   \n",
       "max    90.000000   1.000000               5882.000000   1.000000   \n",
       "\n",
       "       ejection_fraction  high_blood_pressure      platelets  \\\n",
       "count          92.000000            92.000000      92.000000   \n",
       "mean           36.815217             0.293478  264361.111630   \n",
       "std            11.031353             0.457851  103029.106747   \n",
       "min            17.000000             0.000000   51000.000000   \n",
       "25%            30.000000             0.000000  204000.000000   \n",
       "50%            35.000000             0.000000  263358.030000   \n",
       "75%            40.000000             1.000000  305250.000000   \n",
       "max            62.000000             1.000000  850000.000000   \n",
       "\n",
       "       serum_creatinine  serum_sodium   sex  smoking        time  Cluster_ID  \n",
       "count         92.000000     92.000000  92.0     92.0   92.000000        92.0  \n",
       "mean           1.347391    136.663043   1.0      1.0  130.641304         2.0  \n",
       "std            1.057767      4.450650   0.0      0.0   77.869231         0.0  \n",
       "min            0.600000    113.000000   1.0      1.0    7.000000         2.0  \n",
       "25%            0.900000    135.000000   1.0      1.0   71.750000         2.0  \n",
       "50%            1.100000    137.000000   1.0      1.0  119.500000         2.0  \n",
       "75%            1.300000    139.000000   1.0      1.0  200.250000         2.0  \n",
       "max            9.400000    145.000000   1.0      1.0  285.000000         2.0  "
      ]
     },
     "execution_count": 41,
     "metadata": {},
     "output_type": "execute_result"
    }
   ],
   "source": [
    "cluster_2.describe()"
   ]
  },
  {
   "cell_type": "markdown",
   "id": "51570e2d",
   "metadata": {},
   "source": [
    "## Plotting Box plot of each features for different Cluster's"
   ]
  },
  {
   "cell_type": "code",
   "execution_count": 42,
   "id": "55d8a661",
   "metadata": {},
   "outputs": [
    {
     "data": {
      "image/png": "[encoded data removed]",
      "text/plain": [
       "<Figure size 1296x288 with 3 Axes>"
      ]
     },
     "metadata": {
      "needs_background": "light"
     },
     "output_type": "display_data"
    }
   ],
   "source": [
    "# Boxplot of \"age\" feature of different clusters: \n",
    "plt.figure(figsize=(18,4))\n",
    "\n",
    "plt.subplot(1,3,1)\n",
    "sns.boxplot(data=cluster_0, x=\"age\")\n",
    "plt.title(\"Cluster 0\", fontsize=20)\n",
    "\n",
    "plt.subplot(1,3,2)\n",
    "sns.boxplot(data=cluster_1, x=\"age\")\n",
    "plt.title(\"Cluster 1\", fontsize=20)\n",
    "\n",
    "plt.subplot(1,3,3)\n",
    "sns.boxplot(data=cluster_2, x=\"age\")\n",
    "plt.title(\"Cluster 2\", fontsize=20)\n",
    "\n",
    "plt.show()"
   ]
  },
  {
   "cell_type": "code",
   "execution_count": 43,
   "id": "58f7a885",
   "metadata": {},
   "outputs": [
    {
     "data": {
      "image/png": "[encoded data removed]",
      "text/plain": [
       "<Figure size 1296x288 with 3 Axes>"
      ]
     },
     "metadata": {
      "needs_background": "light"
     },
     "output_type": "display_data"
    }
   ],
   "source": [
    "# Boxplot of \"creatinine_phosphokinase\" feature of different clusters: \n",
    "plt.figure(figsize=(18,4))\n",
    "\n",
    "plt.subplot(1,3,1)\n",
    "sns.boxplot(data=cluster_0, x=\"creatinine_phosphokinase\")\n",
    "plt.title(\"Cluster 0\", fontsize=20)\n",
    "\n",
    "plt.subplot(1,3,2)\n",
    "sns.boxplot(data=cluster_1, x=\"creatinine_phosphokinase\")\n",
    "plt.title(\"Cluster 1\", fontsize=20)\n",
    "\n",
    "plt.subplot(1,3,3)\n",
    "sns.boxplot(data=cluster_2, x=\"creatinine_phosphokinase\")\n",
    "plt.title(\"Cluster 2\", fontsize=20)\n",
    "\n",
    "plt.show()"
   ]
  },
  {
   "cell_type": "code",
   "execution_count": 44,
   "id": "107592ad",
   "metadata": {},
   "outputs": [
    {
     "data": {
      "image/png": "[encoded data removed]",
      "text/plain": [
       "<Figure size 1296x288 with 3 Axes>"
      ]
     },
     "metadata": {
      "needs_background": "light"
     },
     "output_type": "display_data"
    }
   ],
   "source": [
    "# Boxplot of \"ejection_fraction\" feature for different clusters: \n",
    "plt.figure(figsize=(18,4))\n",
    "\n",
    "plt.subplot(1,3,1)\n",
    "sns.boxplot(data=cluster_0, x=\"ejection_fraction\")\n",
    "plt.title(\"Cluster 0\", fontsize=20)\n",
    "\n",
    "plt.subplot(1,3,2)\n",
    "sns.boxplot(data=cluster_1, x=\"ejection_fraction\")\n",
    "plt.title(\"Cluster 1\", fontsize=20)\n",
    "\n",
    "plt.subplot(1,3,3)\n",
    "sns.boxplot(data=cluster_2, x=\"ejection_fraction\")\n",
    "plt.title(\"Cluster 2\", fontsize=20)\n",
    "\n",
    "plt.show()"
   ]
  },
  {
   "cell_type": "code",
   "execution_count": 45,
   "id": "14583287",
   "metadata": {},
   "outputs": [
    {
     "data": {
      "image/png": "[encoded data removed]",
      "text/plain": [
       "<Figure size 1296x288 with 3 Axes>"
      ]
     },
     "metadata": {
      "needs_background": "light"
     },
     "output_type": "display_data"
    }
   ],
   "source": [
    "# Boxplot of \"platelets\" feature for different clusters: \n",
    "plt.figure(figsize=(18,4))\n",
    "\n",
    "plt.subplot(1,3,1)\n",
    "sns.boxplot(data=cluster_0, x=\"platelets\")\n",
    "plt.title(\"Cluster 0\", fontsize=20)\n",
    "\n",
    "plt.subplot(1,3,2)\n",
    "sns.boxplot(data=cluster_1, x=\"platelets\")\n",
    "plt.title(\"Cluster 1\", fontsize=20)\n",
    "\n",
    "plt.subplot(1,3,3)\n",
    "sns.boxplot(data=cluster_2, x=\"platelets\")\n",
    "plt.title(\"Cluster 2\", fontsize=20)\n",
    "\n",
    "plt.show()"
   ]
  },
  {
   "cell_type": "code",
   "execution_count": 46,
   "id": "363ba1b5",
   "metadata": {},
   "outputs": [
    {
     "data": {
      "image/png": "[encoded data removed]",
      "text/plain": [
       "<Figure size 1296x288 with 3 Axes>"
      ]
     },
     "metadata": {
      "needs_background": "light"
     },
     "output_type": "display_data"
    }
   ],
   "source": [
    "# Boxplot of \"serum_creatinine\" feature for different clusters: \n",
    "plt.figure(figsize=(18,4))\n",
    "\n",
    "plt.subplot(1,3,1)\n",
    "sns.boxplot(data=cluster_0, x=\"serum_creatinine\")\n",
    "plt.title(\"Cluster 0\", fontsize=20)\n",
    "\n",
    "plt.subplot(1,3,2)\n",
    "sns.boxplot(data=cluster_1, x=\"serum_creatinine\")\n",
    "plt.title(\"Cluster 1\", fontsize=20)\n",
    "\n",
    "plt.subplot(1,3,3)\n",
    "sns.boxplot(data=cluster_2, x=\"serum_creatinine\")\n",
    "plt.title(\"Cluster 2\", fontsize=20)\n",
    "\n",
    "plt.show()"
   ]
  },
  {
   "cell_type": "code",
   "execution_count": 47,
   "id": "ca8ac87c",
   "metadata": {},
   "outputs": [
    {
     "data": {
      "image/png": "[encoded data removed]",
      "text/plain": [
       "<Figure size 1296x288 with 3 Axes>"
      ]
     },
     "metadata": {
      "needs_background": "light"
     },
     "output_type": "display_data"
    }
   ],
   "source": [
    "# Boxplot of \"serum_sodium\" feature for different clusters: \n",
    "plt.figure(figsize=(18,4))\n",
    "\n",
    "plt.subplot(1,3,1)\n",
    "sns.boxplot(data=cluster_0, x=\"serum_sodium\")\n",
    "plt.title(\"Cluster 0\", fontsize=20)\n",
    "\n",
    "plt.subplot(1,3,2)\n",
    "sns.boxplot(data=cluster_1, x=\"serum_sodium\")\n",
    "plt.title(\"Cluster 1\", fontsize=20)\n",
    "\n",
    "plt.subplot(1,3,3)\n",
    "sns.boxplot(data=cluster_2, x=\"serum_sodium\")\n",
    "plt.title(\"Cluster 2\", fontsize=20)\n",
    "\n",
    "plt.show()"
   ]
  },
  {
   "cell_type": "markdown",
   "id": "a68407eb",
   "metadata": {},
   "source": [
    "### creatinine_phosphokinase feature:"
   ]
  },
  {
   "cell_type": "code",
   "execution_count": 48,
   "id": "4a5d3dcc",
   "metadata": {},
   "outputs": [
    {
     "data": {
      "image/png": "[encoded data removed]",
      "text/plain": [
       "<Figure size 432x288 with 1 Axes>"
      ]
     },
     "metadata": {
      "needs_background": "light"
     },
     "output_type": "display_data"
    }
   ],
   "source": [
    "# creatinine_phosphokinase mean for each clusters (0,1,2):\n",
    "plt.bar(1,cluster_0[\"creatinine_phosphokinase\"].mean())\n",
    "plt.bar(2,cluster_1[\"creatinine_phosphokinase\"].mean())\n",
    "plt.bar(3,cluster_2[\"creatinine_phosphokinase\"].mean())\n",
    "plt.title(\"creatinine_phosphokinase\", fontsize=20)\n",
    "plt.xticks(ticks=[1,2,3], labels=['cluster_0','cluster_1','cluster_2'])\n",
    "plt.show()"
   ]
  },
  {
   "cell_type": "markdown",
   "id": "a151c564",
   "metadata": {},
   "source": [
    "### ejection_fraction feature:"
   ]
  },
  {
   "cell_type": "code",
   "execution_count": 49,
   "id": "f449b40b",
   "metadata": {},
   "outputs": [
    {
     "data": {
      "image/png": "[encoded data removed]",
      "text/plain": [
       "<Figure size 432x288 with 1 Axes>"
      ]
     },
     "metadata": {
      "needs_background": "light"
     },
     "output_type": "display_data"
    }
   ],
   "source": [
    "# ejection_fraction mean for each clusters (0,1,2):\n",
    "plt.bar(1,cluster_0[\"ejection_fraction\"].mean())\n",
    "plt.bar(2,cluster_1[\"ejection_fraction\"].mean())\n",
    "plt.bar(3,cluster_2[\"ejection_fraction\"].mean())\n",
    "plt.title(\"ejection_fraction\", fontsize=20)\n",
    "plt.xticks(ticks=[1,2,3], labels=['cluster_0','cluster_1','cluster_2'])\n",
    "plt.show()"
   ]
  },
  {
   "cell_type": "markdown",
   "id": "e5d795e3",
   "metadata": {},
   "source": [
    "### platelets feature:"
   ]
  },
  {
   "cell_type": "code",
   "execution_count": 50,
   "id": "ed520f94",
   "metadata": {},
   "outputs": [
    {
     "data": {
      "image/png": "[encoded data removed]",
      "text/plain": [
       "<Figure size 432x288 with 1 Axes>"
      ]
     },
     "metadata": {
      "needs_background": "light"
     },
     "output_type": "display_data"
    }
   ],
   "source": [
    "# platelets mean for each clusters (0,1,2):\n",
    "plt.bar(1,cluster_0[\"platelets\"].mean())\n",
    "plt.bar(2,cluster_1[\"platelets\"].mean())\n",
    "plt.bar(3,cluster_2[\"platelets\"].mean())\n",
    "plt.xticks(ticks=[1,2,3], labels=['cluster_0','cluster_1','cluster_2'])\n",
    "plt.show()"
   ]
  },
  {
   "cell_type": "markdown",
   "id": "076c45b1",
   "metadata": {},
   "source": [
    "### serum_creatinine feature:"
   ]
  },
  {
   "cell_type": "code",
   "execution_count": 51,
   "id": "d0e3490d",
   "metadata": {},
   "outputs": [
    {
     "data": {
      "image/png": "[encoded data removed]",
      "text/plain": [
       "<Figure size 432x288 with 1 Axes>"
      ]
     },
     "metadata": {
      "needs_background": "light"
     },
     "output_type": "display_data"
    }
   ],
   "source": [
    "# serum_creatinine mean for each clusters (0,1,2):\n",
    "plt.bar(1,cluster_0[\"serum_creatinine\"].mean())\n",
    "plt.bar(2,cluster_1[\"serum_creatinine\"].mean())\n",
    "plt.bar(3,cluster_2[\"serum_creatinine\"].mean())\n",
    "plt.xticks(ticks=[1,2,3], labels=['cluster_0','cluster_1','cluster_2'])\n",
    "plt.show()"
   ]
  },
  {
   "cell_type": "markdown",
   "id": "d466923c",
   "metadata": {},
   "source": [
    "### serum_sodium feature:"
   ]
  },
  {
   "cell_type": "code",
   "execution_count": 52,
   "id": "fa84623e",
   "metadata": {},
   "outputs": [
    {
     "data": {
      "image/png": "[encoded data removed]",
      "text/plain": [
       "<Figure size 432x288 with 1 Axes>"
      ]
     },
     "metadata": {
      "needs_background": "light"
     },
     "output_type": "display_data"
    }
   ],
   "source": [
    "# serum_sodium mean for each clusters (0,1,2):\n",
    "plt.bar(1,cluster_0[\"serum_sodium\"].mean())\n",
    "plt.bar(2,cluster_1[\"serum_sodium\"].mean())\n",
    "plt.bar(3,cluster_2[\"serum_sodium\"].mean())\n",
    "plt.xticks(ticks=[1,2,3], labels=['cluster_0','cluster_1','cluster_2'])\n",
    "plt.show()"
   ]
  },
  {
   "cell_type": "markdown",
   "id": "49602f05",
   "metadata": {},
   "source": [
    "### anaemia feature:"
   ]
  },
  {
   "cell_type": "code",
   "execution_count": 53,
   "id": "9b2d440e",
   "metadata": {},
   "outputs": [
    {
     "data": {
      "text/plain": [
       "0    57\n",
       "1    45\n",
       "Name: anaemia, dtype: int64"
      ]
     },
     "execution_count": 53,
     "metadata": {},
     "output_type": "execute_result"
    }
   ],
   "source": [
    "# Cluster_0\n",
    "cluster_0[\"anaemia\"].value_counts()"
   ]
  },
  {
   "cell_type": "code",
   "execution_count": 54,
   "id": "bbc4cdce",
   "metadata": {},
   "outputs": [
    {
     "data": {
      "text/plain": [
       "0    53\n",
       "1    52\n",
       "Name: anaemia, dtype: int64"
      ]
     },
     "execution_count": 54,
     "metadata": {},
     "output_type": "execute_result"
    }
   ],
   "source": [
    "# Cluster_1\n",
    "cluster_1[\"anaemia\"].value_counts()"
   ]
  },
  {
   "cell_type": "code",
   "execution_count": 55,
   "id": "cfef48ab",
   "metadata": {},
   "outputs": [
    {
     "data": {
      "text/plain": [
       "0    60\n",
       "1    32\n",
       "Name: anaemia, dtype: int64"
      ]
     },
     "execution_count": 55,
     "metadata": {},
     "output_type": "execute_result"
    }
   ],
   "source": [
    "# Cluster_2\n",
    "cluster_2[\"anaemia\"].value_counts()"
   ]
  },
  {
   "cell_type": "markdown",
   "id": "1f7c3dab",
   "metadata": {},
   "source": [
    "### diabetes feature:"
   ]
  },
  {
   "cell_type": "code",
   "execution_count": 56,
   "id": "7e2c160c",
   "metadata": {},
   "outputs": [
    {
     "data": {
      "text/plain": [
       "0    60\n",
       "1    42\n",
       "Name: diabetes, dtype: int64"
      ]
     },
     "execution_count": 56,
     "metadata": {},
     "output_type": "execute_result"
    }
   ],
   "source": [
    "# Cluster_0\n",
    "cluster_0[\"diabetes\"].value_counts()"
   ]
  },
  {
   "cell_type": "code",
   "execution_count": 57,
   "id": "312aa96e",
   "metadata": {},
   "outputs": [
    {
     "data": {
      "text/plain": [
       "1    55\n",
       "0    50\n",
       "Name: diabetes, dtype: int64"
      ]
     },
     "execution_count": 57,
     "metadata": {},
     "output_type": "execute_result"
    }
   ],
   "source": [
    "# Cluster_1\n",
    "cluster_1[\"diabetes\"].value_counts()"
   ]
  },
  {
   "cell_type": "code",
   "execution_count": 58,
   "id": "fb048b42",
   "metadata": {},
   "outputs": [
    {
     "data": {
      "text/plain": [
       "0    64\n",
       "1    28\n",
       "Name: diabetes, dtype: int64"
      ]
     },
     "execution_count": 58,
     "metadata": {},
     "output_type": "execute_result"
    }
   ],
   "source": [
    "# Cluster_2\n",
    "cluster_2[\"diabetes\"].value_counts()"
   ]
  },
  {
   "cell_type": "markdown",
   "id": "ba8bb6c0",
   "metadata": {},
   "source": [
    "### high_blood_pressure feature:"
   ]
  },
  {
   "cell_type": "code",
   "execution_count": 59,
   "id": "fe4ae9cf",
   "metadata": {},
   "outputs": [
    {
     "data": {
      "text/plain": [
       "0    68\n",
       "1    34\n",
       "Name: high_blood_pressure, dtype: int64"
      ]
     },
     "execution_count": 59,
     "metadata": {},
     "output_type": "execute_result"
    }
   ],
   "source": [
    "# Cluster_0\n",
    "cluster_0[\"high_blood_pressure\"].value_counts()"
   ]
  },
  {
   "cell_type": "code",
   "execution_count": 60,
   "id": "d151057b",
   "metadata": {},
   "outputs": [
    {
     "data": {
      "text/plain": [
       "0    61\n",
       "1    44\n",
       "Name: high_blood_pressure, dtype: int64"
      ]
     },
     "execution_count": 60,
     "metadata": {},
     "output_type": "execute_result"
    }
   ],
   "source": [
    "# Cluster_1\n",
    "cluster_1[\"high_blood_pressure\"].value_counts()"
   ]
  },
  {
   "cell_type": "code",
   "execution_count": 61,
   "id": "6047e37f",
   "metadata": {},
   "outputs": [
    {
     "data": {
      "text/plain": [
       "0    65\n",
       "1    27\n",
       "Name: high_blood_pressure, dtype: int64"
      ]
     },
     "execution_count": 61,
     "metadata": {},
     "output_type": "execute_result"
    }
   ],
   "source": [
    "# Cluster_2\n",
    "cluster_2[\"high_blood_pressure\"].value_counts()"
   ]
  },
  {
   "cell_type": "markdown",
   "id": "ee15c42f",
   "metadata": {},
   "source": [
    "### Sex feature:"
   ]
  },
  {
   "cell_type": "code",
   "execution_count": 62,
   "id": "6850e991",
   "metadata": {},
   "outputs": [
    {
     "name": "stdout",
     "output_type": "stream",
     "text": [
      "1    102\n",
      "Name: sex, dtype: int64\n"
     ]
    }
   ],
   "source": [
    "# Cluster_0\n",
    "print(cluster_0[\"sex\"].value_counts())"
   ]
  },
  {
   "cell_type": "code",
   "execution_count": 63,
   "id": "1d2bb0a5",
   "metadata": {},
   "outputs": [
    {
     "name": "stdout",
     "output_type": "stream",
     "text": [
      "0    105\n",
      "Name: sex, dtype: int64\n"
     ]
    }
   ],
   "source": [
    "# Cluster_1\n",
    "print(cluster_1[\"sex\"].value_counts())"
   ]
  },
  {
   "cell_type": "code",
   "execution_count": 64,
   "id": "42334d62",
   "metadata": {},
   "outputs": [
    {
     "name": "stdout",
     "output_type": "stream",
     "text": [
      "1    92\n",
      "Name: sex, dtype: int64\n"
     ]
    }
   ],
   "source": [
    "# Cluster_2\n",
    "print(cluster_2[\"sex\"].value_counts())"
   ]
  },
  {
   "cell_type": "markdown",
   "id": "4160258c",
   "metadata": {},
   "source": [
    "### Smokers Features:"
   ]
  },
  {
   "cell_type": "code",
   "execution_count": 65,
   "id": "d6c1cd38",
   "metadata": {},
   "outputs": [
    {
     "name": "stdout",
     "output_type": "stream",
     "text": [
      "Percentage of smokers,\n",
      "Cluster 0 : 0.0\n",
      "Cluster 1 : 0.0380952380952381\n",
      "Cluster 2 : 1.0\n"
     ]
    }
   ],
   "source": [
    "print(\"Percentage of smokers,\")\n",
    "print(\"Cluster 0 :\", len(cluster_0[cluster_0[\"smoking\"] == 1])/len(cluster_0))\n",
    "print(\"Cluster 1 :\", len(cluster_1[cluster_1[\"smoking\"] == 1])/len(cluster_1))\n",
    "print(\"Cluster 2 :\", len(cluster_2[cluster_2[\"smoking\"] == 1])/len(cluster_2))"
   ]
  },
  {
   "cell_type": "code",
   "execution_count": null,
   "id": "66728b96",
   "metadata": {
    "jupyter": {
     "source_hidden": true
    },
    "tags": []
   },
   "outputs": [],
   "source": []
  },
  {
   "cell_type": "markdown",
   "id": "4d185559",
   "metadata": {},
   "source": [
    "# Analysis:"
   ]
  },
  {
   "cell_type": "markdown",
   "id": "453e268c",
   "metadata": {},
   "source": [
    "- In **Cluster 2**, all the patients is **SMOKERS.**"
   ]
  },
  {
   "cell_type": "markdown",
   "id": "cc172007",
   "metadata": {},
   "source": [
    "- In **Cluster 1**, all the patients are **FEMALE.**\n",
    "- In **Cluster 0** & **Cluster 2**, all the patients are **MALE.**"
   ]
  },
  {
   "cell_type": "code",
   "execution_count": null,
   "id": "c8981764",
   "metadata": {
    "jupyter": {
     "source_hidden": true
    },
    "tags": []
   },
   "outputs": [],
   "source": []
  }
 ],
 "metadata": {
  "kernelspec": {
   "display_name": "Python 3 (ipykernel)",
   "language": "python",
   "name": "python3"
  },
  "language_info": {
   "codemirror_mode": {
    "name": "ipython",
    "version": 3
   },
   "file_extension": ".py",
   "mimetype": "text/x-python",
   "name": "python",
   "nbconvert_exporter": "python",
   "pygments_lexer": "ipython3",
   "version": "3.9.12"
  }
 },
 "nbformat": 4,
 "nbformat_minor": 5
}
